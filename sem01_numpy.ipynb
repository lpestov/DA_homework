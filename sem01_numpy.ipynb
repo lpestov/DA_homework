{
 "cells": [
  {
   "cell_type": "markdown",
   "metadata": {
    "id": "AZWv9kfVsJoD"
   },
   "source": [
    "# Семинар 1: знакомство с NumPy\n"
   ]
  },
  {
   "cell_type": "markdown",
   "metadata": {
    "id": "V600EszQsJoE"
   },
   "source": [
    "## Немного про Jupyter notebook"
   ]
  },
  {
   "cell_type": "markdown",
   "metadata": {
    "id": "-ib2TL50sJoE"
   },
   "source": [
    "Полная документация: https://devpractice.ru/python-lesson-6-work-in-jupyter-notebook/\n",
    "\n",
    "---\n",
    "В Jupyter Notebook есть два режима работы: режим _команд_ и режим _редактирования_\n",
    "\n",
    "_Командный_ режим нужен для того, чтобы взаимодействовать и управлять ячейками (добавлять, удалять, запускать, копировать, ...)\n",
    "\n",
    "В режиме _редактирования_ вы меняете содержимое ячейки.\n",
    "\n",
    "Ячейки бывают двух основных типов, _код_ и _разметка_\n",
    "\n",
    "### Полезные команды\n",
    "\n",
    "(находясь в командном режиме)\n",
    "\n",
    "- `a` - добавить пустую ячейку сверху\n",
    "\n",
    "- `b` - добавить пустую ячейку снизу\n",
    "- `c` - скопировать текущую ячейку\n",
    "- `v` - вставить скопированную ячейку\n",
    "- `d` - удалить текущую ячейку\n",
    "- `x` - вырезать (удалить и скопировать) текущую ячейку\n",
    "- `m` - изменить тип выбранной ячейки на \"разметка\"\n",
    "- `y` - изменить тип выбранной ячейки на \"код\"\n",
    "- `z` - отменить последнее действие\n",
    "\n",
    "\n",
    "- `Enter` - начать редактировать выбранную ячейку\n",
    "\n",
    "(будучи в режим редактирования ячейки)\n",
    "- `esc` - вернуться в командный режим\n",
    "\n",
    "(будучи в любом режиме)\n",
    "\n",
    "- `Ctrl + Enter` - запустить выбранную ячейку\n",
    "- `Shift + Enter` - запустить выбранную ячейку и выбрать следующую"
   ]
  },
  {
   "cell_type": "code",
   "execution_count": 96,
   "metadata": {
    "colab": {
     "base_uri": "https://localhost:8080/"
    },
    "id": "bfUTDOlZsJoE",
    "executionInfo": {
     "status": "ok",
     "timestamp": 1721842244265,
     "user_tz": -300,
     "elapsed": 2,
     "user": {
      "displayName": "Kersol Wis",
      "userId": "03370264508777321550"
     }
    },
    "outputId": "35cc894e-d0a7-4af9-d493-b2ebf8edd86a"
   },
   "outputs": [
    {
     "output_type": "execute_result",
     "data": {
      "text/plain": [
       "4"
      ]
     },
     "metadata": {},
     "execution_count": 96
    }
   ],
   "source": [
    "2 + 2"
   ]
  },
  {
   "cell_type": "markdown",
   "metadata": {
    "id": "P6IA_CdGsJoF"
   },
   "source": [
    "## numpy"
   ]
  },
  {
   "cell_type": "markdown",
   "metadata": {
    "id": "zth2P6GmsJoF"
   },
   "source": [
    "- документация: http://www.numpy.org/"
   ]
  },
  {
   "cell_type": "markdown",
   "metadata": {
    "id": "DbtvAK2wsJoF"
   },
   "source": [
    "Библиотека numpy является удобным инструментом для работы с многомерными массивами с возможностью векторизации вычислений. Рассмотрим базовые вещи, которые можно делать с помощью нее."
   ]
  },
  {
   "cell_type": "code",
   "execution_count": 97,
   "metadata": {
    "id": "iPZZoMhKsJoF",
    "executionInfo": {
     "status": "ok",
     "timestamp": 1721842244666,
     "user_tz": -300,
     "elapsed": 7,
     "user": {
      "displayName": "Kersol Wis",
      "userId": "03370264508777321550"
     }
    }
   },
   "outputs": [],
   "source": [
    "import numpy as np"
   ]
  },
  {
   "cell_type": "code",
   "execution_count": 98,
   "metadata": {
    "id": "NoWdKRTysJoF",
    "executionInfo": {
     "status": "ok",
     "timestamp": 1721842244666,
     "user_tz": -300,
     "elapsed": 7,
     "user": {
      "displayName": "Kersol Wis",
      "userId": "03370264508777321550"
     }
    }
   },
   "outputs": [],
   "source": [
    "vec = np.array([[1, 2], [3, 4], [5, 6]])"
   ]
  },
  {
   "cell_type": "code",
   "execution_count": 99,
   "metadata": {
    "colab": {
     "base_uri": "https://localhost:8080/"
    },
    "id": "Cky3RiKgsJoG",
    "executionInfo": {
     "status": "ok",
     "timestamp": 1721842244666,
     "user_tz": -300,
     "elapsed": 7,
     "user": {
      "displayName": "Kersol Wis",
      "userId": "03370264508777321550"
     }
    },
    "outputId": "f99fb170-ce5a-447f-903a-cd9b899f6587"
   },
   "outputs": [
    {
     "output_type": "execute_result",
     "data": {
      "text/plain": [
       "array([[1, 2],\n",
       "       [3, 4],\n",
       "       [5, 6]])"
      ]
     },
     "metadata": {},
     "execution_count": 99
    }
   ],
   "source": [
    "vec"
   ]
  },
  {
   "cell_type": "code",
   "execution_count": 100,
   "metadata": {
    "colab": {
     "base_uri": "https://localhost:8080/"
    },
    "id": "zEigOHYGsJoG",
    "executionInfo": {
     "status": "ok",
     "timestamp": 1721842244666,
     "user_tz": -300,
     "elapsed": 7,
     "user": {
      "displayName": "Kersol Wis",
      "userId": "03370264508777321550"
     }
    },
    "outputId": "b7eb65eb-182f-40ff-f9fa-65fa03357737"
   },
   "outputs": [
    {
     "output_type": "stream",
     "name": "stdout",
     "text": [
      "[[1 2]\n",
      " [3 4]\n",
      " [5 6]]\n"
     ]
    }
   ],
   "source": [
    "print(vec)"
   ]
  },
  {
   "cell_type": "markdown",
   "metadata": {
    "id": "XZwCgoQWsJoG"
   },
   "source": [
    "С чем мы работаем?"
   ]
  },
  {
   "cell_type": "code",
   "execution_count": 101,
   "metadata": {
    "colab": {
     "base_uri": "https://localhost:8080/"
    },
    "id": "Z7BCRFgqsJoG",
    "executionInfo": {
     "status": "ok",
     "timestamp": 1721842244666,
     "user_tz": -300,
     "elapsed": 5,
     "user": {
      "displayName": "Kersol Wis",
      "userId": "03370264508777321550"
     }
    },
    "outputId": "a649b129-142f-41b1-ca07-5766167d68e4"
   },
   "outputs": [
    {
     "output_type": "execute_result",
     "data": {
      "text/plain": [
       "dtype('int64')"
      ]
     },
     "metadata": {},
     "execution_count": 101
    }
   ],
   "source": [
    "vec.dtype"
   ]
  },
  {
   "cell_type": "code",
   "execution_count": 102,
   "metadata": {
    "colab": {
     "base_uri": "https://localhost:8080/"
    },
    "id": "3-IsNHNwsJoG",
    "executionInfo": {
     "status": "ok",
     "timestamp": 1721842244666,
     "user_tz": -300,
     "elapsed": 4,
     "user": {
      "displayName": "Kersol Wis",
      "userId": "03370264508777321550"
     }
    },
    "outputId": "7e8185f1-6c41-415e-8910-51ab5081607c"
   },
   "outputs": [
    {
     "output_type": "execute_result",
     "data": {
      "text/plain": [
       "numpy.ndarray"
      ]
     },
     "metadata": {},
     "execution_count": 102
    }
   ],
   "source": [
    "type(vec)"
   ]
  },
  {
   "cell_type": "markdown",
   "metadata": {
    "id": "YU3agG5-sJoG"
   },
   "source": [
    "Размер массива:"
   ]
  },
  {
   "cell_type": "code",
   "execution_count": 103,
   "metadata": {
    "colab": {
     "base_uri": "https://localhost:8080/"
    },
    "id": "xagXp0LFsJoG",
    "executionInfo": {
     "status": "ok",
     "timestamp": 1721842244666,
     "user_tz": -300,
     "elapsed": 3,
     "user": {
      "displayName": "Kersol Wis",
      "userId": "03370264508777321550"
     }
    },
    "outputId": "5b918036-f813-4e24-9729-189e122eecaa"
   },
   "outputs": [
    {
     "output_type": "execute_result",
     "data": {
      "text/plain": [
       "(3, 2)"
      ]
     },
     "metadata": {},
     "execution_count": 103
    }
   ],
   "source": [
    "vec.shape"
   ]
  },
  {
   "cell_type": "markdown",
   "metadata": {
    "id": "3l2baQdesJoG"
   },
   "source": [
    "Число осей:"
   ]
  },
  {
   "cell_type": "code",
   "execution_count": 104,
   "metadata": {
    "colab": {
     "base_uri": "https://localhost:8080/"
    },
    "id": "uzOBuuFXsJoG",
    "executionInfo": {
     "status": "ok",
     "timestamp": 1721842244666,
     "user_tz": -300,
     "elapsed": 3,
     "user": {
      "displayName": "Kersol Wis",
      "userId": "03370264508777321550"
     }
    },
    "outputId": "04d39138-25ae-45aa-c56b-78e51767e6c6"
   },
   "outputs": [
    {
     "output_type": "execute_result",
     "data": {
      "text/plain": [
       "2"
      ]
     },
     "metadata": {},
     "execution_count": 104
    }
   ],
   "source": [
    "vec.ndim"
   ]
  },
  {
   "cell_type": "markdown",
   "metadata": {
    "id": "FuSYXeFbsJoH"
   },
   "source": [
    "У некоторых функций бывает параметр `axis`, который позволяет применить эту функцию по разным осям - в данном случае, по строкам или столбцам:"
   ]
  },
  {
   "cell_type": "code",
   "execution_count": 105,
   "metadata": {
    "colab": {
     "base_uri": "https://localhost:8080/"
    },
    "id": "2gE0ShJBsJoH",
    "executionInfo": {
     "status": "ok",
     "timestamp": 1721842244666,
     "user_tz": -300,
     "elapsed": 2,
     "user": {
      "displayName": "Kersol Wis",
      "userId": "03370264508777321550"
     }
    },
    "outputId": "f71a1e35-2b3b-482d-d71c-de9ef3619d8a"
   },
   "outputs": [
    {
     "output_type": "execute_result",
     "data": {
      "text/plain": [
       "21"
      ]
     },
     "metadata": {},
     "execution_count": 105
    }
   ],
   "source": [
    "np.sum(vec)"
   ]
  },
  {
   "cell_type": "code",
   "execution_count": 106,
   "metadata": {
    "colab": {
     "base_uri": "https://localhost:8080/"
    },
    "id": "Tu435X_JsJoH",
    "executionInfo": {
     "status": "ok",
     "timestamp": 1721842245233,
     "user_tz": -300,
     "elapsed": 15,
     "user": {
      "displayName": "Kersol Wis",
      "userId": "03370264508777321550"
     }
    },
    "outputId": "572daca4-60f7-4fec-b885-4ee1aea4a876"
   },
   "outputs": [
    {
     "output_type": "execute_result",
     "data": {
      "text/plain": [
       "array([ 9, 12])"
      ]
     },
     "metadata": {},
     "execution_count": 106
    }
   ],
   "source": [
    "np.sum(vec, axis=0)"
   ]
  },
  {
   "cell_type": "code",
   "execution_count": 107,
   "metadata": {
    "colab": {
     "base_uri": "https://localhost:8080/"
    },
    "id": "7KL_yjZdsJoH",
    "executionInfo": {
     "status": "ok",
     "timestamp": 1721842245233,
     "user_tz": -300,
     "elapsed": 14,
     "user": {
      "displayName": "Kersol Wis",
      "userId": "03370264508777321550"
     }
    },
    "outputId": "18cd2c77-3b49-4e49-b789-153e04f3a450"
   },
   "outputs": [
    {
     "output_type": "execute_result",
     "data": {
      "text/plain": [
       "array([ 3,  7, 11])"
      ]
     },
     "metadata": {},
     "execution_count": 107
    }
   ],
   "source": [
    "np.sum(vec, axis=1)"
   ]
  },
  {
   "cell_type": "code",
   "execution_count": 108,
   "metadata": {
    "colab": {
     "base_uri": "https://localhost:8080/"
    },
    "id": "a5pdHmYXsJoH",
    "executionInfo": {
     "status": "ok",
     "timestamp": 1721842245233,
     "user_tz": -300,
     "elapsed": 13,
     "user": {
      "displayName": "Kersol Wis",
      "userId": "03370264508777321550"
     }
    },
    "outputId": "66da2fd9-50a5-4d8f-a740-6c35a4670da8"
   },
   "outputs": [
    {
     "output_type": "execute_result",
     "data": {
      "text/plain": [
       "21"
      ]
     },
     "metadata": {},
     "execution_count": 108
    }
   ],
   "source": [
    "vec.sum()"
   ]
  },
  {
   "cell_type": "markdown",
   "metadata": {
    "id": "GtU_qJL0sJoH"
   },
   "source": [
    "Транспонируем массив:"
   ]
  },
  {
   "cell_type": "code",
   "execution_count": 109,
   "metadata": {
    "colab": {
     "base_uri": "https://localhost:8080/"
    },
    "id": "ED6l1vPXsJoH",
    "executionInfo": {
     "status": "ok",
     "timestamp": 1721842245233,
     "user_tz": -300,
     "elapsed": 13,
     "user": {
      "displayName": "Kersol Wis",
      "userId": "03370264508777321550"
     }
    },
    "outputId": "f3721998-a668-49fe-b057-5ec6f9355a6f"
   },
   "outputs": [
    {
     "output_type": "execute_result",
     "data": {
      "text/plain": [
       "array([[1, 3, 5],\n",
       "       [2, 4, 6]])"
      ]
     },
     "metadata": {},
     "execution_count": 109
    }
   ],
   "source": [
    "vec.T"
   ]
  },
  {
   "cell_type": "code",
   "execution_count": 110,
   "metadata": {
    "colab": {
     "base_uri": "https://localhost:8080/"
    },
    "id": "_ydbgPfJsJoH",
    "executionInfo": {
     "status": "ok",
     "timestamp": 1721842245233,
     "user_tz": -300,
     "elapsed": 12,
     "user": {
      "displayName": "Kersol Wis",
      "userId": "03370264508777321550"
     }
    },
    "outputId": "68a800da-91e3-497e-c340-efac9d9aed9d"
   },
   "outputs": [
    {
     "output_type": "execute_result",
     "data": {
      "text/plain": [
       "array([[1, 3, 5],\n",
       "       [2, 4, 6]])"
      ]
     },
     "metadata": {},
     "execution_count": 110
    }
   ],
   "source": [
    "vec.transpose()"
   ]
  },
  {
   "cell_type": "markdown",
   "metadata": {
    "id": "5maRyZ_gsJoH"
   },
   "source": [
    "Обратите внимание, что переменная `vec` не поменялась!"
   ]
  },
  {
   "cell_type": "code",
   "execution_count": 111,
   "metadata": {
    "colab": {
     "base_uri": "https://localhost:8080/"
    },
    "id": "P5_nyqvmsJoH",
    "executionInfo": {
     "status": "ok",
     "timestamp": 1721842245233,
     "user_tz": -300,
     "elapsed": 11,
     "user": {
      "displayName": "Kersol Wis",
      "userId": "03370264508777321550"
     }
    },
    "outputId": "52948e36-0838-45ac-a73b-c82d522f30e4"
   },
   "outputs": [
    {
     "output_type": "execute_result",
     "data": {
      "text/plain": [
       "array([[1, 2],\n",
       "       [3, 4],\n",
       "       [5, 6]])"
      ]
     },
     "metadata": {},
     "execution_count": 111
    }
   ],
   "source": [
    "vec"
   ]
  },
  {
   "cell_type": "markdown",
   "metadata": {
    "id": "P1q-EIeYsJoH"
   },
   "source": [
    "Размеры массивов можно менять:"
   ]
  },
  {
   "cell_type": "code",
   "execution_count": 112,
   "metadata": {
    "colab": {
     "base_uri": "https://localhost:8080/"
    },
    "id": "8KtPkmnusJoI",
    "executionInfo": {
     "status": "ok",
     "timestamp": 1721842245233,
     "user_tz": -300,
     "elapsed": 10,
     "user": {
      "displayName": "Kersol Wis",
      "userId": "03370264508777321550"
     }
    },
    "outputId": "2cb202e4-ca2c-4a30-b1c0-fb0f4b06f464"
   },
   "outputs": [
    {
     "output_type": "execute_result",
     "data": {
      "text/plain": [
       "array([[1, 2, 3],\n",
       "       [4, 5, 6]])"
      ]
     },
     "metadata": {},
     "execution_count": 112
    }
   ],
   "source": [
    "vec.reshape(2, 3)"
   ]
  },
  {
   "cell_type": "code",
   "execution_count": 113,
   "metadata": {
    "colab": {
     "base_uri": "https://localhost:8080/"
    },
    "id": "_A8L3H7xsJoI",
    "executionInfo": {
     "status": "ok",
     "timestamp": 1721842245234,
     "user_tz": -300,
     "elapsed": 10,
     "user": {
      "displayName": "Kersol Wis",
      "userId": "03370264508777321550"
     }
    },
    "outputId": "798d17e5-2b5c-4d55-bd30-602d6c545ca2"
   },
   "outputs": [
    {
     "output_type": "execute_result",
     "data": {
      "text/plain": [
       "array([[1, 2, 3],\n",
       "       [4, 5, 6]])"
      ]
     },
     "metadata": {},
     "execution_count": 113
    }
   ],
   "source": [
    "vec.reshape(-1, 3)"
   ]
  },
  {
   "cell_type": "code",
   "execution_count": 114,
   "metadata": {
    "colab": {
     "base_uri": "https://localhost:8080/"
    },
    "id": "1jGFcUGjsJoI",
    "executionInfo": {
     "status": "ok",
     "timestamp": 1721842245234,
     "user_tz": -300,
     "elapsed": 10,
     "user": {
      "displayName": "Kersol Wis",
      "userId": "03370264508777321550"
     }
    },
    "outputId": "b886d867-5a92-4301-f50a-688ef06dbde0"
   },
   "outputs": [
    {
     "output_type": "execute_result",
     "data": {
      "text/plain": [
       "array([[1, 2, 3],\n",
       "       [4, 5, 6]])"
      ]
     },
     "metadata": {},
     "execution_count": 114
    }
   ],
   "source": [
    "vec.reshape(2, -1)"
   ]
  },
  {
   "cell_type": "markdown",
   "metadata": {
    "id": "WXTklAADsJoI"
   },
   "source": [
    "Индексирование:"
   ]
  },
  {
   "cell_type": "code",
   "execution_count": 115,
   "metadata": {
    "colab": {
     "base_uri": "https://localhost:8080/"
    },
    "id": "4ZXW2R3bsJoI",
    "executionInfo": {
     "status": "ok",
     "timestamp": 1721842245234,
     "user_tz": -300,
     "elapsed": 9,
     "user": {
      "displayName": "Kersol Wis",
      "userId": "03370264508777321550"
     }
    },
    "outputId": "7cc9a959-3b50-4c25-c8f6-b8f966fccc04"
   },
   "outputs": [
    {
     "output_type": "execute_result",
     "data": {
      "text/plain": [
       "array([2, 4, 6])"
      ]
     },
     "metadata": {},
     "execution_count": 115
    }
   ],
   "source": [
    "vec[:, 1]"
   ]
  },
  {
   "cell_type": "code",
   "execution_count": 116,
   "metadata": {
    "colab": {
     "base_uri": "https://localhost:8080/"
    },
    "id": "GTwPK3afsJoI",
    "executionInfo": {
     "status": "ok",
     "timestamp": 1721842245234,
     "user_tz": -300,
     "elapsed": 8,
     "user": {
      "displayName": "Kersol Wis",
      "userId": "03370264508777321550"
     }
    },
    "outputId": "2f9c4e80-1e83-4a0f-8190-2eb5aec0e795"
   },
   "outputs": [
    {
     "output_type": "execute_result",
     "data": {
      "text/plain": [
       "array([5, 6])"
      ]
     },
     "metadata": {},
     "execution_count": 116
    }
   ],
   "source": [
    "vec[2, :]"
   ]
  },
  {
   "cell_type": "code",
   "execution_count": 117,
   "metadata": {
    "colab": {
     "base_uri": "https://localhost:8080/"
    },
    "id": "QRuJoyAHsJoI",
    "executionInfo": {
     "status": "ok",
     "timestamp": 1721842245234,
     "user_tz": -300,
     "elapsed": 8,
     "user": {
      "displayName": "Kersol Wis",
      "userId": "03370264508777321550"
     }
    },
    "outputId": "8d4c9f58-628d-4dd4-db22-839a524e0523"
   },
   "outputs": [
    {
     "output_type": "execute_result",
     "data": {
      "text/plain": [
       "array([3])"
      ]
     },
     "metadata": {},
     "execution_count": 117
    }
   ],
   "source": [
    "vec[1:2, 0]"
   ]
  },
  {
   "cell_type": "code",
   "execution_count": 118,
   "metadata": {
    "colab": {
     "base_uri": "https://localhost:8080/"
    },
    "id": "hJn8ri05sJoI",
    "executionInfo": {
     "status": "ok",
     "timestamp": 1721842245234,
     "user_tz": -300,
     "elapsed": 7,
     "user": {
      "displayName": "Kersol Wis",
      "userId": "03370264508777321550"
     }
    },
    "outputId": "11c664f9-e9ab-418a-8b57-08a35f61c415"
   },
   "outputs": [
    {
     "output_type": "execute_result",
     "data": {
      "text/plain": [
       "array([[1, 2],\n",
       "       [5, 6]])"
      ]
     },
     "metadata": {},
     "execution_count": 118
    }
   ],
   "source": [
    "vec[::2, :]"
   ]
  },
  {
   "cell_type": "markdown",
   "metadata": {
    "id": "_YVJ7xDCsJoI"
   },
   "source": [
    "И, наконец - арифметические операции!"
   ]
  },
  {
   "cell_type": "code",
   "execution_count": 119,
   "metadata": {
    "colab": {
     "base_uri": "https://localhost:8080/"
    },
    "id": "-gEgG8RSsJoI",
    "executionInfo": {
     "status": "ok",
     "timestamp": 1721842245234,
     "user_tz": -300,
     "elapsed": 6,
     "user": {
      "displayName": "Kersol Wis",
      "userId": "03370264508777321550"
     }
    },
    "outputId": "992ce01f-5074-4bb1-c3d6-6393c739f389"
   },
   "outputs": [
    {
     "output_type": "execute_result",
     "data": {
      "text/plain": [
       "array([[2, 3],\n",
       "       [4, 5],\n",
       "       [6, 7]])"
      ]
     },
     "metadata": {},
     "execution_count": 119
    }
   ],
   "source": [
    "vec + 1"
   ]
  },
  {
   "cell_type": "code",
   "execution_count": 120,
   "metadata": {
    "colab": {
     "base_uri": "https://localhost:8080/"
    },
    "id": "qRcnK-tQsJoJ",
    "executionInfo": {
     "status": "ok",
     "timestamp": 1721842245234,
     "user_tz": -300,
     "elapsed": 6,
     "user": {
      "displayName": "Kersol Wis",
      "userId": "03370264508777321550"
     }
    },
    "outputId": "a369494c-6097-47a3-9ca4-98a1002d458c"
   },
   "outputs": [
    {
     "output_type": "execute_result",
     "data": {
      "text/plain": [
       "array([[ 2,  4],\n",
       "       [ 6,  8],\n",
       "       [10, 12]])"
      ]
     },
     "metadata": {},
     "execution_count": 120
    }
   ],
   "source": [
    "vec * 2"
   ]
  },
  {
   "cell_type": "code",
   "execution_count": 121,
   "metadata": {
    "colab": {
     "base_uri": "https://localhost:8080/"
    },
    "id": "9E-ykh87sJoJ",
    "executionInfo": {
     "status": "ok",
     "timestamp": 1721842245234,
     "user_tz": -300,
     "elapsed": 5,
     "user": {
      "displayName": "Kersol Wis",
      "userId": "03370264508777321550"
     }
    },
    "outputId": "b067c170-0c4b-4e7c-f2ea-df8c056f51c8"
   },
   "outputs": [
    {
     "output_type": "execute_result",
     "data": {
      "text/plain": [
       "array([[ 1,  4],\n",
       "       [ 9, 16],\n",
       "       [25, 36]])"
      ]
     },
     "metadata": {},
     "execution_count": 121
    }
   ],
   "source": [
    "vec**2"
   ]
  },
  {
   "cell_type": "code",
   "execution_count": 122,
   "metadata": {
    "colab": {
     "base_uri": "https://localhost:8080/"
    },
    "id": "5XJzbykGsJoJ",
    "executionInfo": {
     "status": "ok",
     "timestamp": 1721842245234,
     "user_tz": -300,
     "elapsed": 4,
     "user": {
      "displayName": "Kersol Wis",
      "userId": "03370264508777321550"
     }
    },
    "outputId": "fadc5ec2-b11a-4d23-84e5-4c98f4bf9706"
   },
   "outputs": [
    {
     "output_type": "execute_result",
     "data": {
      "text/plain": [
       "array([[ 2,  6],\n",
       "       [12, 20],\n",
       "       [30, 42]])"
      ]
     },
     "metadata": {},
     "execution_count": 122
    }
   ],
   "source": [
    "vec + vec**2"
   ]
  },
  {
   "cell_type": "code",
   "execution_count": 123,
   "metadata": {
    "colab": {
     "base_uri": "https://localhost:8080/"
    },
    "id": "SBZns0L8sJoJ",
    "executionInfo": {
     "status": "ok",
     "timestamp": 1721842245653,
     "user_tz": -300,
     "elapsed": 422,
     "user": {
      "displayName": "Kersol Wis",
      "userId": "03370264508777321550"
     }
    },
    "outputId": "20ab0e96-dc73-420c-85ec-a0b13582e898"
   },
   "outputs": [
    {
     "output_type": "execute_result",
     "data": {
      "text/plain": [
       "array([[  1,   8],\n",
       "       [ 27,  64],\n",
       "       [125, 216]])"
      ]
     },
     "metadata": {},
     "execution_count": 123
    }
   ],
   "source": [
    "vec * vec**2"
   ]
  },
  {
   "cell_type": "code",
   "execution_count": 124,
   "metadata": {
    "colab": {
     "base_uri": "https://localhost:8080/"
    },
    "id": "X6Wq2KgusJoJ",
    "executionInfo": {
     "status": "ok",
     "timestamp": 1721842245653,
     "user_tz": -300,
     "elapsed": 21,
     "user": {
      "displayName": "Kersol Wis",
      "userId": "03370264508777321550"
     }
    },
    "outputId": "92e86463-9eb0-4a4d-fd22-c8ad5b3eb1b7"
   },
   "outputs": [
    {
     "output_type": "execute_result",
     "data": {
      "text/plain": [
       "array([[ 0.84147098,  0.90929743],\n",
       "       [ 0.14112001, -0.7568025 ],\n",
       "       [-0.95892427, -0.2794155 ]])"
      ]
     },
     "metadata": {},
     "execution_count": 124
    }
   ],
   "source": [
    "np.sin(vec)"
   ]
  },
  {
   "cell_type": "markdown",
   "metadata": {
    "id": "B2NZVg07sJoJ"
   },
   "source": [
    "Матричное умножение:"
   ]
  },
  {
   "cell_type": "code",
   "execution_count": 125,
   "metadata": {
    "id": "T37-y2kCsJoJ",
    "executionInfo": {
     "status": "ok",
     "timestamp": 1721842245653,
     "user_tz": -300,
     "elapsed": 21,
     "user": {
      "displayName": "Kersol Wis",
      "userId": "03370264508777321550"
     }
    }
   },
   "outputs": [],
   "source": [
    "# vec.dot(vec**2) тут ошибка!"
   ]
  },
  {
   "cell_type": "code",
   "execution_count": 126,
   "metadata": {
    "colab": {
     "base_uri": "https://localhost:8080/"
    },
    "id": "lIC8E53fsJoJ",
    "executionInfo": {
     "status": "ok",
     "timestamp": 1721842245653,
     "user_tz": -300,
     "elapsed": 21,
     "user": {
      "displayName": "Kersol Wis",
      "userId": "03370264508777321550"
     }
    },
    "outputId": "d1f8f510-2d79-4674-b5f0-2942eda565df"
   },
   "outputs": [
    {
     "output_type": "execute_result",
     "data": {
      "text/plain": [
       "array([[  9,  41,  97],\n",
       "       [ 19,  91, 219],\n",
       "       [ 29, 141, 341]])"
      ]
     },
     "metadata": {},
     "execution_count": 126
    }
   ],
   "source": [
    "vec.dot((vec**2).T)"
   ]
  },
  {
   "cell_type": "code",
   "execution_count": 127,
   "metadata": {
    "colab": {
     "base_uri": "https://localhost:8080/"
    },
    "id": "oUBAJBqxsJoK",
    "executionInfo": {
     "status": "ok",
     "timestamp": 1721842245653,
     "user_tz": -300,
     "elapsed": 20,
     "user": {
      "displayName": "Kersol Wis",
      "userId": "03370264508777321550"
     }
    },
    "outputId": "3effa612-fbd8-4a34-9126-e02b9e1429b8"
   },
   "outputs": [
    {
     "output_type": "execute_result",
     "data": {
      "text/plain": [
       "array([[  9,  41,  97],\n",
       "       [ 19,  91, 219],\n",
       "       [ 29, 141, 341]])"
      ]
     },
     "metadata": {},
     "execution_count": 127
    }
   ],
   "source": [
    "vec @ (vec**2).T"
   ]
  },
  {
   "cell_type": "markdown",
   "metadata": {
    "id": "ysJNAePusJoK"
   },
   "source": [
    "Broadcasting:\n",
    "https://docs.scipy.org/doc/numpy-1.15.0/user/basics.broadcasting.html"
   ]
  },
  {
   "cell_type": "code",
   "execution_count": 128,
   "metadata": {
    "colab": {
     "base_uri": "https://localhost:8080/"
    },
    "id": "iMV2q_r6sJoK",
    "executionInfo": {
     "status": "ok",
     "timestamp": 1721842245653,
     "user_tz": -300,
     "elapsed": 19,
     "user": {
      "displayName": "Kersol Wis",
      "userId": "03370264508777321550"
     }
    },
    "outputId": "441c13a9-3b92-4f8f-c1b5-9f1a2eaa1ecf"
   },
   "outputs": [
    {
     "output_type": "execute_result",
     "data": {
      "text/plain": [
       "array([[1, 2],\n",
       "       [3, 4],\n",
       "       [5, 6]])"
      ]
     },
     "metadata": {},
     "execution_count": 128
    }
   ],
   "source": [
    "vec"
   ]
  },
  {
   "cell_type": "code",
   "execution_count": 129,
   "metadata": {
    "colab": {
     "base_uri": "https://localhost:8080/"
    },
    "id": "xtJlI_oSsJoK",
    "executionInfo": {
     "status": "ok",
     "timestamp": 1721842245653,
     "user_tz": -300,
     "elapsed": 18,
     "user": {
      "displayName": "Kersol Wis",
      "userId": "03370264508777321550"
     }
    },
    "outputId": "de40922e-7e57-48c5-d3ec-3549d135582f"
   },
   "outputs": [
    {
     "output_type": "execute_result",
     "data": {
      "text/plain": [
       "array([[0],\n",
       "       [1],\n",
       "       [2]])"
      ]
     },
     "metadata": {},
     "execution_count": 129
    }
   ],
   "source": [
    "np.arange(3).reshape(3, 1)"
   ]
  },
  {
   "cell_type": "code",
   "execution_count": 130,
   "metadata": {
    "colab": {
     "base_uri": "https://localhost:8080/"
    },
    "id": "JXkgjN7hsJoK",
    "executionInfo": {
     "status": "ok",
     "timestamp": 1721842245653,
     "user_tz": -300,
     "elapsed": 17,
     "user": {
      "displayName": "Kersol Wis",
      "userId": "03370264508777321550"
     }
    },
    "outputId": "e3c5fbf6-4304-4039-8d03-aea83b257b53"
   },
   "outputs": [
    {
     "output_type": "execute_result",
     "data": {
      "text/plain": [
       "array([[1, 2],\n",
       "       [4, 5],\n",
       "       [7, 8]])"
      ]
     },
     "metadata": {},
     "execution_count": 130
    }
   ],
   "source": [
    "vec + np.arange(3).reshape(3, 1)"
   ]
  },
  {
   "cell_type": "markdown",
   "metadata": {
    "id": "cAcfRZASsJoK"
   },
   "source": [
    "Булевы массивы:"
   ]
  },
  {
   "cell_type": "code",
   "execution_count": 131,
   "metadata": {
    "colab": {
     "base_uri": "https://localhost:8080/"
    },
    "id": "0vmieyVysJoK",
    "executionInfo": {
     "status": "ok",
     "timestamp": 1721842245653,
     "user_tz": -300,
     "elapsed": 16,
     "user": {
      "displayName": "Kersol Wis",
      "userId": "03370264508777321550"
     }
    },
    "outputId": "c8ef4a62-0a86-48ab-85a5-969b9dbb014e"
   },
   "outputs": [
    {
     "output_type": "stream",
     "name": "stdout",
     "text": [
      "[[False  True]\n",
      " [False  True]\n",
      " [False  True]]\n"
     ]
    }
   ],
   "source": [
    "is_even = vec % 2 == 0\n",
    "print(is_even)"
   ]
  },
  {
   "cell_type": "code",
   "execution_count": 132,
   "metadata": {
    "colab": {
     "base_uri": "https://localhost:8080/"
    },
    "id": "g3G5JqEvsJoK",
    "executionInfo": {
     "status": "ok",
     "timestamp": 1721842245653,
     "user_tz": -300,
     "elapsed": 15,
     "user": {
      "displayName": "Kersol Wis",
      "userId": "03370264508777321550"
     }
    },
    "outputId": "a069c691-902f-4d40-a17b-2f80c8792f36"
   },
   "outputs": [
    {
     "output_type": "execute_result",
     "data": {
      "text/plain": [
       "3"
      ]
     },
     "metadata": {},
     "execution_count": 132
    }
   ],
   "source": [
    "np.sum(is_even)"
   ]
  },
  {
   "cell_type": "markdown",
   "metadata": {
    "id": "CAkx_NfEsJoK"
   },
   "source": [
    "Булевы массивы позволяют вытаскивать элементы с True из массива того-же размера"
   ]
  },
  {
   "cell_type": "code",
   "execution_count": 133,
   "metadata": {
    "colab": {
     "base_uri": "https://localhost:8080/"
    },
    "id": "Inwk9bO0sJoK",
    "executionInfo": {
     "status": "ok",
     "timestamp": 1721842245653,
     "user_tz": -300,
     "elapsed": 14,
     "user": {
      "displayName": "Kersol Wis",
      "userId": "03370264508777321550"
     }
    },
    "outputId": "51fed54d-f72b-4d9c-c7b4-1a5fefe979b9"
   },
   "outputs": [
    {
     "output_type": "execute_result",
     "data": {
      "text/plain": [
       "array([2, 4, 6])"
      ]
     },
     "metadata": {},
     "execution_count": 133
    }
   ],
   "source": [
    "vec[vec % 2 == 0]"
   ]
  },
  {
   "cell_type": "markdown",
   "metadata": {
    "id": "NKDrs9hzsJoL"
   },
   "source": [
    "Иногда бывает полезно создавать специфичные массивы. Массив из нулей:"
   ]
  },
  {
   "cell_type": "code",
   "execution_count": 134,
   "metadata": {
    "colab": {
     "base_uri": "https://localhost:8080/"
    },
    "id": "sOtE1kmRsJoL",
    "executionInfo": {
     "status": "ok",
     "timestamp": 1721842245653,
     "user_tz": -300,
     "elapsed": 13,
     "user": {
      "displayName": "Kersol Wis",
      "userId": "03370264508777321550"
     }
    },
    "outputId": "7d05ba75-2bcd-4efc-ab34-223e06fe9061"
   },
   "outputs": [
    {
     "output_type": "execute_result",
     "data": {
      "text/plain": [
       "array([[0., 0., 0.],\n",
       "       [0., 0., 0.]])"
      ]
     },
     "metadata": {},
     "execution_count": 134
    }
   ],
   "source": [
    "np.zeros((2, 3))"
   ]
  },
  {
   "cell_type": "markdown",
   "metadata": {
    "id": "utVZ_KPWsJoL"
   },
   "source": [
    "Массив из единиц:"
   ]
  },
  {
   "cell_type": "code",
   "execution_count": 135,
   "metadata": {
    "colab": {
     "base_uri": "https://localhost:8080/"
    },
    "id": "e3i7t192sJoL",
    "executionInfo": {
     "status": "ok",
     "timestamp": 1721842245653,
     "user_tz": -300,
     "elapsed": 12,
     "user": {
      "displayName": "Kersol Wis",
      "userId": "03370264508777321550"
     }
    },
    "outputId": "d4a04681-6478-407f-b831-e9cd4e5e4b2a"
   },
   "outputs": [
    {
     "output_type": "execute_result",
     "data": {
      "text/plain": [
       "array([[1., 1.],\n",
       "       [1., 1.],\n",
       "       [1., 1.]])"
      ]
     },
     "metadata": {},
     "execution_count": 135
    }
   ],
   "source": [
    "np.ones((3, 2))"
   ]
  },
  {
   "cell_type": "markdown",
   "metadata": {
    "id": "k_avjkmJsJoL"
   },
   "source": [
    "Единичная матрица:"
   ]
  },
  {
   "cell_type": "code",
   "execution_count": 136,
   "metadata": {
    "colab": {
     "base_uri": "https://localhost:8080/"
    },
    "id": "wwUkIR3AsJoL",
    "executionInfo": {
     "status": "ok",
     "timestamp": 1721842245653,
     "user_tz": -300,
     "elapsed": 11,
     "user": {
      "displayName": "Kersol Wis",
      "userId": "03370264508777321550"
     }
    },
    "outputId": "dfbc2997-2919-44de-d188-19deee6d2111"
   },
   "outputs": [
    {
     "output_type": "execute_result",
     "data": {
      "text/plain": [
       "array([[1., 0., 0., 0., 0.],\n",
       "       [0., 1., 0., 0., 0.],\n",
       "       [0., 0., 1., 0., 0.],\n",
       "       [0., 0., 0., 1., 0.],\n",
       "       [0., 0., 0., 0., 1.]])"
      ]
     },
     "metadata": {},
     "execution_count": 136
    }
   ],
   "source": [
    "np.identity(5)"
   ]
  },
  {
   "cell_type": "markdown",
   "metadata": {
    "id": "XKBpePtXsJoL"
   },
   "source": [
    "Массивы можно объединять:"
   ]
  },
  {
   "cell_type": "code",
   "execution_count": 137,
   "metadata": {
    "colab": {
     "base_uri": "https://localhost:8080/"
    },
    "id": "JW1NDSk5sJoL",
    "executionInfo": {
     "status": "ok",
     "timestamp": 1721842245653,
     "user_tz": -300,
     "elapsed": 10,
     "user": {
      "displayName": "Kersol Wis",
      "userId": "03370264508777321550"
     }
    },
    "outputId": "25badce4-bedb-4b3e-e395-264ad2da502e"
   },
   "outputs": [
    {
     "output_type": "execute_result",
     "data": {
      "text/plain": [
       "array([[1, 2],\n",
       "       [3, 4],\n",
       "       [5, 6]])"
      ]
     },
     "metadata": {},
     "execution_count": 137
    }
   ],
   "source": [
    "vec"
   ]
  },
  {
   "cell_type": "code",
   "execution_count": 138,
   "metadata": {
    "colab": {
     "base_uri": "https://localhost:8080/"
    },
    "id": "qZFdfu1EsJoL",
    "executionInfo": {
     "status": "ok",
     "timestamp": 1721842245653,
     "user_tz": -300,
     "elapsed": 9,
     "user": {
      "displayName": "Kersol Wis",
      "userId": "03370264508777321550"
     }
    },
    "outputId": "2e5871a3-aead-402b-e1f6-6201ee55d67f"
   },
   "outputs": [
    {
     "output_type": "execute_result",
     "data": {
      "text/plain": [
       "array([[1., 2., 0., 0.],\n",
       "       [3., 4., 0., 0.],\n",
       "       [5., 6., 0., 0.]])"
      ]
     },
     "metadata": {},
     "execution_count": 138
    }
   ],
   "source": [
    "np.hstack((vec, np.zeros(vec.shape)))"
   ]
  },
  {
   "cell_type": "code",
   "execution_count": 139,
   "metadata": {
    "colab": {
     "base_uri": "https://localhost:8080/"
    },
    "id": "MSGpwb0fsJoL",
    "executionInfo": {
     "status": "ok",
     "timestamp": 1721842245653,
     "user_tz": -300,
     "elapsed": 8,
     "user": {
      "displayName": "Kersol Wis",
      "userId": "03370264508777321550"
     }
    },
    "outputId": "7735ccfa-79a5-4b5e-c75f-1af18b27b51b"
   },
   "outputs": [
    {
     "output_type": "execute_result",
     "data": {
      "text/plain": [
       "array([[1., 2.],\n",
       "       [3., 4.],\n",
       "       [5., 6.],\n",
       "       [0., 0.],\n",
       "       [0., 0.],\n",
       "       [0., 0.]])"
      ]
     },
     "metadata": {},
     "execution_count": 139
    }
   ],
   "source": [
    "np.vstack((vec, np.zeros(vec.shape)))"
   ]
  },
  {
   "cell_type": "markdown",
   "metadata": {
    "id": "rrzi85e3sJoM"
   },
   "source": [
    "Генерация случайных чисел:"
   ]
  },
  {
   "cell_type": "code",
   "execution_count": 140,
   "metadata": {
    "colab": {
     "base_uri": "https://localhost:8080/"
    },
    "id": "KpbeBqzmsJoM",
    "executionInfo": {
     "status": "ok",
     "timestamp": 1721842245653,
     "user_tz": -300,
     "elapsed": 7,
     "user": {
      "displayName": "Kersol Wis",
      "userId": "03370264508777321550"
     }
    },
    "outputId": "ed859613-4660-4383-958d-3a4e660534f6"
   },
   "outputs": [
    {
     "output_type": "execute_result",
     "data": {
      "text/plain": [
       "array([[0.33671926, 0.69634152, 0.44107856],\n",
       "       [0.67951058, 0.2952619 , 0.44636216]])"
      ]
     },
     "metadata": {},
     "execution_count": 140
    }
   ],
   "source": [
    "np.random.rand(2, 3)"
   ]
  },
  {
   "cell_type": "code",
   "execution_count": 141,
   "metadata": {
    "colab": {
     "base_uri": "https://localhost:8080/"
    },
    "id": "dpJZeULUsJoM",
    "executionInfo": {
     "status": "ok",
     "timestamp": 1721842245653,
     "user_tz": -300,
     "elapsed": 6,
     "user": {
      "displayName": "Kersol Wis",
      "userId": "03370264508777321550"
     }
    },
    "outputId": "4da2234d-612c-477c-b02a-bb99f359227c"
   },
   "outputs": [
    {
     "output_type": "execute_result",
     "data": {
      "text/plain": [
       "array([[0.90348221, 0.39308051, 0.62396996],\n",
       "       [0.6378774 , 0.88049907, 0.29917202]])"
      ]
     },
     "metadata": {},
     "execution_count": 141
    }
   ],
   "source": [
    "np.random.seed(2019)\n",
    "np.random.rand(2, 3)"
   ]
  },
  {
   "cell_type": "code",
   "execution_count": 142,
   "metadata": {
    "colab": {
     "base_uri": "https://localhost:8080/"
    },
    "id": "mLx9bZCMsJoM",
    "executionInfo": {
     "status": "ok",
     "timestamp": 1721842245654,
     "user_tz": -300,
     "elapsed": 7,
     "user": {
      "displayName": "Kersol Wis",
      "userId": "03370264508777321550"
     }
    },
    "outputId": "1996e722-ca39-4233-a59e-8e9a3c439b56"
   },
   "outputs": [
    {
     "output_type": "execute_result",
     "data": {
      "text/plain": [
       "array([[ 0.57376143,  0.28772767],\n",
       "       [-0.23563426,  0.95349024],\n",
       "       [-1.6896253 , -0.34494271]])"
      ]
     },
     "metadata": {},
     "execution_count": 142
    }
   ],
   "source": [
    "np.random.randn(3, 2)"
   ]
  },
  {
   "cell_type": "code",
   "execution_count": 143,
   "metadata": {
    "colab": {
     "base_uri": "https://localhost:8080/"
    },
    "id": "9p8QVu25sJoM",
    "executionInfo": {
     "status": "ok",
     "timestamp": 1721842245654,
     "user_tz": -300,
     "elapsed": 6,
     "user": {
      "displayName": "Kersol Wis",
      "userId": "03370264508777321550"
     }
    },
    "outputId": "2e717557-8259-44d8-ecba-e644d269cc08"
   },
   "outputs": [
    {
     "output_type": "execute_result",
     "data": {
      "text/plain": [
       "array([2.0169049 , 1.48501648, 2.24450929])"
      ]
     },
     "metadata": {},
     "execution_count": 143
    }
   ],
   "source": [
    "np.random.normal(2, 1, size=3)"
   ]
  },
  {
   "cell_type": "code",
   "execution_count": 144,
   "metadata": {
    "colab": {
     "base_uri": "https://localhost:8080/"
    },
    "id": "b0J-3_FDsJoM",
    "executionInfo": {
     "status": "ok",
     "timestamp": 1721842245654,
     "user_tz": -300,
     "elapsed": 5,
     "user": {
      "displayName": "Kersol Wis",
      "userId": "03370264508777321550"
     }
    },
    "outputId": "ba3ef32d-e2d7-4726-d5e1-5a968ef45a6b"
   },
   "outputs": [
    {
     "output_type": "execute_result",
     "data": {
      "text/plain": [
       "array([8, 6, 8])"
      ]
     },
     "metadata": {},
     "execution_count": 144
    }
   ],
   "source": [
    "np.random.randint(5, 10, size=3)"
   ]
  },
  {
   "cell_type": "markdown",
   "metadata": {
    "id": "gGjLnUutsJoM"
   },
   "source": [
    "Почему вообще используют `numpy`?"
   ]
  },
  {
   "cell_type": "code",
   "execution_count": 145,
   "metadata": {
    "id": "m5EzrAHysJoM",
    "executionInfo": {
     "status": "ok",
     "timestamp": 1721842245654,
     "user_tz": -300,
     "elapsed": 4,
     "user": {
      "displayName": "Kersol Wis",
      "userId": "03370264508777321550"
     }
    }
   },
   "outputs": [],
   "source": [
    "n = 300\n",
    "A = np.random.rand(n, n)\n",
    "B = np.random.rand(n, n)"
   ]
  },
  {
   "cell_type": "code",
   "execution_count": 151,
   "metadata": {
    "colab": {
     "base_uri": "https://localhost:8080/"
    },
    "id": "1eCAVvIzsJoM",
    "executionInfo": {
     "status": "ok",
     "timestamp": 1721844173280,
     "user_tz": -300,
     "elapsed": 29156,
     "user": {
      "displayName": "Kersol Wis",
      "userId": "03370264508777321550"
     }
    },
    "outputId": "3ffa5bb1-d033-472c-f3c1-bdb3588cedc2"
   },
   "outputs": [
    {
     "output_type": "stream",
     "name": "stdout",
     "text": [
      "CPU times: user 28.5 s, sys: 22.5 ms, total: 28.5 s\n",
      "Wall time: 28.8 s\n"
     ]
    }
   ],
   "source": [
    "%%time\n",
    "C = np.zeros((n, n))\n",
    "for i in range(n):\n",
    "    for j in range(n):\n",
    "        for k in range(n):\n",
    "            C[i, j] += A[i, k] * B[k, j]"
   ]
  },
  {
   "cell_type": "code",
   "execution_count": 147,
   "metadata": {
    "colab": {
     "base_uri": "https://localhost:8080/"
    },
    "id": "LciHVgs0sJoM",
    "executionInfo": {
     "status": "ok",
     "timestamp": 1721842258850,
     "user_tz": -300,
     "elapsed": 6,
     "user": {
      "displayName": "Kersol Wis",
      "userId": "03370264508777321550"
     }
    },
    "outputId": "b2ff470b-cedf-41be-d4c8-0f94b29c6365"
   },
   "outputs": [
    {
     "output_type": "stream",
     "name": "stdout",
     "text": [
      "CPU times: user 5.74 ms, sys: 0 ns, total: 5.74 ms\n",
      "Wall time: 12.1 ms\n"
     ]
    }
   ],
   "source": [
    "%%time\n",
    "C = A @ B"
   ]
  },
  {
   "cell_type": "markdown",
   "metadata": {
    "id": "XVQ1NvF5sJoN"
   },
   "source": [
    "### Задания для самостоятельного решения"
   ]
  },
  {
   "cell_type": "markdown",
   "metadata": {
    "id": "0MvrRvI8sJoN"
   },
   "source": [
    "1. Развернуть одномерный массив (сделать так, чтобы его элементы шли в обратном порядке).\n",
    "2. Найти максимальный нечетный элемент в массиве.\n",
    "3. Замените все нечетные элементы массива на ваше любимое число.\n",
    "4. Создайте массив первых n нечетных чисел, записанных в порядке убывания. Например, если `n=5`, то ответом будет `array([9, 7, 5, 3, 1])`. *Функции, которые могут пригодиться при решении: `.arange()`*\n",
    "5. Вычислите самое близкое и самое дальнее числа к данному в рассматриваемом массиве чисел. Например, если на вход поступают массив `array([0, 1, 2, 3, 4])` и число 1.33, то ответом будет `(1, 4)`. _Функции, которые могут пригодиться при решении: `.abs()`, `.argmax()`, `.argmin()`_\n",
    "6. Вычисляющую первообразную заданного полинома (в качестве константы возьмите ваше любимое число). Например, если на вход поступает массив коэффициентов `array([4, 6, 0, 1])`, что соответствует полиному $4x^3 + 6x^2 + 1$, на выходе получается массив коэффициентов `array([1, 2, 0, 1, -2])`, соответствующий полиному $x^4 + 2x^3 + x - 2$. _Функции, которые могут пригодиться при решении: `.append()`_\n",
    "7. Пользуясь пунктом 6, посчитайте первую производную для заданного полинома в заданной точке."
   ]
  },
  {
   "cell_type": "code",
   "execution_count": 150,
   "metadata": {
    "colab": {
     "base_uri": "https://localhost:8080/"
    },
    "id": "bptPcxQIsJoN",
    "executionInfo": {
     "status": "ok",
     "timestamp": 1721844079060,
     "user_tz": -300,
     "elapsed": 370,
     "user": {
      "displayName": "Kersol Wis",
      "userId": "03370264508777321550"
     }
    },
    "outputId": "b2bc424c-a163-47ec-9b60-1eabaf5a0f2e"
   },
   "outputs": [
    {
     "output_type": "execute_result",
     "data": {
      "text/plain": [
       "(array([10,  9,  8,  7,  6,  5,  4,  3,  2,  1]),\n",
       " array([10,  9,  8,  7,  6,  5,  4,  3,  2,  1]))"
      ]
     },
     "metadata": {},
     "execution_count": 150
    }
   ],
   "source": [
    "arr = np.array([1, 2, 3, 4, 5, 6, 7, 8, 9, 10])\n",
    "np.flip(arr), arr[::-1]"
   ]
  },
  {
   "cell_type": "code",
   "source": [
    "odd = arr[arr % 2 == 0] # фильтр\n",
    "np.max(odd), odd.max()"
   ],
   "metadata": {
    "colab": {
     "base_uri": "https://localhost:8080/"
    },
    "id": "G3SjwJjg56pj",
    "executionInfo": {
     "status": "ok",
     "timestamp": 1721844239907,
     "user_tz": -300,
     "elapsed": 350,
     "user": {
      "displayName": "Kersol Wis",
      "userId": "03370264508777321550"
     }
    },
    "outputId": "4cb68730-391c-4b8e-959b-817a7bb95ef7"
   },
   "execution_count": 152,
   "outputs": [
    {
     "output_type": "execute_result",
     "data": {
      "text/plain": [
       "(10, 10)"
      ]
     },
     "metadata": {},
     "execution_count": 152
    }
   ]
  },
  {
   "cell_type": "code",
   "source": [
    "arr[arr % 2 == 1] = 7\n",
    "arr"
   ],
   "metadata": {
    "colab": {
     "base_uri": "https://localhost:8080/"
    },
    "id": "C88JxcNw6lXo",
    "executionInfo": {
     "status": "ok",
     "timestamp": 1721844385140,
     "user_tz": -300,
     "elapsed": 364,
     "user": {
      "displayName": "Kersol Wis",
      "userId": "03370264508777321550"
     }
    },
    "outputId": "e6629616-a721-4915-c81e-c318938e8266"
   },
   "execution_count": 153,
   "outputs": [
    {
     "output_type": "execute_result",
     "data": {
      "text/plain": [
       "array([ 7,  2,  7,  4,  7,  6,  7,  8,  7, 10])"
      ]
     },
     "metadata": {},
     "execution_count": 153
    }
   ]
  },
  {
   "cell_type": "code",
   "source": [
    "n = int(input())\n",
    "#arr = np.arange(n*2)\n",
    "#arr = arr[arr % 2 == 1]\n",
    "#arr[::-1]\n",
    "arr = np.arange(n * 2 - 1, 0, -2)\n",
    "arr"
   ],
   "metadata": {
    "colab": {
     "base_uri": "https://localhost:8080/"
    },
    "id": "O0fbpJxC7EyN",
    "executionInfo": {
     "status": "ok",
     "timestamp": 1721844786530,
     "user_tz": -300,
     "elapsed": 1371,
     "user": {
      "displayName": "Kersol Wis",
      "userId": "03370264508777321550"
     }
    },
    "outputId": "3e554c55-9047-42cf-c710-65b87445ec89"
   },
   "execution_count": 157,
   "outputs": [
    {
     "name": "stdout",
     "output_type": "stream",
     "text": [
      "5\n"
     ]
    },
    {
     "output_type": "execute_result",
     "data": {
      "text/plain": [
       "array([9, 7, 5, 3, 1])"
      ]
     },
     "metadata": {},
     "execution_count": 157
    }
   ]
  },
  {
   "cell_type": "code",
   "source": [
    "n = float(input())\n",
    "arr = np.arange(0, 5)\n",
    "res = np.abs(arr - n)\n",
    "res.argmin(), res.argmax()"
   ],
   "metadata": {
    "colab": {
     "base_uri": "https://localhost:8080/"
    },
    "id": "a4IAnr6w8vov",
    "executionInfo": {
     "status": "ok",
     "timestamp": 1721845181848,
     "user_tz": -300,
     "elapsed": 3463,
     "user": {
      "displayName": "Kersol Wis",
      "userId": "03370264508777321550"
     }
    },
    "outputId": "a8d5875b-564d-453e-8e16-c2ba7103aba4"
   },
   "execution_count": 162,
   "outputs": [
    {
     "name": "stdout",
     "output_type": "stream",
     "text": [
      "1.33\n"
     ]
    },
    {
     "output_type": "execute_result",
     "data": {
      "text/plain": [
       "(1, 4)"
      ]
     },
     "metadata": {},
     "execution_count": 162
    }
   ]
  },
  {
   "cell_type": "code",
   "source": [
    "arr = np.array([4, 6, 0, 1])\n",
    "pows = np.arange(len(arr), 0 , -1)\n",
    "ad = np.append(arr / pows, -5)\n",
    "ad"
   ],
   "metadata": {
    "colab": {
     "base_uri": "https://localhost:8080/"
    },
    "id": "K2-PfzktAnAR",
    "executionInfo": {
     "status": "ok",
     "timestamp": 1721845906273,
     "user_tz": -300,
     "elapsed": 2,
     "user": {
      "displayName": "Kersol Wis",
      "userId": "03370264508777321550"
     }
    },
    "outputId": "08e0cdb8-387d-42ab-82e9-7ed94250863d"
   },
   "execution_count": 163,
   "outputs": [
    {
     "output_type": "execute_result",
     "data": {
      "text/plain": [
       "array([ 1.,  2.,  0.,  1., -5.])"
      ]
     },
     "metadata": {},
     "execution_count": 163
    }
   ]
  },
  {
   "metadata": {},
   "cell_type": "code",
   "outputs": [],
   "execution_count": null,
   "source": "# №7 ???"
  }
 ],
 "metadata": {
  "kernelspec": {
   "display_name": "Python 3",
   "language": "python",
   "name": "python3"
  },
  "language_info": {
   "codemirror_mode": {
    "name": "ipython",
    "version": 3
   },
   "file_extension": ".py",
   "mimetype": "text/x-python",
   "name": "python",
   "nbconvert_exporter": "python",
   "pygments_lexer": "ipython3",
   "version": "3.8.8"
  },
  "colab": {
   "provenance": []
  }
 },
 "nbformat": 4,
 "nbformat_minor": 0
}
