{
 "cells": [
  {
   "cell_type": "markdown",
   "metadata": {},
   "source": [
    "# Семинар 3: работа с таблицами в pandas\n",
    "\n",
    "## Вступление\n",
    "Сегодня мы начнём работать с табличными данными в питоне, и в этом нам поможет библиотека pandas. Pandas — это самый популярный инструмент для работы с данными. Цель семинара — познакомить вас с основными конструкциями pandas и научить им пользоваться.\n",
    "\n",
    "Почему pandas удобный?\n",
    "1.\tУдобное представление таблиц и куча готовых методов, как работать с этими таблицами\n",
    "2.\tПростота использования\n",
    "3.\tНаличие встроенных визуализаций\n",
    "4.\tНаличие всех функций из excel (и даже больше)\n",
    "5.\tУниверсальность инструмента, можно читать почти все табличные типы данных\n",
    "6.\tХорошо подходит для экспериментов с данными\n",
    "\n",
    "А почему он неудобный?\n",
    "1.\tМедленный\n",
    "2.\tЧаще всего нельзя использовать в проде из-за скорости\n",
    "3.\tИногда сложно интерпретировать код, написанный на pandas\n",
    "\n",
    "### План семинара\n",
    "1. Работаем с датасетом оценок студентов\n",
    "2. Работаем с датасетом пассажиров Титаника\n",
    "\n",
    "### Дополнительные материалы\n",
    "\n",
    "[Pandas Cheat Sheet](https://github.com/pandas-dev/pandas/blob/master/doc/cheatsheet/Pandas_Cheat_Sheet.pdf)\n",
    "\n",
    "[10 Minutes To Pandas](https://pandas.pydata.org/pandas-docs/stable/10min.html)\n",
    "\n",
    "[Pandas CookBook](https://pandas.pydata.org/pandas-docs/stable/cookbook.html#cookbook)"
   ]
  },
  {
   "cell_type": "code",
   "metadata": {
    "ExecuteTime": {
     "end_time": "2024-07-26T14:30:53.636342Z",
     "start_time": "2024-07-26T14:30:53.633866Z"
    }
   },
   "source": [
    "import matplotlib.pyplot as plt\n",
    "import numpy as np\n",
    "import pandas as pd"
   ],
   "outputs": [],
   "execution_count": 142
  },
  {
   "cell_type": "markdown",
   "metadata": {},
   "source": [
    "## 1. Работаем с датасетом оценок студентов\n",
    "\n",
    "Pandas предоставляет нам много различных инструментов работы с табличными данными. Главные из них — это: класс таблицы `pandas.core.frame.DataFrame` и его методы; класс серии данных (например, столбец таблицы) `pandas.core.series.Series` и его методы; и различные функции библиотеки. \n",
    "\n",
    "Начнём с подгрузки таблицы из файла и посмотрим на методы класса `DataFrame`."
   ]
  },
  {
   "cell_type": "code",
   "metadata": {
    "ExecuteTime": {
     "end_time": "2024-07-26T14:30:54.489067Z",
     "start_time": "2024-07-26T14:30:54.482117Z"
    }
   },
   "source": [
    "df = pd.read_csv(\"grades.csv\", sep=\",\", index_col=0)\n",
    "type(df)"
   ],
   "outputs": [
    {
     "data": {
      "text/plain": [
       "pandas.core.frame.DataFrame"
      ]
     },
     "execution_count": 143,
     "metadata": {},
     "output_type": "execute_result"
    }
   ],
   "execution_count": 143
  },
  {
   "cell_type": "code",
   "metadata": {
    "ExecuteTime": {
     "end_time": "2024-07-26T14:30:54.534694Z",
     "start_time": "2024-07-26T14:30:54.530717Z"
    }
   },
   "source": [
    "# размер таблицы\n",
    "df.shape"
   ],
   "outputs": [
    {
     "data": {
      "text/plain": [
       "(38, 10)"
      ]
     },
     "execution_count": 144,
     "metadata": {},
     "output_type": "execute_result"
    }
   ],
   "execution_count": 144
  },
  {
   "cell_type": "code",
   "metadata": {
    "ExecuteTime": {
     "end_time": "2024-07-26T14:30:54.616092Z",
     "start_time": "2024-07-26T14:30:54.604765Z"
    }
   },
   "source": [
    "# вывести начало таблицы\n",
    "df.head(5)"
   ],
   "outputs": [
    {
     "data": {
      "text/plain": [
       "         hash    0    1    2    3    4    5    6    7    8\n",
       "0  cbe32a2a1b  0.8  1.0  1.0  1.0  1.0  1.0  0.0  0.0  0.0\n",
       "1  caa93590ad  0.2  0.2  0.9  0.7  0.0  0.0  0.0  0.0  0.0\n",
       "2  5bbe47f96d  0.8  1.0  1.0  1.0  1.0  0.0  0.5  0.0  0.0\n",
       "3  3f187965b9  0.0  0.0  0.8  1.0  0.5  0.0  0.0  0.0  0.0\n",
       "4  bf1e56e185  0.0  0.0  0.0  0.0  0.0  0.0  0.0  0.0  0.0"
      ],
      "text/html": [
       "<div>\n",
       "<style scoped>\n",
       "    .dataframe tbody tr th:only-of-type {\n",
       "        vertical-align: middle;\n",
       "    }\n",
       "\n",
       "    .dataframe tbody tr th {\n",
       "        vertical-align: top;\n",
       "    }\n",
       "\n",
       "    .dataframe thead th {\n",
       "        text-align: right;\n",
       "    }\n",
       "</style>\n",
       "<table border=\"1\" class=\"dataframe\">\n",
       "  <thead>\n",
       "    <tr style=\"text-align: right;\">\n",
       "      <th></th>\n",
       "      <th>hash</th>\n",
       "      <th>0</th>\n",
       "      <th>1</th>\n",
       "      <th>2</th>\n",
       "      <th>3</th>\n",
       "      <th>4</th>\n",
       "      <th>5</th>\n",
       "      <th>6</th>\n",
       "      <th>7</th>\n",
       "      <th>8</th>\n",
       "    </tr>\n",
       "  </thead>\n",
       "  <tbody>\n",
       "    <tr>\n",
       "      <th>0</th>\n",
       "      <td>cbe32a2a1b</td>\n",
       "      <td>0.8</td>\n",
       "      <td>1.0</td>\n",
       "      <td>1.0</td>\n",
       "      <td>1.0</td>\n",
       "      <td>1.0</td>\n",
       "      <td>1.0</td>\n",
       "      <td>0.0</td>\n",
       "      <td>0.0</td>\n",
       "      <td>0.0</td>\n",
       "    </tr>\n",
       "    <tr>\n",
       "      <th>1</th>\n",
       "      <td>caa93590ad</td>\n",
       "      <td>0.2</td>\n",
       "      <td>0.2</td>\n",
       "      <td>0.9</td>\n",
       "      <td>0.7</td>\n",
       "      <td>0.0</td>\n",
       "      <td>0.0</td>\n",
       "      <td>0.0</td>\n",
       "      <td>0.0</td>\n",
       "      <td>0.0</td>\n",
       "    </tr>\n",
       "    <tr>\n",
       "      <th>2</th>\n",
       "      <td>5bbe47f96d</td>\n",
       "      <td>0.8</td>\n",
       "      <td>1.0</td>\n",
       "      <td>1.0</td>\n",
       "      <td>1.0</td>\n",
       "      <td>1.0</td>\n",
       "      <td>0.0</td>\n",
       "      <td>0.5</td>\n",
       "      <td>0.0</td>\n",
       "      <td>0.0</td>\n",
       "    </tr>\n",
       "    <tr>\n",
       "      <th>3</th>\n",
       "      <td>3f187965b9</td>\n",
       "      <td>0.0</td>\n",
       "      <td>0.0</td>\n",
       "      <td>0.8</td>\n",
       "      <td>1.0</td>\n",
       "      <td>0.5</td>\n",
       "      <td>0.0</td>\n",
       "      <td>0.0</td>\n",
       "      <td>0.0</td>\n",
       "      <td>0.0</td>\n",
       "    </tr>\n",
       "    <tr>\n",
       "      <th>4</th>\n",
       "      <td>bf1e56e185</td>\n",
       "      <td>0.0</td>\n",
       "      <td>0.0</td>\n",
       "      <td>0.0</td>\n",
       "      <td>0.0</td>\n",
       "      <td>0.0</td>\n",
       "      <td>0.0</td>\n",
       "      <td>0.0</td>\n",
       "      <td>0.0</td>\n",
       "      <td>0.0</td>\n",
       "    </tr>\n",
       "  </tbody>\n",
       "</table>\n",
       "</div>"
      ]
     },
     "execution_count": 145,
     "metadata": {},
     "output_type": "execute_result"
    }
   ],
   "execution_count": 145
  },
  {
   "cell_type": "code",
   "metadata": {
    "ExecuteTime": {
     "end_time": "2024-07-26T14:30:54.673638Z",
     "start_time": "2024-07-26T14:30:54.662723Z"
    }
   },
   "source": [
    "# вывести конец таблицы\n",
    "df.tail()"
   ],
   "outputs": [
    {
     "data": {
      "text/plain": [
       "          hash    0    1    2    3    4    5    6    7    8\n",
       "33  c11c124eb9  0.0  1.0  1.0  0.8  0.5  0.5  0.0  0.0  0.7\n",
       "34  8b4c1af94b  0.8  1.0  1.0  1.0  0.5  0.0  0.5  0.0  0.7\n",
       "35  e1388f2aae  0.0  0.5  0.0  0.0  0.0  0.0  0.0  0.0  0.0\n",
       "36  ee55242421  0.8  1.0  0.0  0.7  0.0  1.0  0.0  0.9  0.0\n",
       "37  d6c40a7f4b  0.0  1.0  0.0  0.0  0.0  0.0  0.0  0.0  0.0"
      ],
      "text/html": [
       "<div>\n",
       "<style scoped>\n",
       "    .dataframe tbody tr th:only-of-type {\n",
       "        vertical-align: middle;\n",
       "    }\n",
       "\n",
       "    .dataframe tbody tr th {\n",
       "        vertical-align: top;\n",
       "    }\n",
       "\n",
       "    .dataframe thead th {\n",
       "        text-align: right;\n",
       "    }\n",
       "</style>\n",
       "<table border=\"1\" class=\"dataframe\">\n",
       "  <thead>\n",
       "    <tr style=\"text-align: right;\">\n",
       "      <th></th>\n",
       "      <th>hash</th>\n",
       "      <th>0</th>\n",
       "      <th>1</th>\n",
       "      <th>2</th>\n",
       "      <th>3</th>\n",
       "      <th>4</th>\n",
       "      <th>5</th>\n",
       "      <th>6</th>\n",
       "      <th>7</th>\n",
       "      <th>8</th>\n",
       "    </tr>\n",
       "  </thead>\n",
       "  <tbody>\n",
       "    <tr>\n",
       "      <th>33</th>\n",
       "      <td>c11c124eb9</td>\n",
       "      <td>0.0</td>\n",
       "      <td>1.0</td>\n",
       "      <td>1.0</td>\n",
       "      <td>0.8</td>\n",
       "      <td>0.5</td>\n",
       "      <td>0.5</td>\n",
       "      <td>0.0</td>\n",
       "      <td>0.0</td>\n",
       "      <td>0.7</td>\n",
       "    </tr>\n",
       "    <tr>\n",
       "      <th>34</th>\n",
       "      <td>8b4c1af94b</td>\n",
       "      <td>0.8</td>\n",
       "      <td>1.0</td>\n",
       "      <td>1.0</td>\n",
       "      <td>1.0</td>\n",
       "      <td>0.5</td>\n",
       "      <td>0.0</td>\n",
       "      <td>0.5</td>\n",
       "      <td>0.0</td>\n",
       "      <td>0.7</td>\n",
       "    </tr>\n",
       "    <tr>\n",
       "      <th>35</th>\n",
       "      <td>e1388f2aae</td>\n",
       "      <td>0.0</td>\n",
       "      <td>0.5</td>\n",
       "      <td>0.0</td>\n",
       "      <td>0.0</td>\n",
       "      <td>0.0</td>\n",
       "      <td>0.0</td>\n",
       "      <td>0.0</td>\n",
       "      <td>0.0</td>\n",
       "      <td>0.0</td>\n",
       "    </tr>\n",
       "    <tr>\n",
       "      <th>36</th>\n",
       "      <td>ee55242421</td>\n",
       "      <td>0.8</td>\n",
       "      <td>1.0</td>\n",
       "      <td>0.0</td>\n",
       "      <td>0.7</td>\n",
       "      <td>0.0</td>\n",
       "      <td>1.0</td>\n",
       "      <td>0.0</td>\n",
       "      <td>0.9</td>\n",
       "      <td>0.0</td>\n",
       "    </tr>\n",
       "    <tr>\n",
       "      <th>37</th>\n",
       "      <td>d6c40a7f4b</td>\n",
       "      <td>0.0</td>\n",
       "      <td>1.0</td>\n",
       "      <td>0.0</td>\n",
       "      <td>0.0</td>\n",
       "      <td>0.0</td>\n",
       "      <td>0.0</td>\n",
       "      <td>0.0</td>\n",
       "      <td>0.0</td>\n",
       "      <td>0.0</td>\n",
       "    </tr>\n",
       "  </tbody>\n",
       "</table>\n",
       "</div>"
      ]
     },
     "execution_count": 146,
     "metadata": {},
     "output_type": "execute_result"
    }
   ],
   "execution_count": 146
  },
  {
   "cell_type": "code",
   "metadata": {
    "ExecuteTime": {
     "end_time": "2024-07-26T14:30:54.759484Z",
     "start_time": "2024-07-26T14:30:54.745999Z"
    }
   },
   "source": [
    "# выбрать случайные строки\n",
    "df.sample(n=5)"
   ],
   "outputs": [
    {
     "data": {
      "text/plain": [
       "          hash    0    1    2    3    4    5    6    7    8\n",
       "26  d7955cb7bc  0.0  0.7  1.0  1.0  0.0  0.5  0.0  0.0  0.0\n",
       "33  c11c124eb9  0.0  1.0  1.0  0.8  0.5  0.5  0.0  0.0  0.7\n",
       "35  e1388f2aae  0.0  0.5  0.0  0.0  0.0  0.0  0.0  0.0  0.0\n",
       "17  bae2523189  0.8  1.0  0.5  1.0  0.5  0.5  0.5  0.0  0.6\n",
       "1   caa93590ad  0.2  0.2  0.9  0.7  0.0  0.0  0.0  0.0  0.0"
      ],
      "text/html": [
       "<div>\n",
       "<style scoped>\n",
       "    .dataframe tbody tr th:only-of-type {\n",
       "        vertical-align: middle;\n",
       "    }\n",
       "\n",
       "    .dataframe tbody tr th {\n",
       "        vertical-align: top;\n",
       "    }\n",
       "\n",
       "    .dataframe thead th {\n",
       "        text-align: right;\n",
       "    }\n",
       "</style>\n",
       "<table border=\"1\" class=\"dataframe\">\n",
       "  <thead>\n",
       "    <tr style=\"text-align: right;\">\n",
       "      <th></th>\n",
       "      <th>hash</th>\n",
       "      <th>0</th>\n",
       "      <th>1</th>\n",
       "      <th>2</th>\n",
       "      <th>3</th>\n",
       "      <th>4</th>\n",
       "      <th>5</th>\n",
       "      <th>6</th>\n",
       "      <th>7</th>\n",
       "      <th>8</th>\n",
       "    </tr>\n",
       "  </thead>\n",
       "  <tbody>\n",
       "    <tr>\n",
       "      <th>26</th>\n",
       "      <td>d7955cb7bc</td>\n",
       "      <td>0.0</td>\n",
       "      <td>0.7</td>\n",
       "      <td>1.0</td>\n",
       "      <td>1.0</td>\n",
       "      <td>0.0</td>\n",
       "      <td>0.5</td>\n",
       "      <td>0.0</td>\n",
       "      <td>0.0</td>\n",
       "      <td>0.0</td>\n",
       "    </tr>\n",
       "    <tr>\n",
       "      <th>33</th>\n",
       "      <td>c11c124eb9</td>\n",
       "      <td>0.0</td>\n",
       "      <td>1.0</td>\n",
       "      <td>1.0</td>\n",
       "      <td>0.8</td>\n",
       "      <td>0.5</td>\n",
       "      <td>0.5</td>\n",
       "      <td>0.0</td>\n",
       "      <td>0.0</td>\n",
       "      <td>0.7</td>\n",
       "    </tr>\n",
       "    <tr>\n",
       "      <th>35</th>\n",
       "      <td>e1388f2aae</td>\n",
       "      <td>0.0</td>\n",
       "      <td>0.5</td>\n",
       "      <td>0.0</td>\n",
       "      <td>0.0</td>\n",
       "      <td>0.0</td>\n",
       "      <td>0.0</td>\n",
       "      <td>0.0</td>\n",
       "      <td>0.0</td>\n",
       "      <td>0.0</td>\n",
       "    </tr>\n",
       "    <tr>\n",
       "      <th>17</th>\n",
       "      <td>bae2523189</td>\n",
       "      <td>0.8</td>\n",
       "      <td>1.0</td>\n",
       "      <td>0.5</td>\n",
       "      <td>1.0</td>\n",
       "      <td>0.5</td>\n",
       "      <td>0.5</td>\n",
       "      <td>0.5</td>\n",
       "      <td>0.0</td>\n",
       "      <td>0.6</td>\n",
       "    </tr>\n",
       "    <tr>\n",
       "      <th>1</th>\n",
       "      <td>caa93590ad</td>\n",
       "      <td>0.2</td>\n",
       "      <td>0.2</td>\n",
       "      <td>0.9</td>\n",
       "      <td>0.7</td>\n",
       "      <td>0.0</td>\n",
       "      <td>0.0</td>\n",
       "      <td>0.0</td>\n",
       "      <td>0.0</td>\n",
       "      <td>0.0</td>\n",
       "    </tr>\n",
       "  </tbody>\n",
       "</table>\n",
       "</div>"
      ]
     },
     "execution_count": 147,
     "metadata": {},
     "output_type": "execute_result"
    }
   ],
   "execution_count": 147
  },
  {
   "cell_type": "code",
   "metadata": {
    "ExecuteTime": {
     "end_time": "2024-07-26T14:30:54.843774Z",
     "start_time": "2024-07-26T14:30:54.831231Z"
    }
   },
   "source": [
    "# выбрать случайные строки 2\n",
    "df.sample(frac=0.3)"
   ],
   "outputs": [
    {
     "data": {
      "text/plain": [
       "          hash    0    1    2    3    4    5    6    7    8\n",
       "0   cbe32a2a1b  0.8  1.0  1.0  1.0  1.0  1.0  0.0  0.0  0.0\n",
       "6   2a5a018502  0.9  1.0  1.0  1.0  0.8  0.0  0.5  0.0  0.7\n",
       "21  b7235befa9  0.8  1.0  1.0  1.0  0.5  0.0  0.5  0.0  0.7\n",
       "16  426dfedb85  0.2  0.2  0.9  0.7  0.0  0.0  0.0  0.0  0.0\n",
       "36  ee55242421  0.8  1.0  0.0  0.7  0.0  1.0  0.0  0.9  0.0\n",
       "19  789d9f4f97  0.0  1.0  0.8  1.0  0.0  0.0  0.5  0.0  0.0\n",
       "27  237fe82b6f  0.0  0.0  0.0  0.0  0.0  0.0  0.0  0.0  0.0\n",
       "37  d6c40a7f4b  0.0  1.0  0.0  0.0  0.0  0.0  0.0  0.0  0.0\n",
       "20  6588f97aea  0.0  0.6  1.0  1.0  1.0  0.5  0.0  0.0  0.7\n",
       "31  33979cb9cb  0.8  1.0  0.7  1.0  0.5  0.2  0.0  0.0  0.7\n",
       "24  8f67295cb3  0.8  1.0  1.0  0.0  0.5  0.0  0.0  0.0  0.7"
      ],
      "text/html": [
       "<div>\n",
       "<style scoped>\n",
       "    .dataframe tbody tr th:only-of-type {\n",
       "        vertical-align: middle;\n",
       "    }\n",
       "\n",
       "    .dataframe tbody tr th {\n",
       "        vertical-align: top;\n",
       "    }\n",
       "\n",
       "    .dataframe thead th {\n",
       "        text-align: right;\n",
       "    }\n",
       "</style>\n",
       "<table border=\"1\" class=\"dataframe\">\n",
       "  <thead>\n",
       "    <tr style=\"text-align: right;\">\n",
       "      <th></th>\n",
       "      <th>hash</th>\n",
       "      <th>0</th>\n",
       "      <th>1</th>\n",
       "      <th>2</th>\n",
       "      <th>3</th>\n",
       "      <th>4</th>\n",
       "      <th>5</th>\n",
       "      <th>6</th>\n",
       "      <th>7</th>\n",
       "      <th>8</th>\n",
       "    </tr>\n",
       "  </thead>\n",
       "  <tbody>\n",
       "    <tr>\n",
       "      <th>0</th>\n",
       "      <td>cbe32a2a1b</td>\n",
       "      <td>0.8</td>\n",
       "      <td>1.0</td>\n",
       "      <td>1.0</td>\n",
       "      <td>1.0</td>\n",
       "      <td>1.0</td>\n",
       "      <td>1.0</td>\n",
       "      <td>0.0</td>\n",
       "      <td>0.0</td>\n",
       "      <td>0.0</td>\n",
       "    </tr>\n",
       "    <tr>\n",
       "      <th>6</th>\n",
       "      <td>2a5a018502</td>\n",
       "      <td>0.9</td>\n",
       "      <td>1.0</td>\n",
       "      <td>1.0</td>\n",
       "      <td>1.0</td>\n",
       "      <td>0.8</td>\n",
       "      <td>0.0</td>\n",
       "      <td>0.5</td>\n",
       "      <td>0.0</td>\n",
       "      <td>0.7</td>\n",
       "    </tr>\n",
       "    <tr>\n",
       "      <th>21</th>\n",
       "      <td>b7235befa9</td>\n",
       "      <td>0.8</td>\n",
       "      <td>1.0</td>\n",
       "      <td>1.0</td>\n",
       "      <td>1.0</td>\n",
       "      <td>0.5</td>\n",
       "      <td>0.0</td>\n",
       "      <td>0.5</td>\n",
       "      <td>0.0</td>\n",
       "      <td>0.7</td>\n",
       "    </tr>\n",
       "    <tr>\n",
       "      <th>16</th>\n",
       "      <td>426dfedb85</td>\n",
       "      <td>0.2</td>\n",
       "      <td>0.2</td>\n",
       "      <td>0.9</td>\n",
       "      <td>0.7</td>\n",
       "      <td>0.0</td>\n",
       "      <td>0.0</td>\n",
       "      <td>0.0</td>\n",
       "      <td>0.0</td>\n",
       "      <td>0.0</td>\n",
       "    </tr>\n",
       "    <tr>\n",
       "      <th>36</th>\n",
       "      <td>ee55242421</td>\n",
       "      <td>0.8</td>\n",
       "      <td>1.0</td>\n",
       "      <td>0.0</td>\n",
       "      <td>0.7</td>\n",
       "      <td>0.0</td>\n",
       "      <td>1.0</td>\n",
       "      <td>0.0</td>\n",
       "      <td>0.9</td>\n",
       "      <td>0.0</td>\n",
       "    </tr>\n",
       "    <tr>\n",
       "      <th>19</th>\n",
       "      <td>789d9f4f97</td>\n",
       "      <td>0.0</td>\n",
       "      <td>1.0</td>\n",
       "      <td>0.8</td>\n",
       "      <td>1.0</td>\n",
       "      <td>0.0</td>\n",
       "      <td>0.0</td>\n",
       "      <td>0.5</td>\n",
       "      <td>0.0</td>\n",
       "      <td>0.0</td>\n",
       "    </tr>\n",
       "    <tr>\n",
       "      <th>27</th>\n",
       "      <td>237fe82b6f</td>\n",
       "      <td>0.0</td>\n",
       "      <td>0.0</td>\n",
       "      <td>0.0</td>\n",
       "      <td>0.0</td>\n",
       "      <td>0.0</td>\n",
       "      <td>0.0</td>\n",
       "      <td>0.0</td>\n",
       "      <td>0.0</td>\n",
       "      <td>0.0</td>\n",
       "    </tr>\n",
       "    <tr>\n",
       "      <th>37</th>\n",
       "      <td>d6c40a7f4b</td>\n",
       "      <td>0.0</td>\n",
       "      <td>1.0</td>\n",
       "      <td>0.0</td>\n",
       "      <td>0.0</td>\n",
       "      <td>0.0</td>\n",
       "      <td>0.0</td>\n",
       "      <td>0.0</td>\n",
       "      <td>0.0</td>\n",
       "      <td>0.0</td>\n",
       "    </tr>\n",
       "    <tr>\n",
       "      <th>20</th>\n",
       "      <td>6588f97aea</td>\n",
       "      <td>0.0</td>\n",
       "      <td>0.6</td>\n",
       "      <td>1.0</td>\n",
       "      <td>1.0</td>\n",
       "      <td>1.0</td>\n",
       "      <td>0.5</td>\n",
       "      <td>0.0</td>\n",
       "      <td>0.0</td>\n",
       "      <td>0.7</td>\n",
       "    </tr>\n",
       "    <tr>\n",
       "      <th>31</th>\n",
       "      <td>33979cb9cb</td>\n",
       "      <td>0.8</td>\n",
       "      <td>1.0</td>\n",
       "      <td>0.7</td>\n",
       "      <td>1.0</td>\n",
       "      <td>0.5</td>\n",
       "      <td>0.2</td>\n",
       "      <td>0.0</td>\n",
       "      <td>0.0</td>\n",
       "      <td>0.7</td>\n",
       "    </tr>\n",
       "    <tr>\n",
       "      <th>24</th>\n",
       "      <td>8f67295cb3</td>\n",
       "      <td>0.8</td>\n",
       "      <td>1.0</td>\n",
       "      <td>1.0</td>\n",
       "      <td>0.0</td>\n",
       "      <td>0.5</td>\n",
       "      <td>0.0</td>\n",
       "      <td>0.0</td>\n",
       "      <td>0.0</td>\n",
       "      <td>0.7</td>\n",
       "    </tr>\n",
       "  </tbody>\n",
       "</table>\n",
       "</div>"
      ]
     },
     "execution_count": 148,
     "metadata": {},
     "output_type": "execute_result"
    }
   ],
   "execution_count": 148
  },
  {
   "cell_type": "markdown",
   "metadata": {},
   "source": [
    "Добавим работу со столбцами: датафрейм можно индексировать квадратными скобками с названиями столбцов. Столбец будет экземпляром класса `pandas.core.series.Series`."
   ]
  },
  {
   "cell_type": "code",
   "metadata": {
    "ExecuteTime": {
     "end_time": "2024-07-26T14:30:54.963357Z",
     "start_time": "2024-07-26T14:30:54.957950Z"
    }
   },
   "source": [
    "col0 = df[\"0\"]\n",
    "col0"
   ],
   "outputs": [
    {
     "data": {
      "text/plain": [
       "0     0.8\n",
       "1     0.2\n",
       "2     0.8\n",
       "3     0.0\n",
       "4     0.0\n",
       "5     0.5\n",
       "6     0.9\n",
       "7     0.8\n",
       "8     0.0\n",
       "9     0.8\n",
       "10    1.0\n",
       "11    0.0\n",
       "12    0.0\n",
       "13    0.0\n",
       "14    0.0\n",
       "15    0.2\n",
       "16    0.2\n",
       "17    0.8\n",
       "18    0.0\n",
       "19    0.0\n",
       "20    0.0\n",
       "21    0.8\n",
       "22    0.8\n",
       "23    0.8\n",
       "24    0.8\n",
       "25    0.8\n",
       "26    0.0\n",
       "27    0.0\n",
       "28    0.8\n",
       "29    0.5\n",
       "30    0.8\n",
       "31    0.8\n",
       "32    0.0\n",
       "33    0.0\n",
       "34    0.8\n",
       "35    0.0\n",
       "36    0.8\n",
       "37    0.0\n",
       "Name: 0, dtype: float64"
      ]
     },
     "execution_count": 149,
     "metadata": {},
     "output_type": "execute_result"
    }
   ],
   "execution_count": 149
  },
  {
   "cell_type": "code",
   "metadata": {
    "ExecuteTime": {
     "end_time": "2024-07-26T14:30:55.176617Z",
     "start_time": "2024-07-26T14:30:55.173293Z"
    }
   },
   "source": [
    "type(col0)"
   ],
   "outputs": [
    {
     "data": {
      "text/plain": [
       "pandas.core.series.Series"
      ]
     },
     "execution_count": 150,
     "metadata": {},
     "output_type": "execute_result"
    }
   ],
   "execution_count": 150
  },
  {
   "cell_type": "code",
   "metadata": {
    "ExecuteTime": {
     "end_time": "2024-07-26T14:30:55.336962Z",
     "start_time": "2024-07-26T14:30:55.325505Z"
    }
   },
   "source": [
    "# выбрать 5 строк с наибольшими значениями в столбцах '3', '4'\n",
    "df.nlargest(n=5, columns=[\"3\", \"4\"])"
   ],
   "outputs": [
    {
     "data": {
      "text/plain": [
       "          hash    0    1    2    3    4    5    6    7    8\n",
       "0   cbe32a2a1b  0.8  1.0  1.0  1.0  1.0  1.0  0.0  0.0  0.0\n",
       "2   5bbe47f96d  0.8  1.0  1.0  1.0  1.0  0.0  0.5  0.0  0.0\n",
       "15  7174532c74  0.2  0.9  1.0  1.0  1.0  0.0  0.0  0.0  0.0\n",
       "20  6588f97aea  0.0  0.6  1.0  1.0  1.0  0.5  0.0  0.0  0.7\n",
       "6   2a5a018502  0.9  1.0  1.0  1.0  0.8  0.0  0.5  0.0  0.7"
      ],
      "text/html": [
       "<div>\n",
       "<style scoped>\n",
       "    .dataframe tbody tr th:only-of-type {\n",
       "        vertical-align: middle;\n",
       "    }\n",
       "\n",
       "    .dataframe tbody tr th {\n",
       "        vertical-align: top;\n",
       "    }\n",
       "\n",
       "    .dataframe thead th {\n",
       "        text-align: right;\n",
       "    }\n",
       "</style>\n",
       "<table border=\"1\" class=\"dataframe\">\n",
       "  <thead>\n",
       "    <tr style=\"text-align: right;\">\n",
       "      <th></th>\n",
       "      <th>hash</th>\n",
       "      <th>0</th>\n",
       "      <th>1</th>\n",
       "      <th>2</th>\n",
       "      <th>3</th>\n",
       "      <th>4</th>\n",
       "      <th>5</th>\n",
       "      <th>6</th>\n",
       "      <th>7</th>\n",
       "      <th>8</th>\n",
       "    </tr>\n",
       "  </thead>\n",
       "  <tbody>\n",
       "    <tr>\n",
       "      <th>0</th>\n",
       "      <td>cbe32a2a1b</td>\n",
       "      <td>0.8</td>\n",
       "      <td>1.0</td>\n",
       "      <td>1.0</td>\n",
       "      <td>1.0</td>\n",
       "      <td>1.0</td>\n",
       "      <td>1.0</td>\n",
       "      <td>0.0</td>\n",
       "      <td>0.0</td>\n",
       "      <td>0.0</td>\n",
       "    </tr>\n",
       "    <tr>\n",
       "      <th>2</th>\n",
       "      <td>5bbe47f96d</td>\n",
       "      <td>0.8</td>\n",
       "      <td>1.0</td>\n",
       "      <td>1.0</td>\n",
       "      <td>1.0</td>\n",
       "      <td>1.0</td>\n",
       "      <td>0.0</td>\n",
       "      <td>0.5</td>\n",
       "      <td>0.0</td>\n",
       "      <td>0.0</td>\n",
       "    </tr>\n",
       "    <tr>\n",
       "      <th>15</th>\n",
       "      <td>7174532c74</td>\n",
       "      <td>0.2</td>\n",
       "      <td>0.9</td>\n",
       "      <td>1.0</td>\n",
       "      <td>1.0</td>\n",
       "      <td>1.0</td>\n",
       "      <td>0.0</td>\n",
       "      <td>0.0</td>\n",
       "      <td>0.0</td>\n",
       "      <td>0.0</td>\n",
       "    </tr>\n",
       "    <tr>\n",
       "      <th>20</th>\n",
       "      <td>6588f97aea</td>\n",
       "      <td>0.0</td>\n",
       "      <td>0.6</td>\n",
       "      <td>1.0</td>\n",
       "      <td>1.0</td>\n",
       "      <td>1.0</td>\n",
       "      <td>0.5</td>\n",
       "      <td>0.0</td>\n",
       "      <td>0.0</td>\n",
       "      <td>0.7</td>\n",
       "    </tr>\n",
       "    <tr>\n",
       "      <th>6</th>\n",
       "      <td>2a5a018502</td>\n",
       "      <td>0.9</td>\n",
       "      <td>1.0</td>\n",
       "      <td>1.0</td>\n",
       "      <td>1.0</td>\n",
       "      <td>0.8</td>\n",
       "      <td>0.0</td>\n",
       "      <td>0.5</td>\n",
       "      <td>0.0</td>\n",
       "      <td>0.7</td>\n",
       "    </tr>\n",
       "  </tbody>\n",
       "</table>\n",
       "</div>"
      ]
     },
     "execution_count": 151,
     "metadata": {},
     "output_type": "execute_result"
    }
   ],
   "execution_count": 151
  },
  {
   "cell_type": "code",
   "metadata": {
    "ExecuteTime": {
     "end_time": "2024-07-26T14:30:55.449122Z",
     "start_time": "2024-07-26T14:30:55.445286Z"
    }
   },
   "source": [
    "# подсчитать количество уникальных значений в столбце 3\n",
    "df[\"3\"].nunique()"
   ],
   "outputs": [
    {
     "data": {
      "text/plain": [
       "7"
      ]
     },
     "execution_count": 152,
     "metadata": {},
     "output_type": "execute_result"
    }
   ],
   "execution_count": 152
  },
  {
   "cell_type": "code",
   "metadata": {
    "ExecuteTime": {
     "end_time": "2024-07-26T14:30:55.575598Z",
     "start_time": "2024-07-26T14:30:55.570806Z"
    }
   },
   "source": [
    "# подсчитать, сколько раз встретилось в столбце '3' каждое уникальное значение\n",
    "df[\"3\"].value_counts()"
   ],
   "outputs": [
    {
     "data": {
      "text/plain": [
       "3\n",
       "1.0    20\n",
       "0.0     8\n",
       "0.7     4\n",
       "0.5     3\n",
       "0.9     1\n",
       "0.2     1\n",
       "0.8     1\n",
       "Name: count, dtype: int64"
      ]
     },
     "execution_count": 153,
     "metadata": {},
     "output_type": "execute_result"
    }
   ],
   "execution_count": 153
  },
  {
   "cell_type": "markdown",
   "metadata": {},
   "source": [
    "Доступ к столбцу можно получить не только через квадратные скобки, но и через точку, по аналогии с атрибутом класса."
   ]
  },
  {
   "cell_type": "code",
   "metadata": {
    "ExecuteTime": {
     "end_time": "2024-07-26T14:30:55.654289Z",
     "start_time": "2024-07-26T14:30:55.650041Z"
    }
   },
   "source": [
    "df[\"hash\"]"
   ],
   "outputs": [
    {
     "data": {
      "text/plain": [
       "0     cbe32a2a1b\n",
       "1     caa93590ad\n",
       "2     5bbe47f96d\n",
       "3     3f187965b9\n",
       "4     bf1e56e185\n",
       "5     7ca01c996f\n",
       "6     2a5a018502\n",
       "7     99fe117fcb\n",
       "8     6875ba52f0\n",
       "9     1eea619f12\n",
       "10    f9f854aa44\n",
       "11    6346ddfdb5\n",
       "12    b5c2ae4623\n",
       "13    15360bcc4c\n",
       "14    a2d96fe1d4\n",
       "15    7174532c74\n",
       "16    426dfedb85\n",
       "17    bae2523189\n",
       "18    5a0a06b184\n",
       "19    789d9f4f97\n",
       "20    6588f97aea\n",
       "21    b7235befa9\n",
       "22    ca49cc7265\n",
       "23    6134e7ea6f\n",
       "24    8f67295cb3\n",
       "25    cb9dfc5d66\n",
       "26    d7955cb7bc\n",
       "27    237fe82b6f\n",
       "28    b8132ed8db\n",
       "29    80a4f796b4\n",
       "30    403978747a\n",
       "31    33979cb9cb\n",
       "32    e342391d26\n",
       "33    c11c124eb9\n",
       "34    8b4c1af94b\n",
       "35    e1388f2aae\n",
       "36    ee55242421\n",
       "37    d6c40a7f4b\n",
       "Name: hash, dtype: object"
      ]
     },
     "execution_count": 154,
     "metadata": {},
     "output_type": "execute_result"
    }
   ],
   "execution_count": 154
  },
  {
   "cell_type": "code",
   "metadata": {
    "ExecuteTime": {
     "end_time": "2024-07-26T14:30:55.795646Z",
     "start_time": "2024-07-26T14:30:55.790173Z"
    }
   },
   "source": [
    "df.hash"
   ],
   "outputs": [
    {
     "data": {
      "text/plain": [
       "0     cbe32a2a1b\n",
       "1     caa93590ad\n",
       "2     5bbe47f96d\n",
       "3     3f187965b9\n",
       "4     bf1e56e185\n",
       "5     7ca01c996f\n",
       "6     2a5a018502\n",
       "7     99fe117fcb\n",
       "8     6875ba52f0\n",
       "9     1eea619f12\n",
       "10    f9f854aa44\n",
       "11    6346ddfdb5\n",
       "12    b5c2ae4623\n",
       "13    15360bcc4c\n",
       "14    a2d96fe1d4\n",
       "15    7174532c74\n",
       "16    426dfedb85\n",
       "17    bae2523189\n",
       "18    5a0a06b184\n",
       "19    789d9f4f97\n",
       "20    6588f97aea\n",
       "21    b7235befa9\n",
       "22    ca49cc7265\n",
       "23    6134e7ea6f\n",
       "24    8f67295cb3\n",
       "25    cb9dfc5d66\n",
       "26    d7955cb7bc\n",
       "27    237fe82b6f\n",
       "28    b8132ed8db\n",
       "29    80a4f796b4\n",
       "30    403978747a\n",
       "31    33979cb9cb\n",
       "32    e342391d26\n",
       "33    c11c124eb9\n",
       "34    8b4c1af94b\n",
       "35    e1388f2aae\n",
       "36    ee55242421\n",
       "37    d6c40a7f4b\n",
       "Name: hash, dtype: object"
      ]
     },
     "execution_count": 155,
     "metadata": {},
     "output_type": "execute_result"
    }
   ],
   "execution_count": 155
  },
  {
   "cell_type": "markdown",
   "metadata": {},
   "source": [
    "А вот доступ к строкам можно получить при помощи `.iloc` и `loc`. Внешне они выглядят одинаково, но отличаются в деталях: первый индексирует по номеру строки, а второй — по индексирующему столбцу. Мы вернёмся к этому ниже, когда будет говорить про данные пассажиров Титаника. Обратите внимание, что такая индексация возвращает новый объект класса `DataFrame`."
   ]
  },
  {
   "cell_type": "code",
   "metadata": {
    "ExecuteTime": {
     "end_time": "2024-07-26T14:30:55.894826Z",
     "start_time": "2024-07-26T14:30:55.883936Z"
    }
   },
   "source": [
    "df.iloc[:5]"
   ],
   "outputs": [
    {
     "data": {
      "text/plain": [
       "         hash    0    1    2    3    4    5    6    7    8\n",
       "0  cbe32a2a1b  0.8  1.0  1.0  1.0  1.0  1.0  0.0  0.0  0.0\n",
       "1  caa93590ad  0.2  0.2  0.9  0.7  0.0  0.0  0.0  0.0  0.0\n",
       "2  5bbe47f96d  0.8  1.0  1.0  1.0  1.0  0.0  0.5  0.0  0.0\n",
       "3  3f187965b9  0.0  0.0  0.8  1.0  0.5  0.0  0.0  0.0  0.0\n",
       "4  bf1e56e185  0.0  0.0  0.0  0.0  0.0  0.0  0.0  0.0  0.0"
      ],
      "text/html": [
       "<div>\n",
       "<style scoped>\n",
       "    .dataframe tbody tr th:only-of-type {\n",
       "        vertical-align: middle;\n",
       "    }\n",
       "\n",
       "    .dataframe tbody tr th {\n",
       "        vertical-align: top;\n",
       "    }\n",
       "\n",
       "    .dataframe thead th {\n",
       "        text-align: right;\n",
       "    }\n",
       "</style>\n",
       "<table border=\"1\" class=\"dataframe\">\n",
       "  <thead>\n",
       "    <tr style=\"text-align: right;\">\n",
       "      <th></th>\n",
       "      <th>hash</th>\n",
       "      <th>0</th>\n",
       "      <th>1</th>\n",
       "      <th>2</th>\n",
       "      <th>3</th>\n",
       "      <th>4</th>\n",
       "      <th>5</th>\n",
       "      <th>6</th>\n",
       "      <th>7</th>\n",
       "      <th>8</th>\n",
       "    </tr>\n",
       "  </thead>\n",
       "  <tbody>\n",
       "    <tr>\n",
       "      <th>0</th>\n",
       "      <td>cbe32a2a1b</td>\n",
       "      <td>0.8</td>\n",
       "      <td>1.0</td>\n",
       "      <td>1.0</td>\n",
       "      <td>1.0</td>\n",
       "      <td>1.0</td>\n",
       "      <td>1.0</td>\n",
       "      <td>0.0</td>\n",
       "      <td>0.0</td>\n",
       "      <td>0.0</td>\n",
       "    </tr>\n",
       "    <tr>\n",
       "      <th>1</th>\n",
       "      <td>caa93590ad</td>\n",
       "      <td>0.2</td>\n",
       "      <td>0.2</td>\n",
       "      <td>0.9</td>\n",
       "      <td>0.7</td>\n",
       "      <td>0.0</td>\n",
       "      <td>0.0</td>\n",
       "      <td>0.0</td>\n",
       "      <td>0.0</td>\n",
       "      <td>0.0</td>\n",
       "    </tr>\n",
       "    <tr>\n",
       "      <th>2</th>\n",
       "      <td>5bbe47f96d</td>\n",
       "      <td>0.8</td>\n",
       "      <td>1.0</td>\n",
       "      <td>1.0</td>\n",
       "      <td>1.0</td>\n",
       "      <td>1.0</td>\n",
       "      <td>0.0</td>\n",
       "      <td>0.5</td>\n",
       "      <td>0.0</td>\n",
       "      <td>0.0</td>\n",
       "    </tr>\n",
       "    <tr>\n",
       "      <th>3</th>\n",
       "      <td>3f187965b9</td>\n",
       "      <td>0.0</td>\n",
       "      <td>0.0</td>\n",
       "      <td>0.8</td>\n",
       "      <td>1.0</td>\n",
       "      <td>0.5</td>\n",
       "      <td>0.0</td>\n",
       "      <td>0.0</td>\n",
       "      <td>0.0</td>\n",
       "      <td>0.0</td>\n",
       "    </tr>\n",
       "    <tr>\n",
       "      <th>4</th>\n",
       "      <td>bf1e56e185</td>\n",
       "      <td>0.0</td>\n",
       "      <td>0.0</td>\n",
       "      <td>0.0</td>\n",
       "      <td>0.0</td>\n",
       "      <td>0.0</td>\n",
       "      <td>0.0</td>\n",
       "      <td>0.0</td>\n",
       "      <td>0.0</td>\n",
       "      <td>0.0</td>\n",
       "    </tr>\n",
       "  </tbody>\n",
       "</table>\n",
       "</div>"
      ]
     },
     "execution_count": 156,
     "metadata": {},
     "output_type": "execute_result"
    }
   ],
   "execution_count": 156
  },
  {
   "cell_type": "code",
   "metadata": {
    "ExecuteTime": {
     "end_time": "2024-07-26T14:30:55.940010Z",
     "start_time": "2024-07-26T14:30:55.926495Z"
    }
   },
   "source": [
    "# склеить две таблицы по строкам\n",
    "df1 = df.iloc[:5]\n",
    "df2 = df.iloc[10:15]\n",
    "pd.concat([df1, df2])"
   ],
   "outputs": [
    {
     "data": {
      "text/plain": [
       "          hash    0    1    2    3    4    5    6    7    8\n",
       "0   cbe32a2a1b  0.8  1.0  1.0  1.0  1.0  1.0  0.0  0.0  0.0\n",
       "1   caa93590ad  0.2  0.2  0.9  0.7  0.0  0.0  0.0  0.0  0.0\n",
       "2   5bbe47f96d  0.8  1.0  1.0  1.0  1.0  0.0  0.5  0.0  0.0\n",
       "3   3f187965b9  0.0  0.0  0.8  1.0  0.5  0.0  0.0  0.0  0.0\n",
       "4   bf1e56e185  0.0  0.0  0.0  0.0  0.0  0.0  0.0  0.0  0.0\n",
       "10  f9f854aa44  1.0  0.9  0.0  0.5  0.5  0.0  0.0  0.0  0.0\n",
       "11  6346ddfdb5  0.0  1.0  1.0  0.0  0.5  0.0  0.5  0.0  0.7\n",
       "12  b5c2ae4623  0.0  1.0  1.0  1.0  0.0  1.0  0.0  0.0  0.6\n",
       "13  15360bcc4c  0.0  0.0  0.0  0.0  0.0  0.0  0.0  0.0  0.0\n",
       "14  a2d96fe1d4  0.0  0.7  1.0  1.0  0.0  0.0  0.0  0.0  0.0"
      ],
      "text/html": [
       "<div>\n",
       "<style scoped>\n",
       "    .dataframe tbody tr th:only-of-type {\n",
       "        vertical-align: middle;\n",
       "    }\n",
       "\n",
       "    .dataframe tbody tr th {\n",
       "        vertical-align: top;\n",
       "    }\n",
       "\n",
       "    .dataframe thead th {\n",
       "        text-align: right;\n",
       "    }\n",
       "</style>\n",
       "<table border=\"1\" class=\"dataframe\">\n",
       "  <thead>\n",
       "    <tr style=\"text-align: right;\">\n",
       "      <th></th>\n",
       "      <th>hash</th>\n",
       "      <th>0</th>\n",
       "      <th>1</th>\n",
       "      <th>2</th>\n",
       "      <th>3</th>\n",
       "      <th>4</th>\n",
       "      <th>5</th>\n",
       "      <th>6</th>\n",
       "      <th>7</th>\n",
       "      <th>8</th>\n",
       "    </tr>\n",
       "  </thead>\n",
       "  <tbody>\n",
       "    <tr>\n",
       "      <th>0</th>\n",
       "      <td>cbe32a2a1b</td>\n",
       "      <td>0.8</td>\n",
       "      <td>1.0</td>\n",
       "      <td>1.0</td>\n",
       "      <td>1.0</td>\n",
       "      <td>1.0</td>\n",
       "      <td>1.0</td>\n",
       "      <td>0.0</td>\n",
       "      <td>0.0</td>\n",
       "      <td>0.0</td>\n",
       "    </tr>\n",
       "    <tr>\n",
       "      <th>1</th>\n",
       "      <td>caa93590ad</td>\n",
       "      <td>0.2</td>\n",
       "      <td>0.2</td>\n",
       "      <td>0.9</td>\n",
       "      <td>0.7</td>\n",
       "      <td>0.0</td>\n",
       "      <td>0.0</td>\n",
       "      <td>0.0</td>\n",
       "      <td>0.0</td>\n",
       "      <td>0.0</td>\n",
       "    </tr>\n",
       "    <tr>\n",
       "      <th>2</th>\n",
       "      <td>5bbe47f96d</td>\n",
       "      <td>0.8</td>\n",
       "      <td>1.0</td>\n",
       "      <td>1.0</td>\n",
       "      <td>1.0</td>\n",
       "      <td>1.0</td>\n",
       "      <td>0.0</td>\n",
       "      <td>0.5</td>\n",
       "      <td>0.0</td>\n",
       "      <td>0.0</td>\n",
       "    </tr>\n",
       "    <tr>\n",
       "      <th>3</th>\n",
       "      <td>3f187965b9</td>\n",
       "      <td>0.0</td>\n",
       "      <td>0.0</td>\n",
       "      <td>0.8</td>\n",
       "      <td>1.0</td>\n",
       "      <td>0.5</td>\n",
       "      <td>0.0</td>\n",
       "      <td>0.0</td>\n",
       "      <td>0.0</td>\n",
       "      <td>0.0</td>\n",
       "    </tr>\n",
       "    <tr>\n",
       "      <th>4</th>\n",
       "      <td>bf1e56e185</td>\n",
       "      <td>0.0</td>\n",
       "      <td>0.0</td>\n",
       "      <td>0.0</td>\n",
       "      <td>0.0</td>\n",
       "      <td>0.0</td>\n",
       "      <td>0.0</td>\n",
       "      <td>0.0</td>\n",
       "      <td>0.0</td>\n",
       "      <td>0.0</td>\n",
       "    </tr>\n",
       "    <tr>\n",
       "      <th>10</th>\n",
       "      <td>f9f854aa44</td>\n",
       "      <td>1.0</td>\n",
       "      <td>0.9</td>\n",
       "      <td>0.0</td>\n",
       "      <td>0.5</td>\n",
       "      <td>0.5</td>\n",
       "      <td>0.0</td>\n",
       "      <td>0.0</td>\n",
       "      <td>0.0</td>\n",
       "      <td>0.0</td>\n",
       "    </tr>\n",
       "    <tr>\n",
       "      <th>11</th>\n",
       "      <td>6346ddfdb5</td>\n",
       "      <td>0.0</td>\n",
       "      <td>1.0</td>\n",
       "      <td>1.0</td>\n",
       "      <td>0.0</td>\n",
       "      <td>0.5</td>\n",
       "      <td>0.0</td>\n",
       "      <td>0.5</td>\n",
       "      <td>0.0</td>\n",
       "      <td>0.7</td>\n",
       "    </tr>\n",
       "    <tr>\n",
       "      <th>12</th>\n",
       "      <td>b5c2ae4623</td>\n",
       "      <td>0.0</td>\n",
       "      <td>1.0</td>\n",
       "      <td>1.0</td>\n",
       "      <td>1.0</td>\n",
       "      <td>0.0</td>\n",
       "      <td>1.0</td>\n",
       "      <td>0.0</td>\n",
       "      <td>0.0</td>\n",
       "      <td>0.6</td>\n",
       "    </tr>\n",
       "    <tr>\n",
       "      <th>13</th>\n",
       "      <td>15360bcc4c</td>\n",
       "      <td>0.0</td>\n",
       "      <td>0.0</td>\n",
       "      <td>0.0</td>\n",
       "      <td>0.0</td>\n",
       "      <td>0.0</td>\n",
       "      <td>0.0</td>\n",
       "      <td>0.0</td>\n",
       "      <td>0.0</td>\n",
       "      <td>0.0</td>\n",
       "    </tr>\n",
       "    <tr>\n",
       "      <th>14</th>\n",
       "      <td>a2d96fe1d4</td>\n",
       "      <td>0.0</td>\n",
       "      <td>0.7</td>\n",
       "      <td>1.0</td>\n",
       "      <td>1.0</td>\n",
       "      <td>0.0</td>\n",
       "      <td>0.0</td>\n",
       "      <td>0.0</td>\n",
       "      <td>0.0</td>\n",
       "      <td>0.0</td>\n",
       "    </tr>\n",
       "  </tbody>\n",
       "</table>\n",
       "</div>"
      ]
     },
     "execution_count": 157,
     "metadata": {},
     "output_type": "execute_result"
    }
   ],
   "execution_count": 157
  },
  {
   "cell_type": "code",
   "metadata": {
    "ExecuteTime": {
     "end_time": "2024-07-26T14:30:56.035147Z",
     "start_time": "2024-07-26T14:30:56.024871Z"
    }
   },
   "source": [
    "# склеить две таблицы по столбцам\n",
    "df1 = df[[\"hash\", \"1\"]]\n",
    "df2 = df[[\"3\", \"4\"]]\n",
    "pd.concat([df1, df2], axis=1).head()"
   ],
   "outputs": [
    {
     "data": {
      "text/plain": [
       "         hash    1    3    4\n",
       "0  cbe32a2a1b  1.0  1.0  1.0\n",
       "1  caa93590ad  0.2  0.7  0.0\n",
       "2  5bbe47f96d  1.0  1.0  1.0\n",
       "3  3f187965b9  0.0  1.0  0.5\n",
       "4  bf1e56e185  0.0  0.0  0.0"
      ],
      "text/html": [
       "<div>\n",
       "<style scoped>\n",
       "    .dataframe tbody tr th:only-of-type {\n",
       "        vertical-align: middle;\n",
       "    }\n",
       "\n",
       "    .dataframe tbody tr th {\n",
       "        vertical-align: top;\n",
       "    }\n",
       "\n",
       "    .dataframe thead th {\n",
       "        text-align: right;\n",
       "    }\n",
       "</style>\n",
       "<table border=\"1\" class=\"dataframe\">\n",
       "  <thead>\n",
       "    <tr style=\"text-align: right;\">\n",
       "      <th></th>\n",
       "      <th>hash</th>\n",
       "      <th>1</th>\n",
       "      <th>3</th>\n",
       "      <th>4</th>\n",
       "    </tr>\n",
       "  </thead>\n",
       "  <tbody>\n",
       "    <tr>\n",
       "      <th>0</th>\n",
       "      <td>cbe32a2a1b</td>\n",
       "      <td>1.0</td>\n",
       "      <td>1.0</td>\n",
       "      <td>1.0</td>\n",
       "    </tr>\n",
       "    <tr>\n",
       "      <th>1</th>\n",
       "      <td>caa93590ad</td>\n",
       "      <td>0.2</td>\n",
       "      <td>0.7</td>\n",
       "      <td>0.0</td>\n",
       "    </tr>\n",
       "    <tr>\n",
       "      <th>2</th>\n",
       "      <td>5bbe47f96d</td>\n",
       "      <td>1.0</td>\n",
       "      <td>1.0</td>\n",
       "      <td>1.0</td>\n",
       "    </tr>\n",
       "    <tr>\n",
       "      <th>3</th>\n",
       "      <td>3f187965b9</td>\n",
       "      <td>0.0</td>\n",
       "      <td>1.0</td>\n",
       "      <td>0.5</td>\n",
       "    </tr>\n",
       "    <tr>\n",
       "      <th>4</th>\n",
       "      <td>bf1e56e185</td>\n",
       "      <td>0.0</td>\n",
       "      <td>0.0</td>\n",
       "      <td>0.0</td>\n",
       "    </tr>\n",
       "  </tbody>\n",
       "</table>\n",
       "</div>"
      ]
     },
     "execution_count": 158,
     "metadata": {},
     "output_type": "execute_result"
    }
   ],
   "execution_count": 158
  },
  {
   "cell_type": "markdown",
   "metadata": {},
   "source": [
    "Метод `DataFrame.merge` объединяет таблицы по переданному столбцу (аналог SQL: JOIN)."
   ]
  },
  {
   "cell_type": "code",
   "metadata": {
    "ExecuteTime": {
     "end_time": "2024-07-26T14:30:56.074117Z",
     "start_time": "2024-07-26T14:30:56.061459Z"
    }
   },
   "source": [
    "# таблица с оценками\n",
    "df_grades = pd.read_csv(\"grades.csv\", index_col=0)\n",
    "df_grades.head()"
   ],
   "outputs": [
    {
     "data": {
      "text/plain": [
       "         hash    0    1    2    3    4    5    6    7    8\n",
       "0  cbe32a2a1b  0.8  1.0  1.0  1.0  1.0  1.0  0.0  0.0  0.0\n",
       "1  caa93590ad  0.2  0.2  0.9  0.7  0.0  0.0  0.0  0.0  0.0\n",
       "2  5bbe47f96d  0.8  1.0  1.0  1.0  1.0  0.0  0.5  0.0  0.0\n",
       "3  3f187965b9  0.0  0.0  0.8  1.0  0.5  0.0  0.0  0.0  0.0\n",
       "4  bf1e56e185  0.0  0.0  0.0  0.0  0.0  0.0  0.0  0.0  0.0"
      ],
      "text/html": [
       "<div>\n",
       "<style scoped>\n",
       "    .dataframe tbody tr th:only-of-type {\n",
       "        vertical-align: middle;\n",
       "    }\n",
       "\n",
       "    .dataframe tbody tr th {\n",
       "        vertical-align: top;\n",
       "    }\n",
       "\n",
       "    .dataframe thead th {\n",
       "        text-align: right;\n",
       "    }\n",
       "</style>\n",
       "<table border=\"1\" class=\"dataframe\">\n",
       "  <thead>\n",
       "    <tr style=\"text-align: right;\">\n",
       "      <th></th>\n",
       "      <th>hash</th>\n",
       "      <th>0</th>\n",
       "      <th>1</th>\n",
       "      <th>2</th>\n",
       "      <th>3</th>\n",
       "      <th>4</th>\n",
       "      <th>5</th>\n",
       "      <th>6</th>\n",
       "      <th>7</th>\n",
       "      <th>8</th>\n",
       "    </tr>\n",
       "  </thead>\n",
       "  <tbody>\n",
       "    <tr>\n",
       "      <th>0</th>\n",
       "      <td>cbe32a2a1b</td>\n",
       "      <td>0.8</td>\n",
       "      <td>1.0</td>\n",
       "      <td>1.0</td>\n",
       "      <td>1.0</td>\n",
       "      <td>1.0</td>\n",
       "      <td>1.0</td>\n",
       "      <td>0.0</td>\n",
       "      <td>0.0</td>\n",
       "      <td>0.0</td>\n",
       "    </tr>\n",
       "    <tr>\n",
       "      <th>1</th>\n",
       "      <td>caa93590ad</td>\n",
       "      <td>0.2</td>\n",
       "      <td>0.2</td>\n",
       "      <td>0.9</td>\n",
       "      <td>0.7</td>\n",
       "      <td>0.0</td>\n",
       "      <td>0.0</td>\n",
       "      <td>0.0</td>\n",
       "      <td>0.0</td>\n",
       "      <td>0.0</td>\n",
       "    </tr>\n",
       "    <tr>\n",
       "      <th>2</th>\n",
       "      <td>5bbe47f96d</td>\n",
       "      <td>0.8</td>\n",
       "      <td>1.0</td>\n",
       "      <td>1.0</td>\n",
       "      <td>1.0</td>\n",
       "      <td>1.0</td>\n",
       "      <td>0.0</td>\n",
       "      <td>0.5</td>\n",
       "      <td>0.0</td>\n",
       "      <td>0.0</td>\n",
       "    </tr>\n",
       "    <tr>\n",
       "      <th>3</th>\n",
       "      <td>3f187965b9</td>\n",
       "      <td>0.0</td>\n",
       "      <td>0.0</td>\n",
       "      <td>0.8</td>\n",
       "      <td>1.0</td>\n",
       "      <td>0.5</td>\n",
       "      <td>0.0</td>\n",
       "      <td>0.0</td>\n",
       "      <td>0.0</td>\n",
       "      <td>0.0</td>\n",
       "    </tr>\n",
       "    <tr>\n",
       "      <th>4</th>\n",
       "      <td>bf1e56e185</td>\n",
       "      <td>0.0</td>\n",
       "      <td>0.0</td>\n",
       "      <td>0.0</td>\n",
       "      <td>0.0</td>\n",
       "      <td>0.0</td>\n",
       "      <td>0.0</td>\n",
       "      <td>0.0</td>\n",
       "      <td>0.0</td>\n",
       "      <td>0.0</td>\n",
       "    </tr>\n",
       "  </tbody>\n",
       "</table>\n",
       "</div>"
      ]
     },
     "execution_count": 159,
     "metadata": {},
     "output_type": "execute_result"
    }
   ],
   "execution_count": 159
  },
  {
   "cell_type": "code",
   "metadata": {
    "ExecuteTime": {
     "end_time": "2024-07-26T14:30:56.154581Z",
     "start_time": "2024-07-26T14:30:56.146774Z"
    }
   },
   "source": [
    "df_hashes = pd.read_csv(\"hashes.csv\")\n",
    "df_hashes.head()"
   ],
   "outputs": [
    {
     "data": {
      "text/plain": [
       "    Группа     Фамилия      Имя     Отчество        hash\n",
       "0  БПМ-161     Антонов  Алексей   Алексеевич  6875ba52f0\n",
       "1  БПМ-161  Арсамакова    Алина  Ибрагимовна  7ca01c996f\n",
       "2  БПМ-161     Богатов    Антон      Юрьевич  15360bcc4c\n",
       "3  БПМ-161      Бычков   Андрей            -  f9f854aa44\n",
       "4  БПМ-161    Высоцкий     Яков   Михайлович  1d1d05c257"
      ],
      "text/html": [
       "<div>\n",
       "<style scoped>\n",
       "    .dataframe tbody tr th:only-of-type {\n",
       "        vertical-align: middle;\n",
       "    }\n",
       "\n",
       "    .dataframe tbody tr th {\n",
       "        vertical-align: top;\n",
       "    }\n",
       "\n",
       "    .dataframe thead th {\n",
       "        text-align: right;\n",
       "    }\n",
       "</style>\n",
       "<table border=\"1\" class=\"dataframe\">\n",
       "  <thead>\n",
       "    <tr style=\"text-align: right;\">\n",
       "      <th></th>\n",
       "      <th>Группа</th>\n",
       "      <th>Фамилия</th>\n",
       "      <th>Имя</th>\n",
       "      <th>Отчество</th>\n",
       "      <th>hash</th>\n",
       "    </tr>\n",
       "  </thead>\n",
       "  <tbody>\n",
       "    <tr>\n",
       "      <th>0</th>\n",
       "      <td>БПМ-161</td>\n",
       "      <td>Антонов</td>\n",
       "      <td>Алексей</td>\n",
       "      <td>Алексеевич</td>\n",
       "      <td>6875ba52f0</td>\n",
       "    </tr>\n",
       "    <tr>\n",
       "      <th>1</th>\n",
       "      <td>БПМ-161</td>\n",
       "      <td>Арсамакова</td>\n",
       "      <td>Алина</td>\n",
       "      <td>Ибрагимовна</td>\n",
       "      <td>7ca01c996f</td>\n",
       "    </tr>\n",
       "    <tr>\n",
       "      <th>2</th>\n",
       "      <td>БПМ-161</td>\n",
       "      <td>Богатов</td>\n",
       "      <td>Антон</td>\n",
       "      <td>Юрьевич</td>\n",
       "      <td>15360bcc4c</td>\n",
       "    </tr>\n",
       "    <tr>\n",
       "      <th>3</th>\n",
       "      <td>БПМ-161</td>\n",
       "      <td>Бычков</td>\n",
       "      <td>Андрей</td>\n",
       "      <td>-</td>\n",
       "      <td>f9f854aa44</td>\n",
       "    </tr>\n",
       "    <tr>\n",
       "      <th>4</th>\n",
       "      <td>БПМ-161</td>\n",
       "      <td>Высоцкий</td>\n",
       "      <td>Яков</td>\n",
       "      <td>Михайлович</td>\n",
       "      <td>1d1d05c257</td>\n",
       "    </tr>\n",
       "  </tbody>\n",
       "</table>\n",
       "</div>"
      ]
     },
     "execution_count": 160,
     "metadata": {},
     "output_type": "execute_result"
    }
   ],
   "execution_count": 160
  },
  {
   "cell_type": "markdown",
   "metadata": {},
   "source": [
    "Не для всех студентов известны оценки!"
   ]
  },
  {
   "cell_type": "code",
   "metadata": {
    "ExecuteTime": {
     "end_time": "2024-07-26T14:30:56.280951Z",
     "start_time": "2024-07-26T14:30:56.276698Z"
    }
   },
   "source": [
    "df_grades.hash.nunique(), df_hashes.hash.nunique()"
   ],
   "outputs": [
    {
     "data": {
      "text/plain": [
       "(38, 95)"
      ]
     },
     "execution_count": 161,
     "metadata": {},
     "output_type": "execute_result"
    }
   ],
   "execution_count": 161
  },
  {
   "cell_type": "code",
   "metadata": {
    "ExecuteTime": {
     "end_time": "2024-07-26T14:30:56.546484Z",
     "start_time": "2024-07-26T14:30:56.530100Z"
    }
   },
   "source": [
    "# присоединить подходящие строки из df_grades к df_hashes\n",
    "df = pd.merge(df_hashes, df_grades, on=\"hash\", how=\"left\")\n",
    "print(df.shape)\n",
    "df.head(10)"
   ],
   "outputs": [
    {
     "name": "stdout",
     "output_type": "stream",
     "text": [
      "(95, 14)\n"
     ]
    },
    {
     "data": {
      "text/plain": [
       "    Группа     Фамилия        Имя       Отчество        hash    0    1    2  \\\n",
       "0  БПМ-161     Антонов    Алексей     Алексеевич  6875ba52f0  0.0  0.9  0.0   \n",
       "1  БПМ-161  Арсамакова      Алина    Ибрагимовна  7ca01c996f  0.5  0.8  0.5   \n",
       "2  БПМ-161     Богатов      Антон        Юрьевич  15360bcc4c  0.0  0.0  0.0   \n",
       "3  БПМ-161      Бычков     Андрей              -  f9f854aa44  1.0  0.9  0.0   \n",
       "4  БПМ-161    Высоцкий       Яков     Михайлович  1d1d05c257  NaN  NaN  NaN   \n",
       "5  БПМ-161   Галигеров  Владислав      Сергеевич  738b683ed7  NaN  NaN  NaN   \n",
       "6  БПМ-161    Гончаров       Глеб       Игоревич  3f187965b9  0.0  0.0  0.8   \n",
       "7  БПМ-161   Городилов       Илья       Игоревич  6df2f31eb9  NaN  NaN  NaN   \n",
       "8  БПМ-161     Дудинов      Тимур      Батырович  e1388f2aae  0.0  0.5  0.0   \n",
       "9  БПМ-161      Иванов      Артём  Владиславович  a2d96fe1d4  0.0  0.7  1.0   \n",
       "\n",
       "     3    4    5    6    7    8  \n",
       "0  0.5  0.5  0.0  0.0  0.0  0.0  \n",
       "1  0.5  0.0  0.0  0.0  0.0  0.0  \n",
       "2  0.0  0.0  0.0  0.0  0.0  0.0  \n",
       "3  0.5  0.5  0.0  0.0  0.0  0.0  \n",
       "4  NaN  NaN  NaN  NaN  NaN  NaN  \n",
       "5  NaN  NaN  NaN  NaN  NaN  NaN  \n",
       "6  1.0  0.5  0.0  0.0  0.0  0.0  \n",
       "7  NaN  NaN  NaN  NaN  NaN  NaN  \n",
       "8  0.0  0.0  0.0  0.0  0.0  0.0  \n",
       "9  1.0  0.0  0.0  0.0  0.0  0.0  "
      ],
      "text/html": [
       "<div>\n",
       "<style scoped>\n",
       "    .dataframe tbody tr th:only-of-type {\n",
       "        vertical-align: middle;\n",
       "    }\n",
       "\n",
       "    .dataframe tbody tr th {\n",
       "        vertical-align: top;\n",
       "    }\n",
       "\n",
       "    .dataframe thead th {\n",
       "        text-align: right;\n",
       "    }\n",
       "</style>\n",
       "<table border=\"1\" class=\"dataframe\">\n",
       "  <thead>\n",
       "    <tr style=\"text-align: right;\">\n",
       "      <th></th>\n",
       "      <th>Группа</th>\n",
       "      <th>Фамилия</th>\n",
       "      <th>Имя</th>\n",
       "      <th>Отчество</th>\n",
       "      <th>hash</th>\n",
       "      <th>0</th>\n",
       "      <th>1</th>\n",
       "      <th>2</th>\n",
       "      <th>3</th>\n",
       "      <th>4</th>\n",
       "      <th>5</th>\n",
       "      <th>6</th>\n",
       "      <th>7</th>\n",
       "      <th>8</th>\n",
       "    </tr>\n",
       "  </thead>\n",
       "  <tbody>\n",
       "    <tr>\n",
       "      <th>0</th>\n",
       "      <td>БПМ-161</td>\n",
       "      <td>Антонов</td>\n",
       "      <td>Алексей</td>\n",
       "      <td>Алексеевич</td>\n",
       "      <td>6875ba52f0</td>\n",
       "      <td>0.0</td>\n",
       "      <td>0.9</td>\n",
       "      <td>0.0</td>\n",
       "      <td>0.5</td>\n",
       "      <td>0.5</td>\n",
       "      <td>0.0</td>\n",
       "      <td>0.0</td>\n",
       "      <td>0.0</td>\n",
       "      <td>0.0</td>\n",
       "    </tr>\n",
       "    <tr>\n",
       "      <th>1</th>\n",
       "      <td>БПМ-161</td>\n",
       "      <td>Арсамакова</td>\n",
       "      <td>Алина</td>\n",
       "      <td>Ибрагимовна</td>\n",
       "      <td>7ca01c996f</td>\n",
       "      <td>0.5</td>\n",
       "      <td>0.8</td>\n",
       "      <td>0.5</td>\n",
       "      <td>0.5</td>\n",
       "      <td>0.0</td>\n",
       "      <td>0.0</td>\n",
       "      <td>0.0</td>\n",
       "      <td>0.0</td>\n",
       "      <td>0.0</td>\n",
       "    </tr>\n",
       "    <tr>\n",
       "      <th>2</th>\n",
       "      <td>БПМ-161</td>\n",
       "      <td>Богатов</td>\n",
       "      <td>Антон</td>\n",
       "      <td>Юрьевич</td>\n",
       "      <td>15360bcc4c</td>\n",
       "      <td>0.0</td>\n",
       "      <td>0.0</td>\n",
       "      <td>0.0</td>\n",
       "      <td>0.0</td>\n",
       "      <td>0.0</td>\n",
       "      <td>0.0</td>\n",
       "      <td>0.0</td>\n",
       "      <td>0.0</td>\n",
       "      <td>0.0</td>\n",
       "    </tr>\n",
       "    <tr>\n",
       "      <th>3</th>\n",
       "      <td>БПМ-161</td>\n",
       "      <td>Бычков</td>\n",
       "      <td>Андрей</td>\n",
       "      <td>-</td>\n",
       "      <td>f9f854aa44</td>\n",
       "      <td>1.0</td>\n",
       "      <td>0.9</td>\n",
       "      <td>0.0</td>\n",
       "      <td>0.5</td>\n",
       "      <td>0.5</td>\n",
       "      <td>0.0</td>\n",
       "      <td>0.0</td>\n",
       "      <td>0.0</td>\n",
       "      <td>0.0</td>\n",
       "    </tr>\n",
       "    <tr>\n",
       "      <th>4</th>\n",
       "      <td>БПМ-161</td>\n",
       "      <td>Высоцкий</td>\n",
       "      <td>Яков</td>\n",
       "      <td>Михайлович</td>\n",
       "      <td>1d1d05c257</td>\n",
       "      <td>NaN</td>\n",
       "      <td>NaN</td>\n",
       "      <td>NaN</td>\n",
       "      <td>NaN</td>\n",
       "      <td>NaN</td>\n",
       "      <td>NaN</td>\n",
       "      <td>NaN</td>\n",
       "      <td>NaN</td>\n",
       "      <td>NaN</td>\n",
       "    </tr>\n",
       "    <tr>\n",
       "      <th>5</th>\n",
       "      <td>БПМ-161</td>\n",
       "      <td>Галигеров</td>\n",
       "      <td>Владислав</td>\n",
       "      <td>Сергеевич</td>\n",
       "      <td>738b683ed7</td>\n",
       "      <td>NaN</td>\n",
       "      <td>NaN</td>\n",
       "      <td>NaN</td>\n",
       "      <td>NaN</td>\n",
       "      <td>NaN</td>\n",
       "      <td>NaN</td>\n",
       "      <td>NaN</td>\n",
       "      <td>NaN</td>\n",
       "      <td>NaN</td>\n",
       "    </tr>\n",
       "    <tr>\n",
       "      <th>6</th>\n",
       "      <td>БПМ-161</td>\n",
       "      <td>Гончаров</td>\n",
       "      <td>Глеб</td>\n",
       "      <td>Игоревич</td>\n",
       "      <td>3f187965b9</td>\n",
       "      <td>0.0</td>\n",
       "      <td>0.0</td>\n",
       "      <td>0.8</td>\n",
       "      <td>1.0</td>\n",
       "      <td>0.5</td>\n",
       "      <td>0.0</td>\n",
       "      <td>0.0</td>\n",
       "      <td>0.0</td>\n",
       "      <td>0.0</td>\n",
       "    </tr>\n",
       "    <tr>\n",
       "      <th>7</th>\n",
       "      <td>БПМ-161</td>\n",
       "      <td>Городилов</td>\n",
       "      <td>Илья</td>\n",
       "      <td>Игоревич</td>\n",
       "      <td>6df2f31eb9</td>\n",
       "      <td>NaN</td>\n",
       "      <td>NaN</td>\n",
       "      <td>NaN</td>\n",
       "      <td>NaN</td>\n",
       "      <td>NaN</td>\n",
       "      <td>NaN</td>\n",
       "      <td>NaN</td>\n",
       "      <td>NaN</td>\n",
       "      <td>NaN</td>\n",
       "    </tr>\n",
       "    <tr>\n",
       "      <th>8</th>\n",
       "      <td>БПМ-161</td>\n",
       "      <td>Дудинов</td>\n",
       "      <td>Тимур</td>\n",
       "      <td>Батырович</td>\n",
       "      <td>e1388f2aae</td>\n",
       "      <td>0.0</td>\n",
       "      <td>0.5</td>\n",
       "      <td>0.0</td>\n",
       "      <td>0.0</td>\n",
       "      <td>0.0</td>\n",
       "      <td>0.0</td>\n",
       "      <td>0.0</td>\n",
       "      <td>0.0</td>\n",
       "      <td>0.0</td>\n",
       "    </tr>\n",
       "    <tr>\n",
       "      <th>9</th>\n",
       "      <td>БПМ-161</td>\n",
       "      <td>Иванов</td>\n",
       "      <td>Артём</td>\n",
       "      <td>Владиславович</td>\n",
       "      <td>a2d96fe1d4</td>\n",
       "      <td>0.0</td>\n",
       "      <td>0.7</td>\n",
       "      <td>1.0</td>\n",
       "      <td>1.0</td>\n",
       "      <td>0.0</td>\n",
       "      <td>0.0</td>\n",
       "      <td>0.0</td>\n",
       "      <td>0.0</td>\n",
       "      <td>0.0</td>\n",
       "    </tr>\n",
       "  </tbody>\n",
       "</table>\n",
       "</div>"
      ]
     },
     "execution_count": 162,
     "metadata": {},
     "output_type": "execute_result"
    }
   ],
   "execution_count": 162
  },
  {
   "cell_type": "code",
   "metadata": {
    "ExecuteTime": {
     "end_time": "2024-07-26T14:30:56.653671Z",
     "start_time": "2024-07-26T14:30:56.636798Z"
    }
   },
   "source": [
    "# присоединить подходящие строки из df_hashes к df_grades\n",
    "df = pd.merge(df_hashes, df_grades, on=\"hash\", how=\"right\")\n",
    "print(df.shape)\n",
    "df.head(10)"
   ],
   "outputs": [
    {
     "name": "stdout",
     "output_type": "stream",
     "text": [
      "(38, 14)\n"
     ]
    },
    {
     "data": {
      "text/plain": [
       "    Группа      Фамилия        Имя     Отчество        hash    0    1    2  \\\n",
       "0  БПМ-162       Сучков     Даниил   Викторович  cbe32a2a1b  0.8  1.0  1.0   \n",
       "1  БПМ-161  Хмельницкий     Даниил  Анатольевич  caa93590ad  0.2  0.2  0.9   \n",
       "2  БПМ-162        Углов       Егор   Алексеевич  5bbe47f96d  0.8  1.0  1.0   \n",
       "3  БПМ-161     Гончаров       Глеб     Игоревич  3f187965b9  0.0  0.0  0.8   \n",
       "4  БПМ-161     Мартынов     Никита     Игоревич  bf1e56e185  0.0  0.0  0.0   \n",
       "5  БПМ-161   Арсамакова      Алина  Ибрагимовна  7ca01c996f  0.5  0.8  0.5   \n",
       "6  БПМ-162   Островский   Всеволод     Петрович  2a5a018502  0.9  1.0  1.0   \n",
       "7  БПМ-162    Борисычев  Александр    Сергеевич  99fe117fcb  0.8  0.0  1.0   \n",
       "8  БПМ-161      Антонов    Алексей   Алексеевич  6875ba52f0  0.0  0.9  0.0   \n",
       "9  БПМ-162     Лисицына  Анастасия    Сергеевна  1eea619f12  0.8  1.0  0.0   \n",
       "\n",
       "     3    4    5    6    7    8  \n",
       "0  1.0  1.0  1.0  0.0  0.0  0.0  \n",
       "1  0.7  0.0  0.0  0.0  0.0  0.0  \n",
       "2  1.0  1.0  0.0  0.5  0.0  0.0  \n",
       "3  1.0  0.5  0.0  0.0  0.0  0.0  \n",
       "4  0.0  0.0  0.0  0.0  0.0  0.0  \n",
       "5  0.5  0.0  0.0  0.0  0.0  0.0  \n",
       "6  1.0  0.8  0.0  0.5  0.0  0.7  \n",
       "7  0.9  1.0  1.0  0.5  0.0  0.0  \n",
       "8  0.5  0.5  0.0  0.0  0.0  0.0  \n",
       "9  0.2  0.5  0.2  0.0  0.0  0.2  "
      ],
      "text/html": [
       "<div>\n",
       "<style scoped>\n",
       "    .dataframe tbody tr th:only-of-type {\n",
       "        vertical-align: middle;\n",
       "    }\n",
       "\n",
       "    .dataframe tbody tr th {\n",
       "        vertical-align: top;\n",
       "    }\n",
       "\n",
       "    .dataframe thead th {\n",
       "        text-align: right;\n",
       "    }\n",
       "</style>\n",
       "<table border=\"1\" class=\"dataframe\">\n",
       "  <thead>\n",
       "    <tr style=\"text-align: right;\">\n",
       "      <th></th>\n",
       "      <th>Группа</th>\n",
       "      <th>Фамилия</th>\n",
       "      <th>Имя</th>\n",
       "      <th>Отчество</th>\n",
       "      <th>hash</th>\n",
       "      <th>0</th>\n",
       "      <th>1</th>\n",
       "      <th>2</th>\n",
       "      <th>3</th>\n",
       "      <th>4</th>\n",
       "      <th>5</th>\n",
       "      <th>6</th>\n",
       "      <th>7</th>\n",
       "      <th>8</th>\n",
       "    </tr>\n",
       "  </thead>\n",
       "  <tbody>\n",
       "    <tr>\n",
       "      <th>0</th>\n",
       "      <td>БПМ-162</td>\n",
       "      <td>Сучков</td>\n",
       "      <td>Даниил</td>\n",
       "      <td>Викторович</td>\n",
       "      <td>cbe32a2a1b</td>\n",
       "      <td>0.8</td>\n",
       "      <td>1.0</td>\n",
       "      <td>1.0</td>\n",
       "      <td>1.0</td>\n",
       "      <td>1.0</td>\n",
       "      <td>1.0</td>\n",
       "      <td>0.0</td>\n",
       "      <td>0.0</td>\n",
       "      <td>0.0</td>\n",
       "    </tr>\n",
       "    <tr>\n",
       "      <th>1</th>\n",
       "      <td>БПМ-161</td>\n",
       "      <td>Хмельницкий</td>\n",
       "      <td>Даниил</td>\n",
       "      <td>Анатольевич</td>\n",
       "      <td>caa93590ad</td>\n",
       "      <td>0.2</td>\n",
       "      <td>0.2</td>\n",
       "      <td>0.9</td>\n",
       "      <td>0.7</td>\n",
       "      <td>0.0</td>\n",
       "      <td>0.0</td>\n",
       "      <td>0.0</td>\n",
       "      <td>0.0</td>\n",
       "      <td>0.0</td>\n",
       "    </tr>\n",
       "    <tr>\n",
       "      <th>2</th>\n",
       "      <td>БПМ-162</td>\n",
       "      <td>Углов</td>\n",
       "      <td>Егор</td>\n",
       "      <td>Алексеевич</td>\n",
       "      <td>5bbe47f96d</td>\n",
       "      <td>0.8</td>\n",
       "      <td>1.0</td>\n",
       "      <td>1.0</td>\n",
       "      <td>1.0</td>\n",
       "      <td>1.0</td>\n",
       "      <td>0.0</td>\n",
       "      <td>0.5</td>\n",
       "      <td>0.0</td>\n",
       "      <td>0.0</td>\n",
       "    </tr>\n",
       "    <tr>\n",
       "      <th>3</th>\n",
       "      <td>БПМ-161</td>\n",
       "      <td>Гончаров</td>\n",
       "      <td>Глеб</td>\n",
       "      <td>Игоревич</td>\n",
       "      <td>3f187965b9</td>\n",
       "      <td>0.0</td>\n",
       "      <td>0.0</td>\n",
       "      <td>0.8</td>\n",
       "      <td>1.0</td>\n",
       "      <td>0.5</td>\n",
       "      <td>0.0</td>\n",
       "      <td>0.0</td>\n",
       "      <td>0.0</td>\n",
       "      <td>0.0</td>\n",
       "    </tr>\n",
       "    <tr>\n",
       "      <th>4</th>\n",
       "      <td>БПМ-161</td>\n",
       "      <td>Мартынов</td>\n",
       "      <td>Никита</td>\n",
       "      <td>Игоревич</td>\n",
       "      <td>bf1e56e185</td>\n",
       "      <td>0.0</td>\n",
       "      <td>0.0</td>\n",
       "      <td>0.0</td>\n",
       "      <td>0.0</td>\n",
       "      <td>0.0</td>\n",
       "      <td>0.0</td>\n",
       "      <td>0.0</td>\n",
       "      <td>0.0</td>\n",
       "      <td>0.0</td>\n",
       "    </tr>\n",
       "    <tr>\n",
       "      <th>5</th>\n",
       "      <td>БПМ-161</td>\n",
       "      <td>Арсамакова</td>\n",
       "      <td>Алина</td>\n",
       "      <td>Ибрагимовна</td>\n",
       "      <td>7ca01c996f</td>\n",
       "      <td>0.5</td>\n",
       "      <td>0.8</td>\n",
       "      <td>0.5</td>\n",
       "      <td>0.5</td>\n",
       "      <td>0.0</td>\n",
       "      <td>0.0</td>\n",
       "      <td>0.0</td>\n",
       "      <td>0.0</td>\n",
       "      <td>0.0</td>\n",
       "    </tr>\n",
       "    <tr>\n",
       "      <th>6</th>\n",
       "      <td>БПМ-162</td>\n",
       "      <td>Островский</td>\n",
       "      <td>Всеволод</td>\n",
       "      <td>Петрович</td>\n",
       "      <td>2a5a018502</td>\n",
       "      <td>0.9</td>\n",
       "      <td>1.0</td>\n",
       "      <td>1.0</td>\n",
       "      <td>1.0</td>\n",
       "      <td>0.8</td>\n",
       "      <td>0.0</td>\n",
       "      <td>0.5</td>\n",
       "      <td>0.0</td>\n",
       "      <td>0.7</td>\n",
       "    </tr>\n",
       "    <tr>\n",
       "      <th>7</th>\n",
       "      <td>БПМ-162</td>\n",
       "      <td>Борисычев</td>\n",
       "      <td>Александр</td>\n",
       "      <td>Сергеевич</td>\n",
       "      <td>99fe117fcb</td>\n",
       "      <td>0.8</td>\n",
       "      <td>0.0</td>\n",
       "      <td>1.0</td>\n",
       "      <td>0.9</td>\n",
       "      <td>1.0</td>\n",
       "      <td>1.0</td>\n",
       "      <td>0.5</td>\n",
       "      <td>0.0</td>\n",
       "      <td>0.0</td>\n",
       "    </tr>\n",
       "    <tr>\n",
       "      <th>8</th>\n",
       "      <td>БПМ-161</td>\n",
       "      <td>Антонов</td>\n",
       "      <td>Алексей</td>\n",
       "      <td>Алексеевич</td>\n",
       "      <td>6875ba52f0</td>\n",
       "      <td>0.0</td>\n",
       "      <td>0.9</td>\n",
       "      <td>0.0</td>\n",
       "      <td>0.5</td>\n",
       "      <td>0.5</td>\n",
       "      <td>0.0</td>\n",
       "      <td>0.0</td>\n",
       "      <td>0.0</td>\n",
       "      <td>0.0</td>\n",
       "    </tr>\n",
       "    <tr>\n",
       "      <th>9</th>\n",
       "      <td>БПМ-162</td>\n",
       "      <td>Лисицына</td>\n",
       "      <td>Анастасия</td>\n",
       "      <td>Сергеевна</td>\n",
       "      <td>1eea619f12</td>\n",
       "      <td>0.8</td>\n",
       "      <td>1.0</td>\n",
       "      <td>0.0</td>\n",
       "      <td>0.2</td>\n",
       "      <td>0.5</td>\n",
       "      <td>0.2</td>\n",
       "      <td>0.0</td>\n",
       "      <td>0.0</td>\n",
       "      <td>0.2</td>\n",
       "    </tr>\n",
       "  </tbody>\n",
       "</table>\n",
       "</div>"
      ]
     },
     "execution_count": 163,
     "metadata": {},
     "output_type": "execute_result"
    }
   ],
   "execution_count": 163
  },
  {
   "cell_type": "code",
   "metadata": {
    "ExecuteTime": {
     "end_time": "2024-07-26T14:30:56.783551Z",
     "start_time": "2024-07-26T14:30:56.766856Z"
    }
   },
   "source": [
    "# пересечение таблиц\n",
    "# в данном случае эквивалентно 'right', т.к. в df_grades нет таких хэшей, которые отсутствуют в df_hashes\n",
    "df = pd.merge(df_hashes, df_grades, on=\"hash\", how=\"inner\")\n",
    "print(df.shape)\n",
    "df.head(10)"
   ],
   "outputs": [
    {
     "name": "stdout",
     "output_type": "stream",
     "text": [
      "(38, 14)\n"
     ]
    },
    {
     "data": {
      "text/plain": [
       "    Группа     Фамилия        Имя        Отчество        hash    0    1    2  \\\n",
       "0  БПМ-161     Антонов    Алексей      Алексеевич  6875ba52f0  0.0  0.9  0.0   \n",
       "1  БПМ-161  Арсамакова      Алина     Ибрагимовна  7ca01c996f  0.5  0.8  0.5   \n",
       "2  БПМ-161     Богатов      Антон         Юрьевич  15360bcc4c  0.0  0.0  0.0   \n",
       "3  БПМ-161      Бычков     Андрей               -  f9f854aa44  1.0  0.9  0.0   \n",
       "4  БПМ-161    Гончаров       Глеб        Игоревич  3f187965b9  0.0  0.0  0.8   \n",
       "5  БПМ-161     Дудинов      Тимур       Батырович  e1388f2aae  0.0  0.5  0.0   \n",
       "6  БПМ-161      Иванов      Артём   Владиславович  a2d96fe1d4  0.0  0.7  1.0   \n",
       "7  БПМ-161   Кубышкина  Екатерина  Константиновна  6588f97aea  0.0  0.6  1.0   \n",
       "8  БПМ-161    Мартынов     Никита        Игоревич  bf1e56e185  0.0  0.0  0.0   \n",
       "9  БПМ-161      Плешко    Георгий      Дмитриевич  5a0a06b184  0.0  0.0  1.0   \n",
       "\n",
       "     3    4    5    6    7    8  \n",
       "0  0.5  0.5  0.0  0.0  0.0  0.0  \n",
       "1  0.5  0.0  0.0  0.0  0.0  0.0  \n",
       "2  0.0  0.0  0.0  0.0  0.0  0.0  \n",
       "3  0.5  0.5  0.0  0.0  0.0  0.0  \n",
       "4  1.0  0.5  0.0  0.0  0.0  0.0  \n",
       "5  0.0  0.0  0.0  0.0  0.0  0.0  \n",
       "6  1.0  0.0  0.0  0.0  0.0  0.0  \n",
       "7  1.0  1.0  0.5  0.0  0.0  0.7  \n",
       "8  0.0  0.0  0.0  0.0  0.0  0.0  \n",
       "9  1.0  0.0  0.0  0.0  0.0  0.0  "
      ],
      "text/html": [
       "<div>\n",
       "<style scoped>\n",
       "    .dataframe tbody tr th:only-of-type {\n",
       "        vertical-align: middle;\n",
       "    }\n",
       "\n",
       "    .dataframe tbody tr th {\n",
       "        vertical-align: top;\n",
       "    }\n",
       "\n",
       "    .dataframe thead th {\n",
       "        text-align: right;\n",
       "    }\n",
       "</style>\n",
       "<table border=\"1\" class=\"dataframe\">\n",
       "  <thead>\n",
       "    <tr style=\"text-align: right;\">\n",
       "      <th></th>\n",
       "      <th>Группа</th>\n",
       "      <th>Фамилия</th>\n",
       "      <th>Имя</th>\n",
       "      <th>Отчество</th>\n",
       "      <th>hash</th>\n",
       "      <th>0</th>\n",
       "      <th>1</th>\n",
       "      <th>2</th>\n",
       "      <th>3</th>\n",
       "      <th>4</th>\n",
       "      <th>5</th>\n",
       "      <th>6</th>\n",
       "      <th>7</th>\n",
       "      <th>8</th>\n",
       "    </tr>\n",
       "  </thead>\n",
       "  <tbody>\n",
       "    <tr>\n",
       "      <th>0</th>\n",
       "      <td>БПМ-161</td>\n",
       "      <td>Антонов</td>\n",
       "      <td>Алексей</td>\n",
       "      <td>Алексеевич</td>\n",
       "      <td>6875ba52f0</td>\n",
       "      <td>0.0</td>\n",
       "      <td>0.9</td>\n",
       "      <td>0.0</td>\n",
       "      <td>0.5</td>\n",
       "      <td>0.5</td>\n",
       "      <td>0.0</td>\n",
       "      <td>0.0</td>\n",
       "      <td>0.0</td>\n",
       "      <td>0.0</td>\n",
       "    </tr>\n",
       "    <tr>\n",
       "      <th>1</th>\n",
       "      <td>БПМ-161</td>\n",
       "      <td>Арсамакова</td>\n",
       "      <td>Алина</td>\n",
       "      <td>Ибрагимовна</td>\n",
       "      <td>7ca01c996f</td>\n",
       "      <td>0.5</td>\n",
       "      <td>0.8</td>\n",
       "      <td>0.5</td>\n",
       "      <td>0.5</td>\n",
       "      <td>0.0</td>\n",
       "      <td>0.0</td>\n",
       "      <td>0.0</td>\n",
       "      <td>0.0</td>\n",
       "      <td>0.0</td>\n",
       "    </tr>\n",
       "    <tr>\n",
       "      <th>2</th>\n",
       "      <td>БПМ-161</td>\n",
       "      <td>Богатов</td>\n",
       "      <td>Антон</td>\n",
       "      <td>Юрьевич</td>\n",
       "      <td>15360bcc4c</td>\n",
       "      <td>0.0</td>\n",
       "      <td>0.0</td>\n",
       "      <td>0.0</td>\n",
       "      <td>0.0</td>\n",
       "      <td>0.0</td>\n",
       "      <td>0.0</td>\n",
       "      <td>0.0</td>\n",
       "      <td>0.0</td>\n",
       "      <td>0.0</td>\n",
       "    </tr>\n",
       "    <tr>\n",
       "      <th>3</th>\n",
       "      <td>БПМ-161</td>\n",
       "      <td>Бычков</td>\n",
       "      <td>Андрей</td>\n",
       "      <td>-</td>\n",
       "      <td>f9f854aa44</td>\n",
       "      <td>1.0</td>\n",
       "      <td>0.9</td>\n",
       "      <td>0.0</td>\n",
       "      <td>0.5</td>\n",
       "      <td>0.5</td>\n",
       "      <td>0.0</td>\n",
       "      <td>0.0</td>\n",
       "      <td>0.0</td>\n",
       "      <td>0.0</td>\n",
       "    </tr>\n",
       "    <tr>\n",
       "      <th>4</th>\n",
       "      <td>БПМ-161</td>\n",
       "      <td>Гончаров</td>\n",
       "      <td>Глеб</td>\n",
       "      <td>Игоревич</td>\n",
       "      <td>3f187965b9</td>\n",
       "      <td>0.0</td>\n",
       "      <td>0.0</td>\n",
       "      <td>0.8</td>\n",
       "      <td>1.0</td>\n",
       "      <td>0.5</td>\n",
       "      <td>0.0</td>\n",
       "      <td>0.0</td>\n",
       "      <td>0.0</td>\n",
       "      <td>0.0</td>\n",
       "    </tr>\n",
       "    <tr>\n",
       "      <th>5</th>\n",
       "      <td>БПМ-161</td>\n",
       "      <td>Дудинов</td>\n",
       "      <td>Тимур</td>\n",
       "      <td>Батырович</td>\n",
       "      <td>e1388f2aae</td>\n",
       "      <td>0.0</td>\n",
       "      <td>0.5</td>\n",
       "      <td>0.0</td>\n",
       "      <td>0.0</td>\n",
       "      <td>0.0</td>\n",
       "      <td>0.0</td>\n",
       "      <td>0.0</td>\n",
       "      <td>0.0</td>\n",
       "      <td>0.0</td>\n",
       "    </tr>\n",
       "    <tr>\n",
       "      <th>6</th>\n",
       "      <td>БПМ-161</td>\n",
       "      <td>Иванов</td>\n",
       "      <td>Артём</td>\n",
       "      <td>Владиславович</td>\n",
       "      <td>a2d96fe1d4</td>\n",
       "      <td>0.0</td>\n",
       "      <td>0.7</td>\n",
       "      <td>1.0</td>\n",
       "      <td>1.0</td>\n",
       "      <td>0.0</td>\n",
       "      <td>0.0</td>\n",
       "      <td>0.0</td>\n",
       "      <td>0.0</td>\n",
       "      <td>0.0</td>\n",
       "    </tr>\n",
       "    <tr>\n",
       "      <th>7</th>\n",
       "      <td>БПМ-161</td>\n",
       "      <td>Кубышкина</td>\n",
       "      <td>Екатерина</td>\n",
       "      <td>Константиновна</td>\n",
       "      <td>6588f97aea</td>\n",
       "      <td>0.0</td>\n",
       "      <td>0.6</td>\n",
       "      <td>1.0</td>\n",
       "      <td>1.0</td>\n",
       "      <td>1.0</td>\n",
       "      <td>0.5</td>\n",
       "      <td>0.0</td>\n",
       "      <td>0.0</td>\n",
       "      <td>0.7</td>\n",
       "    </tr>\n",
       "    <tr>\n",
       "      <th>8</th>\n",
       "      <td>БПМ-161</td>\n",
       "      <td>Мартынов</td>\n",
       "      <td>Никита</td>\n",
       "      <td>Игоревич</td>\n",
       "      <td>bf1e56e185</td>\n",
       "      <td>0.0</td>\n",
       "      <td>0.0</td>\n",
       "      <td>0.0</td>\n",
       "      <td>0.0</td>\n",
       "      <td>0.0</td>\n",
       "      <td>0.0</td>\n",
       "      <td>0.0</td>\n",
       "      <td>0.0</td>\n",
       "      <td>0.0</td>\n",
       "    </tr>\n",
       "    <tr>\n",
       "      <th>9</th>\n",
       "      <td>БПМ-161</td>\n",
       "      <td>Плешко</td>\n",
       "      <td>Георгий</td>\n",
       "      <td>Дмитриевич</td>\n",
       "      <td>5a0a06b184</td>\n",
       "      <td>0.0</td>\n",
       "      <td>0.0</td>\n",
       "      <td>1.0</td>\n",
       "      <td>1.0</td>\n",
       "      <td>0.0</td>\n",
       "      <td>0.0</td>\n",
       "      <td>0.0</td>\n",
       "      <td>0.0</td>\n",
       "      <td>0.0</td>\n",
       "    </tr>\n",
       "  </tbody>\n",
       "</table>\n",
       "</div>"
      ]
     },
     "execution_count": 164,
     "metadata": {},
     "output_type": "execute_result"
    }
   ],
   "execution_count": 164
  },
  {
   "cell_type": "code",
   "metadata": {
    "ExecuteTime": {
     "end_time": "2024-07-26T14:30:56.928506Z",
     "start_time": "2024-07-26T14:30:56.912607Z"
    }
   },
   "source": [
    "# объединение таблиц\n",
    "# в данном случае эквивалентно 'left', т.к. в df_grades нет таких хэшей, которые отсутствуют в df_hashes\n",
    "df = pd.merge(df_hashes, df_grades, on=\"hash\", how=\"outer\")\n",
    "print(df.shape)\n",
    "df.head(10)"
   ],
   "outputs": [
    {
     "name": "stdout",
     "output_type": "stream",
     "text": [
      "(95, 14)\n"
     ]
    },
    {
     "data": {
      "text/plain": [
       "    Группа     Фамилия        Имя       Отчество        hash    0    1    2  \\\n",
       "0  БПМ-163   Румянцева  Екатерина  Александровна  021751395a  NaN  NaN  NaN   \n",
       "1  БПМ-163     Балашов          В              В  0a9d4d6207  NaN  NaN  NaN   \n",
       "2  БПМ-162    Сергачев     Андрей     Дмитриевич  10e36024c4  NaN  NaN  NaN   \n",
       "3  БПМ-161     Синицын  Александр        Юрьевич  1279af2d6f  NaN  NaN  NaN   \n",
       "4  БПМ-163     Ефремов     Андрей  Александрович  12a03228b1  NaN  NaN  NaN   \n",
       "5  БПМ-161     Богатов      Антон        Юрьевич  15360bcc4c  0.0  0.0  0.0   \n",
       "6  БПМ-161     Соколов  Александр     Николаевич  165aac7dac  NaN  NaN  NaN   \n",
       "7  БПМ-161    Высоцкий       Яков     Михайлович  1d1d05c257  NaN  NaN  NaN   \n",
       "8  БПМ-162  Загороднев      Денис    Григорьевич  1e6b966bf9  NaN  NaN  NaN   \n",
       "9  БПМ-162    Лисицына  Анастасия      Сергеевна  1eea619f12  0.8  1.0  0.0   \n",
       "\n",
       "     3    4    5    6    7    8  \n",
       "0  NaN  NaN  NaN  NaN  NaN  NaN  \n",
       "1  NaN  NaN  NaN  NaN  NaN  NaN  \n",
       "2  NaN  NaN  NaN  NaN  NaN  NaN  \n",
       "3  NaN  NaN  NaN  NaN  NaN  NaN  \n",
       "4  NaN  NaN  NaN  NaN  NaN  NaN  \n",
       "5  0.0  0.0  0.0  0.0  0.0  0.0  \n",
       "6  NaN  NaN  NaN  NaN  NaN  NaN  \n",
       "7  NaN  NaN  NaN  NaN  NaN  NaN  \n",
       "8  NaN  NaN  NaN  NaN  NaN  NaN  \n",
       "9  0.2  0.5  0.2  0.0  0.0  0.2  "
      ],
      "text/html": [
       "<div>\n",
       "<style scoped>\n",
       "    .dataframe tbody tr th:only-of-type {\n",
       "        vertical-align: middle;\n",
       "    }\n",
       "\n",
       "    .dataframe tbody tr th {\n",
       "        vertical-align: top;\n",
       "    }\n",
       "\n",
       "    .dataframe thead th {\n",
       "        text-align: right;\n",
       "    }\n",
       "</style>\n",
       "<table border=\"1\" class=\"dataframe\">\n",
       "  <thead>\n",
       "    <tr style=\"text-align: right;\">\n",
       "      <th></th>\n",
       "      <th>Группа</th>\n",
       "      <th>Фамилия</th>\n",
       "      <th>Имя</th>\n",
       "      <th>Отчество</th>\n",
       "      <th>hash</th>\n",
       "      <th>0</th>\n",
       "      <th>1</th>\n",
       "      <th>2</th>\n",
       "      <th>3</th>\n",
       "      <th>4</th>\n",
       "      <th>5</th>\n",
       "      <th>6</th>\n",
       "      <th>7</th>\n",
       "      <th>8</th>\n",
       "    </tr>\n",
       "  </thead>\n",
       "  <tbody>\n",
       "    <tr>\n",
       "      <th>0</th>\n",
       "      <td>БПМ-163</td>\n",
       "      <td>Румянцева</td>\n",
       "      <td>Екатерина</td>\n",
       "      <td>Александровна</td>\n",
       "      <td>021751395a</td>\n",
       "      <td>NaN</td>\n",
       "      <td>NaN</td>\n",
       "      <td>NaN</td>\n",
       "      <td>NaN</td>\n",
       "      <td>NaN</td>\n",
       "      <td>NaN</td>\n",
       "      <td>NaN</td>\n",
       "      <td>NaN</td>\n",
       "      <td>NaN</td>\n",
       "    </tr>\n",
       "    <tr>\n",
       "      <th>1</th>\n",
       "      <td>БПМ-163</td>\n",
       "      <td>Балашов</td>\n",
       "      <td>В</td>\n",
       "      <td>В</td>\n",
       "      <td>0a9d4d6207</td>\n",
       "      <td>NaN</td>\n",
       "      <td>NaN</td>\n",
       "      <td>NaN</td>\n",
       "      <td>NaN</td>\n",
       "      <td>NaN</td>\n",
       "      <td>NaN</td>\n",
       "      <td>NaN</td>\n",
       "      <td>NaN</td>\n",
       "      <td>NaN</td>\n",
       "    </tr>\n",
       "    <tr>\n",
       "      <th>2</th>\n",
       "      <td>БПМ-162</td>\n",
       "      <td>Сергачев</td>\n",
       "      <td>Андрей</td>\n",
       "      <td>Дмитриевич</td>\n",
       "      <td>10e36024c4</td>\n",
       "      <td>NaN</td>\n",
       "      <td>NaN</td>\n",
       "      <td>NaN</td>\n",
       "      <td>NaN</td>\n",
       "      <td>NaN</td>\n",
       "      <td>NaN</td>\n",
       "      <td>NaN</td>\n",
       "      <td>NaN</td>\n",
       "      <td>NaN</td>\n",
       "    </tr>\n",
       "    <tr>\n",
       "      <th>3</th>\n",
       "      <td>БПМ-161</td>\n",
       "      <td>Синицын</td>\n",
       "      <td>Александр</td>\n",
       "      <td>Юрьевич</td>\n",
       "      <td>1279af2d6f</td>\n",
       "      <td>NaN</td>\n",
       "      <td>NaN</td>\n",
       "      <td>NaN</td>\n",
       "      <td>NaN</td>\n",
       "      <td>NaN</td>\n",
       "      <td>NaN</td>\n",
       "      <td>NaN</td>\n",
       "      <td>NaN</td>\n",
       "      <td>NaN</td>\n",
       "    </tr>\n",
       "    <tr>\n",
       "      <th>4</th>\n",
       "      <td>БПМ-163</td>\n",
       "      <td>Ефремов</td>\n",
       "      <td>Андрей</td>\n",
       "      <td>Александрович</td>\n",
       "      <td>12a03228b1</td>\n",
       "      <td>NaN</td>\n",
       "      <td>NaN</td>\n",
       "      <td>NaN</td>\n",
       "      <td>NaN</td>\n",
       "      <td>NaN</td>\n",
       "      <td>NaN</td>\n",
       "      <td>NaN</td>\n",
       "      <td>NaN</td>\n",
       "      <td>NaN</td>\n",
       "    </tr>\n",
       "    <tr>\n",
       "      <th>5</th>\n",
       "      <td>БПМ-161</td>\n",
       "      <td>Богатов</td>\n",
       "      <td>Антон</td>\n",
       "      <td>Юрьевич</td>\n",
       "      <td>15360bcc4c</td>\n",
       "      <td>0.0</td>\n",
       "      <td>0.0</td>\n",
       "      <td>0.0</td>\n",
       "      <td>0.0</td>\n",
       "      <td>0.0</td>\n",
       "      <td>0.0</td>\n",
       "      <td>0.0</td>\n",
       "      <td>0.0</td>\n",
       "      <td>0.0</td>\n",
       "    </tr>\n",
       "    <tr>\n",
       "      <th>6</th>\n",
       "      <td>БПМ-161</td>\n",
       "      <td>Соколов</td>\n",
       "      <td>Александр</td>\n",
       "      <td>Николаевич</td>\n",
       "      <td>165aac7dac</td>\n",
       "      <td>NaN</td>\n",
       "      <td>NaN</td>\n",
       "      <td>NaN</td>\n",
       "      <td>NaN</td>\n",
       "      <td>NaN</td>\n",
       "      <td>NaN</td>\n",
       "      <td>NaN</td>\n",
       "      <td>NaN</td>\n",
       "      <td>NaN</td>\n",
       "    </tr>\n",
       "    <tr>\n",
       "      <th>7</th>\n",
       "      <td>БПМ-161</td>\n",
       "      <td>Высоцкий</td>\n",
       "      <td>Яков</td>\n",
       "      <td>Михайлович</td>\n",
       "      <td>1d1d05c257</td>\n",
       "      <td>NaN</td>\n",
       "      <td>NaN</td>\n",
       "      <td>NaN</td>\n",
       "      <td>NaN</td>\n",
       "      <td>NaN</td>\n",
       "      <td>NaN</td>\n",
       "      <td>NaN</td>\n",
       "      <td>NaN</td>\n",
       "      <td>NaN</td>\n",
       "    </tr>\n",
       "    <tr>\n",
       "      <th>8</th>\n",
       "      <td>БПМ-162</td>\n",
       "      <td>Загороднев</td>\n",
       "      <td>Денис</td>\n",
       "      <td>Григорьевич</td>\n",
       "      <td>1e6b966bf9</td>\n",
       "      <td>NaN</td>\n",
       "      <td>NaN</td>\n",
       "      <td>NaN</td>\n",
       "      <td>NaN</td>\n",
       "      <td>NaN</td>\n",
       "      <td>NaN</td>\n",
       "      <td>NaN</td>\n",
       "      <td>NaN</td>\n",
       "      <td>NaN</td>\n",
       "    </tr>\n",
       "    <tr>\n",
       "      <th>9</th>\n",
       "      <td>БПМ-162</td>\n",
       "      <td>Лисицына</td>\n",
       "      <td>Анастасия</td>\n",
       "      <td>Сергеевна</td>\n",
       "      <td>1eea619f12</td>\n",
       "      <td>0.8</td>\n",
       "      <td>1.0</td>\n",
       "      <td>0.0</td>\n",
       "      <td>0.2</td>\n",
       "      <td>0.5</td>\n",
       "      <td>0.2</td>\n",
       "      <td>0.0</td>\n",
       "      <td>0.0</td>\n",
       "      <td>0.2</td>\n",
       "    </tr>\n",
       "  </tbody>\n",
       "</table>\n",
       "</div>"
      ]
     },
     "execution_count": 165,
     "metadata": {},
     "output_type": "execute_result"
    }
   ],
   "execution_count": 165
  },
  {
   "cell_type": "code",
   "metadata": {
    "ExecuteTime": {
     "end_time": "2024-07-26T14:30:57.028771Z",
     "start_time": "2024-07-26T14:30:57.020621Z"
    }
   },
   "source": [
    "# выбрать из таблицы хэшей только те строки, в которых хэш есть в таблице оценок\n",
    "# т.е. отобрать тех студентов, которые писали контрольную и были оценены\n",
    "df = df_hashes[df_hashes.hash.isin(df_grades.hash)]\n",
    "print(df.shape)\n",
    "df.head()"
   ],
   "outputs": [
    {
     "name": "stdout",
     "output_type": "stream",
     "text": [
      "(38, 5)\n"
     ]
    },
    {
     "data": {
      "text/plain": [
       "    Группа     Фамилия      Имя     Отчество        hash\n",
       "0  БПМ-161     Антонов  Алексей   Алексеевич  6875ba52f0\n",
       "1  БПМ-161  Арсамакова    Алина  Ибрагимовна  7ca01c996f\n",
       "2  БПМ-161     Богатов    Антон      Юрьевич  15360bcc4c\n",
       "3  БПМ-161      Бычков   Андрей            -  f9f854aa44\n",
       "6  БПМ-161    Гончаров     Глеб     Игоревич  3f187965b9"
      ],
      "text/html": [
       "<div>\n",
       "<style scoped>\n",
       "    .dataframe tbody tr th:only-of-type {\n",
       "        vertical-align: middle;\n",
       "    }\n",
       "\n",
       "    .dataframe tbody tr th {\n",
       "        vertical-align: top;\n",
       "    }\n",
       "\n",
       "    .dataframe thead th {\n",
       "        text-align: right;\n",
       "    }\n",
       "</style>\n",
       "<table border=\"1\" class=\"dataframe\">\n",
       "  <thead>\n",
       "    <tr style=\"text-align: right;\">\n",
       "      <th></th>\n",
       "      <th>Группа</th>\n",
       "      <th>Фамилия</th>\n",
       "      <th>Имя</th>\n",
       "      <th>Отчество</th>\n",
       "      <th>hash</th>\n",
       "    </tr>\n",
       "  </thead>\n",
       "  <tbody>\n",
       "    <tr>\n",
       "      <th>0</th>\n",
       "      <td>БПМ-161</td>\n",
       "      <td>Антонов</td>\n",
       "      <td>Алексей</td>\n",
       "      <td>Алексеевич</td>\n",
       "      <td>6875ba52f0</td>\n",
       "    </tr>\n",
       "    <tr>\n",
       "      <th>1</th>\n",
       "      <td>БПМ-161</td>\n",
       "      <td>Арсамакова</td>\n",
       "      <td>Алина</td>\n",
       "      <td>Ибрагимовна</td>\n",
       "      <td>7ca01c996f</td>\n",
       "    </tr>\n",
       "    <tr>\n",
       "      <th>2</th>\n",
       "      <td>БПМ-161</td>\n",
       "      <td>Богатов</td>\n",
       "      <td>Антон</td>\n",
       "      <td>Юрьевич</td>\n",
       "      <td>15360bcc4c</td>\n",
       "    </tr>\n",
       "    <tr>\n",
       "      <th>3</th>\n",
       "      <td>БПМ-161</td>\n",
       "      <td>Бычков</td>\n",
       "      <td>Андрей</td>\n",
       "      <td>-</td>\n",
       "      <td>f9f854aa44</td>\n",
       "    </tr>\n",
       "    <tr>\n",
       "      <th>6</th>\n",
       "      <td>БПМ-161</td>\n",
       "      <td>Гончаров</td>\n",
       "      <td>Глеб</td>\n",
       "      <td>Игоревич</td>\n",
       "      <td>3f187965b9</td>\n",
       "    </tr>\n",
       "  </tbody>\n",
       "</table>\n",
       "</div>"
      ]
     },
     "execution_count": 166,
     "metadata": {},
     "output_type": "execute_result"
    }
   ],
   "execution_count": 166
  },
  {
   "cell_type": "code",
   "metadata": {
    "ExecuteTime": {
     "end_time": "2024-07-26T14:30:57.146982Z",
     "start_time": "2024-07-26T14:30:57.142217Z"
    }
   },
   "source": [
    "# сколько человек из каждой группы были оценены?\n",
    "df.Группа.value_counts()"
   ],
   "outputs": [
    {
     "data": {
      "text/plain": [
       "Группа\n",
       "БПМ-161    18\n",
       "БПМ-162    18\n",
       "БПМ-163     2\n",
       "Name: count, dtype: int64"
      ]
     },
     "execution_count": 167,
     "metadata": {},
     "output_type": "execute_result"
    }
   ],
   "execution_count": 167
  },
  {
   "cell_type": "code",
   "metadata": {
    "ExecuteTime": {
     "end_time": "2024-07-26T14:30:57.326201Z",
     "start_time": "2024-07-26T14:30:57.322499Z"
    }
   },
   "source": [
    "type(df)"
   ],
   "outputs": [
    {
     "data": {
      "text/plain": [
       "pandas.core.frame.DataFrame"
      ]
     },
     "execution_count": 168,
     "metadata": {},
     "output_type": "execute_result"
    }
   ],
   "execution_count": 168
  },
  {
   "cell_type": "code",
   "metadata": {
    "ExecuteTime": {
     "end_time": "2024-07-26T14:30:57.433387Z",
     "start_time": "2024-07-26T14:30:57.429922Z"
    }
   },
   "source": [
    "type(df[\"Группа\"])"
   ],
   "outputs": [
    {
     "data": {
      "text/plain": [
       "pandas.core.series.Series"
      ]
     },
     "execution_count": 169,
     "metadata": {},
     "output_type": "execute_result"
    }
   ],
   "execution_count": 169
  },
  {
   "cell_type": "markdown",
   "metadata": {},
   "source": [
    "Метод `DataFrame.groupby` делает группировку строк по значениям в каком-то столбце, чтобы мы могли их усреднить/просуммировать/etc. Например, если бы у нас была таблица вида [студент - предмет - оценка], то мы могли бы сгруппировать строки по столбцу предмета и посчитать по каждому предмету среднюю оценку."
   ]
  },
  {
   "cell_type": "code",
   "metadata": {
    "ExecuteTime": {
     "end_time": "2024-07-26T14:30:57.615177Z",
     "start_time": "2024-07-26T14:30:57.610761Z"
    }
   },
   "source": [
    "# сгруппировать строки по столбцу '1'\n",
    "gr = df_grades.groupby(by=\"1\")\n",
    "gr"
   ],
   "outputs": [
    {
     "data": {
      "text/plain": [
       "<pandas.core.groupby.generic.DataFrameGroupBy object at 0x7b424fe1fe60>"
      ]
     },
     "execution_count": 170,
     "metadata": {},
     "output_type": "execute_result"
    }
   ],
   "execution_count": 170
  },
  {
   "cell_type": "code",
   "metadata": {
    "ExecuteTime": {
     "end_time": "2024-07-26T14:30:57.657477Z",
     "start_time": "2024-07-26T14:30:57.648409Z"
    }
   },
   "source": [
    "df_grades.head()"
   ],
   "outputs": [
    {
     "data": {
      "text/plain": [
       "         hash    0    1    2    3    4    5    6    7    8\n",
       "0  cbe32a2a1b  0.8  1.0  1.0  1.0  1.0  1.0  0.0  0.0  0.0\n",
       "1  caa93590ad  0.2  0.2  0.9  0.7  0.0  0.0  0.0  0.0  0.0\n",
       "2  5bbe47f96d  0.8  1.0  1.0  1.0  1.0  0.0  0.5  0.0  0.0\n",
       "3  3f187965b9  0.0  0.0  0.8  1.0  0.5  0.0  0.0  0.0  0.0\n",
       "4  bf1e56e185  0.0  0.0  0.0  0.0  0.0  0.0  0.0  0.0  0.0"
      ],
      "text/html": [
       "<div>\n",
       "<style scoped>\n",
       "    .dataframe tbody tr th:only-of-type {\n",
       "        vertical-align: middle;\n",
       "    }\n",
       "\n",
       "    .dataframe tbody tr th {\n",
       "        vertical-align: top;\n",
       "    }\n",
       "\n",
       "    .dataframe thead th {\n",
       "        text-align: right;\n",
       "    }\n",
       "</style>\n",
       "<table border=\"1\" class=\"dataframe\">\n",
       "  <thead>\n",
       "    <tr style=\"text-align: right;\">\n",
       "      <th></th>\n",
       "      <th>hash</th>\n",
       "      <th>0</th>\n",
       "      <th>1</th>\n",
       "      <th>2</th>\n",
       "      <th>3</th>\n",
       "      <th>4</th>\n",
       "      <th>5</th>\n",
       "      <th>6</th>\n",
       "      <th>7</th>\n",
       "      <th>8</th>\n",
       "    </tr>\n",
       "  </thead>\n",
       "  <tbody>\n",
       "    <tr>\n",
       "      <th>0</th>\n",
       "      <td>cbe32a2a1b</td>\n",
       "      <td>0.8</td>\n",
       "      <td>1.0</td>\n",
       "      <td>1.0</td>\n",
       "      <td>1.0</td>\n",
       "      <td>1.0</td>\n",
       "      <td>1.0</td>\n",
       "      <td>0.0</td>\n",
       "      <td>0.0</td>\n",
       "      <td>0.0</td>\n",
       "    </tr>\n",
       "    <tr>\n",
       "      <th>1</th>\n",
       "      <td>caa93590ad</td>\n",
       "      <td>0.2</td>\n",
       "      <td>0.2</td>\n",
       "      <td>0.9</td>\n",
       "      <td>0.7</td>\n",
       "      <td>0.0</td>\n",
       "      <td>0.0</td>\n",
       "      <td>0.0</td>\n",
       "      <td>0.0</td>\n",
       "      <td>0.0</td>\n",
       "    </tr>\n",
       "    <tr>\n",
       "      <th>2</th>\n",
       "      <td>5bbe47f96d</td>\n",
       "      <td>0.8</td>\n",
       "      <td>1.0</td>\n",
       "      <td>1.0</td>\n",
       "      <td>1.0</td>\n",
       "      <td>1.0</td>\n",
       "      <td>0.0</td>\n",
       "      <td>0.5</td>\n",
       "      <td>0.0</td>\n",
       "      <td>0.0</td>\n",
       "    </tr>\n",
       "    <tr>\n",
       "      <th>3</th>\n",
       "      <td>3f187965b9</td>\n",
       "      <td>0.0</td>\n",
       "      <td>0.0</td>\n",
       "      <td>0.8</td>\n",
       "      <td>1.0</td>\n",
       "      <td>0.5</td>\n",
       "      <td>0.0</td>\n",
       "      <td>0.0</td>\n",
       "      <td>0.0</td>\n",
       "      <td>0.0</td>\n",
       "    </tr>\n",
       "    <tr>\n",
       "      <th>4</th>\n",
       "      <td>bf1e56e185</td>\n",
       "      <td>0.0</td>\n",
       "      <td>0.0</td>\n",
       "      <td>0.0</td>\n",
       "      <td>0.0</td>\n",
       "      <td>0.0</td>\n",
       "      <td>0.0</td>\n",
       "      <td>0.0</td>\n",
       "      <td>0.0</td>\n",
       "      <td>0.0</td>\n",
       "    </tr>\n",
       "  </tbody>\n",
       "</table>\n",
       "</div>"
      ]
     },
     "execution_count": 171,
     "metadata": {},
     "output_type": "execute_result"
    }
   ],
   "execution_count": 171
  },
  {
   "cell_type": "code",
   "metadata": {
    "ExecuteTime": {
     "end_time": "2024-07-26T14:30:57.748313Z",
     "start_time": "2024-07-26T14:30:57.743681Z"
    }
   },
   "source": [
    "df_grades[\"1\"].nunique()"
   ],
   "outputs": [
    {
     "data": {
      "text/plain": [
       "8"
      ]
     },
     "execution_count": 172,
     "metadata": {},
     "output_type": "execute_result"
    }
   ],
   "execution_count": 172
  },
  {
   "cell_type": "code",
   "metadata": {
    "ExecuteTime": {
     "end_time": "2024-07-26T14:30:57.781837Z",
     "start_time": "2024-07-26T14:30:57.778866Z"
    }
   },
   "source": [
    "# какая средняя оценка (и ее дисперсия) за другие задачи у студентов, получивших конкретную оценку по задаче '1'?"
   ],
   "outputs": [],
   "execution_count": 173
  },
  {
   "cell_type": "code",
   "metadata": {
    "ExecuteTime": {
     "end_time": "2024-07-26T14:30:57.875082Z",
     "start_time": "2024-07-26T14:30:57.873022Z"
    }
   },
   "source": "",
   "outputs": [],
   "execution_count": 173
  },
  {
   "cell_type": "code",
   "metadata": {
    "ExecuteTime": {
     "end_time": "2024-07-26T14:30:57.937731Z",
     "start_time": "2024-07-26T14:30:57.932308Z"
    }
   },
   "source": [
    "# дисперсия\n",
    "gr[\"2\"].var()"
   ],
   "outputs": [
    {
     "data": {
      "text/plain": [
       "1\n",
       "0.0    0.266667\n",
       "0.2    0.003333\n",
       "0.5         NaN\n",
       "0.6         NaN\n",
       "0.7    0.000000\n",
       "0.8    0.125000\n",
       "0.9    0.250000\n",
       "1.0    0.140994\n",
       "Name: 2, dtype: float64"
      ]
     },
     "execution_count": 174,
     "metadata": {},
     "output_type": "execute_result"
    }
   ],
   "execution_count": 174
  },
  {
   "cell_type": "code",
   "metadata": {
    "ExecuteTime": {
     "end_time": "2024-07-26T14:30:58.050159Z",
     "start_time": "2024-07-26T14:30:58.047692Z"
    }
   },
   "source": [
    "# откуда взялись NaN?"
   ],
   "outputs": [],
   "execution_count": 175
  },
  {
   "cell_type": "code",
   "metadata": {
    "ExecuteTime": {
     "end_time": "2024-07-26T14:30:58.086140Z",
     "start_time": "2024-07-26T14:30:58.076528Z"
    }
   },
   "source": [
    "gr.get_group(0.2)"
   ],
   "outputs": [
    {
     "data": {
      "text/plain": [
       "          hash    0    1    2    3    4    5    6    7    8\n",
       "1   caa93590ad  0.2  0.2  0.9  0.7  0.0  0.0  0.0  0.0  0.0\n",
       "16  426dfedb85  0.2  0.2  0.9  0.7  0.0  0.0  0.0  0.0  0.0\n",
       "29  80a4f796b4  0.5  0.2  1.0  1.0  0.5  0.2  0.5  0.0  0.2"
      ],
      "text/html": [
       "<div>\n",
       "<style scoped>\n",
       "    .dataframe tbody tr th:only-of-type {\n",
       "        vertical-align: middle;\n",
       "    }\n",
       "\n",
       "    .dataframe tbody tr th {\n",
       "        vertical-align: top;\n",
       "    }\n",
       "\n",
       "    .dataframe thead th {\n",
       "        text-align: right;\n",
       "    }\n",
       "</style>\n",
       "<table border=\"1\" class=\"dataframe\">\n",
       "  <thead>\n",
       "    <tr style=\"text-align: right;\">\n",
       "      <th></th>\n",
       "      <th>hash</th>\n",
       "      <th>0</th>\n",
       "      <th>1</th>\n",
       "      <th>2</th>\n",
       "      <th>3</th>\n",
       "      <th>4</th>\n",
       "      <th>5</th>\n",
       "      <th>6</th>\n",
       "      <th>7</th>\n",
       "      <th>8</th>\n",
       "    </tr>\n",
       "  </thead>\n",
       "  <tbody>\n",
       "    <tr>\n",
       "      <th>1</th>\n",
       "      <td>caa93590ad</td>\n",
       "      <td>0.2</td>\n",
       "      <td>0.2</td>\n",
       "      <td>0.9</td>\n",
       "      <td>0.7</td>\n",
       "      <td>0.0</td>\n",
       "      <td>0.0</td>\n",
       "      <td>0.0</td>\n",
       "      <td>0.0</td>\n",
       "      <td>0.0</td>\n",
       "    </tr>\n",
       "    <tr>\n",
       "      <th>16</th>\n",
       "      <td>426dfedb85</td>\n",
       "      <td>0.2</td>\n",
       "      <td>0.2</td>\n",
       "      <td>0.9</td>\n",
       "      <td>0.7</td>\n",
       "      <td>0.0</td>\n",
       "      <td>0.0</td>\n",
       "      <td>0.0</td>\n",
       "      <td>0.0</td>\n",
       "      <td>0.0</td>\n",
       "    </tr>\n",
       "    <tr>\n",
       "      <th>29</th>\n",
       "      <td>80a4f796b4</td>\n",
       "      <td>0.5</td>\n",
       "      <td>0.2</td>\n",
       "      <td>1.0</td>\n",
       "      <td>1.0</td>\n",
       "      <td>0.5</td>\n",
       "      <td>0.2</td>\n",
       "      <td>0.5</td>\n",
       "      <td>0.0</td>\n",
       "      <td>0.2</td>\n",
       "    </tr>\n",
       "  </tbody>\n",
       "</table>\n",
       "</div>"
      ]
     },
     "execution_count": 176,
     "metadata": {},
     "output_type": "execute_result"
    }
   ],
   "execution_count": 176
  },
  {
   "cell_type": "markdown",
   "metadata": {},
   "source": [
    "## 2. Работаем с датасетом пассажиров Титаника\n",
    "\n",
    "Каждая строчка наборов данных содержит следующие поля:\n",
    "\n",
    "- Pclass — класс пассажира (1 — высший, 2 — средний, 3 — низший);\n",
    "\n",
    "- Name — имя;\n",
    "\n",
    "- Sex — пол;\n",
    "\n",
    "- Age — возраст;\n",
    "\n",
    "- SibSp — количество братьев, сестер, сводных братьев, сводных сестер, супругов на борту Титаника;\n",
    "\n",
    "- Parch — количество родителей, детей (в том числе приемных) на борту Титаника;\n",
    "\n",
    "- Ticket — номер билета;\n",
    "\n",
    "- Fare — плата за проезд;\n",
    "\n",
    "- Cabin — каюта;\n",
    "\n",
    "- Embarked — порт посадки (C — Шербур; Q — Квинстаун; S — Саутгемптон)\n",
    "\n",
    "- Survived - пассажир выжил или нет.\n",
    "\n",
    "В поле Age приводится количество полных лет. Для детей меньше 1 года — дробное. Если возраст не известен точно, то указано примерное значение в формате xx.5."
   ]
  },
  {
   "cell_type": "code",
   "metadata": {
    "ExecuteTime": {
     "end_time": "2024-07-26T14:30:58.154303Z",
     "start_time": "2024-07-26T14:30:58.147677Z"
    }
   },
   "source": [
    "df = pd.read_csv(\"titanic_train.csv\", sep=\",\")"
   ],
   "outputs": [],
   "execution_count": 177
  },
  {
   "cell_type": "code",
   "metadata": {
    "ExecuteTime": {
     "end_time": "2024-07-26T14:30:58.171734Z",
     "start_time": "2024-07-26T14:30:58.167777Z"
    }
   },
   "source": [
    "# типы данных\n",
    "df.dtypes"
   ],
   "outputs": [
    {
     "data": {
      "text/plain": [
       "PassengerId      int64\n",
       "Survived         int64\n",
       "Pclass           int64\n",
       "Name            object\n",
       "Sex             object\n",
       "Age            float64\n",
       "SibSp            int64\n",
       "Parch            int64\n",
       "Ticket          object\n",
       "Fare           float64\n",
       "Cabin           object\n",
       "Embarked        object\n",
       "dtype: object"
      ]
     },
     "execution_count": 178,
     "metadata": {},
     "output_type": "execute_result"
    }
   ],
   "execution_count": 178
  },
  {
   "cell_type": "code",
   "metadata": {
    "ExecuteTime": {
     "end_time": "2024-07-26T14:30:58.244336Z",
     "start_time": "2024-07-26T14:30:58.240217Z"
    }
   },
   "source": [
    "# сравним, сколько места занимает столбец\n",
    "df[\"SibSp\"].astype(\"int64\").memory_usage()"
   ],
   "outputs": [
    {
     "data": {
      "text/plain": [
       "7260"
      ]
     },
     "execution_count": 179,
     "metadata": {},
     "output_type": "execute_result"
    }
   ],
   "execution_count": 179
  },
  {
   "cell_type": "code",
   "metadata": {
    "ExecuteTime": {
     "end_time": "2024-07-26T14:30:58.300260Z",
     "start_time": "2024-07-26T14:30:58.296492Z"
    }
   },
   "source": [
    "df[\"SibSp\"].astype(\"int8\").memory_usage()"
   ],
   "outputs": [
    {
     "data": {
      "text/plain": [
       "1023"
      ]
     },
     "execution_count": 180,
     "metadata": {},
     "output_type": "execute_result"
    }
   ],
   "execution_count": 180
  },
  {
   "cell_type": "code",
   "metadata": {
    "ExecuteTime": {
     "end_time": "2024-07-26T14:30:58.438786Z",
     "start_time": "2024-07-26T14:30:58.429410Z"
    }
   },
   "source": [
    "df.head()"
   ],
   "outputs": [
    {
     "data": {
      "text/plain": [
       "   PassengerId  Survived  Pclass  \\\n",
       "0            1         0       3   \n",
       "1            2         1       1   \n",
       "2            3         1       3   \n",
       "3            4         1       1   \n",
       "4            5         0       3   \n",
       "\n",
       "                                                  Name     Sex   Age  SibSp  \\\n",
       "0                              Braund, Mr. Owen Harris    male  22.0      1   \n",
       "1  Cumings, Mrs. John Bradley (Florence Briggs Thayer)  female  38.0      1   \n",
       "2                               Heikkinen, Miss. Laina  female  26.0      0   \n",
       "3         Futrelle, Mrs. Jacques Heath (Lily May Peel)  female  35.0      1   \n",
       "4                             Allen, Mr. William Henry    male  35.0      0   \n",
       "\n",
       "   Parch            Ticket     Fare Cabin Embarked  \n",
       "0      0         A/5 21171   7.2500   NaN        S  \n",
       "1      0          PC 17599  71.2833   C85        C  \n",
       "2      0  STON/O2. 3101282   7.9250   NaN        S  \n",
       "3      0            113803  53.1000  C123        S  \n",
       "4      0            373450   8.0500   NaN        S  "
      ],
      "text/html": [
       "<div>\n",
       "<style scoped>\n",
       "    .dataframe tbody tr th:only-of-type {\n",
       "        vertical-align: middle;\n",
       "    }\n",
       "\n",
       "    .dataframe tbody tr th {\n",
       "        vertical-align: top;\n",
       "    }\n",
       "\n",
       "    .dataframe thead th {\n",
       "        text-align: right;\n",
       "    }\n",
       "</style>\n",
       "<table border=\"1\" class=\"dataframe\">\n",
       "  <thead>\n",
       "    <tr style=\"text-align: right;\">\n",
       "      <th></th>\n",
       "      <th>PassengerId</th>\n",
       "      <th>Survived</th>\n",
       "      <th>Pclass</th>\n",
       "      <th>Name</th>\n",
       "      <th>Sex</th>\n",
       "      <th>Age</th>\n",
       "      <th>SibSp</th>\n",
       "      <th>Parch</th>\n",
       "      <th>Ticket</th>\n",
       "      <th>Fare</th>\n",
       "      <th>Cabin</th>\n",
       "      <th>Embarked</th>\n",
       "    </tr>\n",
       "  </thead>\n",
       "  <tbody>\n",
       "    <tr>\n",
       "      <th>0</th>\n",
       "      <td>1</td>\n",
       "      <td>0</td>\n",
       "      <td>3</td>\n",
       "      <td>Braund, Mr. Owen Harris</td>\n",
       "      <td>male</td>\n",
       "      <td>22.0</td>\n",
       "      <td>1</td>\n",
       "      <td>0</td>\n",
       "      <td>A/5 21171</td>\n",
       "      <td>7.2500</td>\n",
       "      <td>NaN</td>\n",
       "      <td>S</td>\n",
       "    </tr>\n",
       "    <tr>\n",
       "      <th>1</th>\n",
       "      <td>2</td>\n",
       "      <td>1</td>\n",
       "      <td>1</td>\n",
       "      <td>Cumings, Mrs. John Bradley (Florence Briggs Thayer)</td>\n",
       "      <td>female</td>\n",
       "      <td>38.0</td>\n",
       "      <td>1</td>\n",
       "      <td>0</td>\n",
       "      <td>PC 17599</td>\n",
       "      <td>71.2833</td>\n",
       "      <td>C85</td>\n",
       "      <td>C</td>\n",
       "    </tr>\n",
       "    <tr>\n",
       "      <th>2</th>\n",
       "      <td>3</td>\n",
       "      <td>1</td>\n",
       "      <td>3</td>\n",
       "      <td>Heikkinen, Miss. Laina</td>\n",
       "      <td>female</td>\n",
       "      <td>26.0</td>\n",
       "      <td>0</td>\n",
       "      <td>0</td>\n",
       "      <td>STON/O2. 3101282</td>\n",
       "      <td>7.9250</td>\n",
       "      <td>NaN</td>\n",
       "      <td>S</td>\n",
       "    </tr>\n",
       "    <tr>\n",
       "      <th>3</th>\n",
       "      <td>4</td>\n",
       "      <td>1</td>\n",
       "      <td>1</td>\n",
       "      <td>Futrelle, Mrs. Jacques Heath (Lily May Peel)</td>\n",
       "      <td>female</td>\n",
       "      <td>35.0</td>\n",
       "      <td>1</td>\n",
       "      <td>0</td>\n",
       "      <td>113803</td>\n",
       "      <td>53.1000</td>\n",
       "      <td>C123</td>\n",
       "      <td>S</td>\n",
       "    </tr>\n",
       "    <tr>\n",
       "      <th>4</th>\n",
       "      <td>5</td>\n",
       "      <td>0</td>\n",
       "      <td>3</td>\n",
       "      <td>Allen, Mr. William Henry</td>\n",
       "      <td>male</td>\n",
       "      <td>35.0</td>\n",
       "      <td>0</td>\n",
       "      <td>0</td>\n",
       "      <td>373450</td>\n",
       "      <td>8.0500</td>\n",
       "      <td>NaN</td>\n",
       "      <td>S</td>\n",
       "    </tr>\n",
       "  </tbody>\n",
       "</table>\n",
       "</div>"
      ]
     },
     "execution_count": 181,
     "metadata": {},
     "output_type": "execute_result"
    }
   ],
   "execution_count": 181
  },
  {
   "cell_type": "markdown",
   "metadata": {},
   "source": [
    "Для первичного анализа полезно посмотреть на базовые статистики численных переменных. Для этого есть готовый метод:"
   ]
  },
  {
   "cell_type": "code",
   "metadata": {
    "ExecuteTime": {
     "end_time": "2024-07-26T14:30:58.487177Z",
     "start_time": "2024-07-26T14:30:58.471071Z"
    }
   },
   "source": [
    "df.describe()"
   ],
   "outputs": [
    {
     "data": {
      "text/plain": [
       "       PassengerId    Survived      Pclass         Age       SibSp  \\\n",
       "count   891.000000  891.000000  891.000000  714.000000  891.000000   \n",
       "mean    446.000000    0.383838    2.308642   29.699118    0.523008   \n",
       "std     257.353842    0.486592    0.836071   14.526497    1.102743   \n",
       "min       1.000000    0.000000    1.000000    0.420000    0.000000   \n",
       "25%     223.500000    0.000000    2.000000   20.125000    0.000000   \n",
       "50%     446.000000    0.000000    3.000000   28.000000    0.000000   \n",
       "75%     668.500000    1.000000    3.000000   38.000000    1.000000   \n",
       "max     891.000000    1.000000    3.000000   80.000000    8.000000   \n",
       "\n",
       "            Parch        Fare  \n",
       "count  891.000000  891.000000  \n",
       "mean     0.381594   32.204208  \n",
       "std      0.806057   49.693429  \n",
       "min      0.000000    0.000000  \n",
       "25%      0.000000    7.910400  \n",
       "50%      0.000000   14.454200  \n",
       "75%      0.000000   31.000000  \n",
       "max      6.000000  512.329200  "
      ],
      "text/html": [
       "<div>\n",
       "<style scoped>\n",
       "    .dataframe tbody tr th:only-of-type {\n",
       "        vertical-align: middle;\n",
       "    }\n",
       "\n",
       "    .dataframe tbody tr th {\n",
       "        vertical-align: top;\n",
       "    }\n",
       "\n",
       "    .dataframe thead th {\n",
       "        text-align: right;\n",
       "    }\n",
       "</style>\n",
       "<table border=\"1\" class=\"dataframe\">\n",
       "  <thead>\n",
       "    <tr style=\"text-align: right;\">\n",
       "      <th></th>\n",
       "      <th>PassengerId</th>\n",
       "      <th>Survived</th>\n",
       "      <th>Pclass</th>\n",
       "      <th>Age</th>\n",
       "      <th>SibSp</th>\n",
       "      <th>Parch</th>\n",
       "      <th>Fare</th>\n",
       "    </tr>\n",
       "  </thead>\n",
       "  <tbody>\n",
       "    <tr>\n",
       "      <th>count</th>\n",
       "      <td>891.000000</td>\n",
       "      <td>891.000000</td>\n",
       "      <td>891.000000</td>\n",
       "      <td>714.000000</td>\n",
       "      <td>891.000000</td>\n",
       "      <td>891.000000</td>\n",
       "      <td>891.000000</td>\n",
       "    </tr>\n",
       "    <tr>\n",
       "      <th>mean</th>\n",
       "      <td>446.000000</td>\n",
       "      <td>0.383838</td>\n",
       "      <td>2.308642</td>\n",
       "      <td>29.699118</td>\n",
       "      <td>0.523008</td>\n",
       "      <td>0.381594</td>\n",
       "      <td>32.204208</td>\n",
       "    </tr>\n",
       "    <tr>\n",
       "      <th>std</th>\n",
       "      <td>257.353842</td>\n",
       "      <td>0.486592</td>\n",
       "      <td>0.836071</td>\n",
       "      <td>14.526497</td>\n",
       "      <td>1.102743</td>\n",
       "      <td>0.806057</td>\n",
       "      <td>49.693429</td>\n",
       "    </tr>\n",
       "    <tr>\n",
       "      <th>min</th>\n",
       "      <td>1.000000</td>\n",
       "      <td>0.000000</td>\n",
       "      <td>1.000000</td>\n",
       "      <td>0.420000</td>\n",
       "      <td>0.000000</td>\n",
       "      <td>0.000000</td>\n",
       "      <td>0.000000</td>\n",
       "    </tr>\n",
       "    <tr>\n",
       "      <th>25%</th>\n",
       "      <td>223.500000</td>\n",
       "      <td>0.000000</td>\n",
       "      <td>2.000000</td>\n",
       "      <td>20.125000</td>\n",
       "      <td>0.000000</td>\n",
       "      <td>0.000000</td>\n",
       "      <td>7.910400</td>\n",
       "    </tr>\n",
       "    <tr>\n",
       "      <th>50%</th>\n",
       "      <td>446.000000</td>\n",
       "      <td>0.000000</td>\n",
       "      <td>3.000000</td>\n",
       "      <td>28.000000</td>\n",
       "      <td>0.000000</td>\n",
       "      <td>0.000000</td>\n",
       "      <td>14.454200</td>\n",
       "    </tr>\n",
       "    <tr>\n",
       "      <th>75%</th>\n",
       "      <td>668.500000</td>\n",
       "      <td>1.000000</td>\n",
       "      <td>3.000000</td>\n",
       "      <td>38.000000</td>\n",
       "      <td>1.000000</td>\n",
       "      <td>0.000000</td>\n",
       "      <td>31.000000</td>\n",
       "    </tr>\n",
       "    <tr>\n",
       "      <th>max</th>\n",
       "      <td>891.000000</td>\n",
       "      <td>1.000000</td>\n",
       "      <td>3.000000</td>\n",
       "      <td>80.000000</td>\n",
       "      <td>8.000000</td>\n",
       "      <td>6.000000</td>\n",
       "      <td>512.329200</td>\n",
       "    </tr>\n",
       "  </tbody>\n",
       "</table>\n",
       "</div>"
      ]
     },
     "execution_count": 182,
     "metadata": {},
     "output_type": "execute_result"
    }
   ],
   "execution_count": 182
  },
  {
   "cell_type": "markdown",
   "metadata": {},
   "source": [
    "Также полезно проверить, какие переменные коррелированы больше, а какие — меньше."
   ]
  },
  {
   "metadata": {
    "ExecuteTime": {
     "end_time": "2024-07-26T14:30:58.561092Z",
     "start_time": "2024-07-26T14:30:58.554538Z"
    }
   },
   "cell_type": "code",
   "source": "df.info()",
   "outputs": [
    {
     "name": "stdout",
     "output_type": "stream",
     "text": [
      "<class 'pandas.core.frame.DataFrame'>\n",
      "RangeIndex: 891 entries, 0 to 890\n",
      "Data columns (total 12 columns):\n",
      " #   Column       Non-Null Count  Dtype  \n",
      "---  ------       --------------  -----  \n",
      " 0   PassengerId  891 non-null    int64  \n",
      " 1   Survived     891 non-null    int64  \n",
      " 2   Pclass       891 non-null    int64  \n",
      " 3   Name         891 non-null    object \n",
      " 4   Sex          891 non-null    object \n",
      " 5   Age          714 non-null    float64\n",
      " 6   SibSp        891 non-null    int64  \n",
      " 7   Parch        891 non-null    int64  \n",
      " 8   Ticket       891 non-null    object \n",
      " 9   Fare         891 non-null    float64\n",
      " 10  Cabin        204 non-null    object \n",
      " 11  Embarked     889 non-null    object \n",
      "dtypes: float64(2), int64(5), object(5)\n",
      "memory usage: 83.7+ KB\n"
     ]
    }
   ],
   "execution_count": 183
  },
  {
   "cell_type": "code",
   "metadata": {
    "ExecuteTime": {
     "end_time": "2024-07-26T14:30:58.644867Z",
     "start_time": "2024-07-26T14:30:58.638312Z"
    }
   },
   "source": [
    "numeric_df = df.select_dtypes(include=[np.number])\n",
    "correlation_matrix = numeric_df.corr()\n",
    "print(correlation_matrix)"
   ],
   "outputs": [
    {
     "name": "stdout",
     "output_type": "stream",
     "text": [
      "             PassengerId  Survived    Pclass       Age     SibSp     Parch  \\\n",
      "PassengerId     1.000000 -0.005007 -0.035144  0.036847 -0.057527 -0.001652   \n",
      "Survived       -0.005007  1.000000 -0.338481 -0.077221 -0.035322  0.081629   \n",
      "Pclass         -0.035144 -0.338481  1.000000 -0.369226  0.083081  0.018443   \n",
      "Age             0.036847 -0.077221 -0.369226  1.000000 -0.308247 -0.189119   \n",
      "SibSp          -0.057527 -0.035322  0.083081 -0.308247  1.000000  0.414838   \n",
      "Parch          -0.001652  0.081629  0.018443 -0.189119  0.414838  1.000000   \n",
      "Fare            0.012658  0.257307 -0.549500  0.096067  0.159651  0.216225   \n",
      "\n",
      "                 Fare  \n",
      "PassengerId  0.012658  \n",
      "Survived     0.257307  \n",
      "Pclass      -0.549500  \n",
      "Age          0.096067  \n",
      "SibSp        0.159651  \n",
      "Parch        0.216225  \n",
      "Fare         1.000000  \n"
     ]
    }
   ],
   "execution_count": 184
  },
  {
   "cell_type": "code",
   "metadata": {
    "ExecuteTime": {
     "end_time": "2024-07-26T14:30:58.739160Z",
     "start_time": "2024-07-26T14:30:58.730618Z"
    }
   },
   "source": [
    "df.head()"
   ],
   "outputs": [
    {
     "data": {
      "text/plain": [
       "   PassengerId  Survived  Pclass  \\\n",
       "0            1         0       3   \n",
       "1            2         1       1   \n",
       "2            3         1       3   \n",
       "3            4         1       1   \n",
       "4            5         0       3   \n",
       "\n",
       "                                                  Name     Sex   Age  SibSp  \\\n",
       "0                              Braund, Mr. Owen Harris    male  22.0      1   \n",
       "1  Cumings, Mrs. John Bradley (Florence Briggs Thayer)  female  38.0      1   \n",
       "2                               Heikkinen, Miss. Laina  female  26.0      0   \n",
       "3         Futrelle, Mrs. Jacques Heath (Lily May Peel)  female  35.0      1   \n",
       "4                             Allen, Mr. William Henry    male  35.0      0   \n",
       "\n",
       "   Parch            Ticket     Fare Cabin Embarked  \n",
       "0      0         A/5 21171   7.2500   NaN        S  \n",
       "1      0          PC 17599  71.2833   C85        C  \n",
       "2      0  STON/O2. 3101282   7.9250   NaN        S  \n",
       "3      0            113803  53.1000  C123        S  \n",
       "4      0            373450   8.0500   NaN        S  "
      ],
      "text/html": [
       "<div>\n",
       "<style scoped>\n",
       "    .dataframe tbody tr th:only-of-type {\n",
       "        vertical-align: middle;\n",
       "    }\n",
       "\n",
       "    .dataframe tbody tr th {\n",
       "        vertical-align: top;\n",
       "    }\n",
       "\n",
       "    .dataframe thead th {\n",
       "        text-align: right;\n",
       "    }\n",
       "</style>\n",
       "<table border=\"1\" class=\"dataframe\">\n",
       "  <thead>\n",
       "    <tr style=\"text-align: right;\">\n",
       "      <th></th>\n",
       "      <th>PassengerId</th>\n",
       "      <th>Survived</th>\n",
       "      <th>Pclass</th>\n",
       "      <th>Name</th>\n",
       "      <th>Sex</th>\n",
       "      <th>Age</th>\n",
       "      <th>SibSp</th>\n",
       "      <th>Parch</th>\n",
       "      <th>Ticket</th>\n",
       "      <th>Fare</th>\n",
       "      <th>Cabin</th>\n",
       "      <th>Embarked</th>\n",
       "    </tr>\n",
       "  </thead>\n",
       "  <tbody>\n",
       "    <tr>\n",
       "      <th>0</th>\n",
       "      <td>1</td>\n",
       "      <td>0</td>\n",
       "      <td>3</td>\n",
       "      <td>Braund, Mr. Owen Harris</td>\n",
       "      <td>male</td>\n",
       "      <td>22.0</td>\n",
       "      <td>1</td>\n",
       "      <td>0</td>\n",
       "      <td>A/5 21171</td>\n",
       "      <td>7.2500</td>\n",
       "      <td>NaN</td>\n",
       "      <td>S</td>\n",
       "    </tr>\n",
       "    <tr>\n",
       "      <th>1</th>\n",
       "      <td>2</td>\n",
       "      <td>1</td>\n",
       "      <td>1</td>\n",
       "      <td>Cumings, Mrs. John Bradley (Florence Briggs Thayer)</td>\n",
       "      <td>female</td>\n",
       "      <td>38.0</td>\n",
       "      <td>1</td>\n",
       "      <td>0</td>\n",
       "      <td>PC 17599</td>\n",
       "      <td>71.2833</td>\n",
       "      <td>C85</td>\n",
       "      <td>C</td>\n",
       "    </tr>\n",
       "    <tr>\n",
       "      <th>2</th>\n",
       "      <td>3</td>\n",
       "      <td>1</td>\n",
       "      <td>3</td>\n",
       "      <td>Heikkinen, Miss. Laina</td>\n",
       "      <td>female</td>\n",
       "      <td>26.0</td>\n",
       "      <td>0</td>\n",
       "      <td>0</td>\n",
       "      <td>STON/O2. 3101282</td>\n",
       "      <td>7.9250</td>\n",
       "      <td>NaN</td>\n",
       "      <td>S</td>\n",
       "    </tr>\n",
       "    <tr>\n",
       "      <th>3</th>\n",
       "      <td>4</td>\n",
       "      <td>1</td>\n",
       "      <td>1</td>\n",
       "      <td>Futrelle, Mrs. Jacques Heath (Lily May Peel)</td>\n",
       "      <td>female</td>\n",
       "      <td>35.0</td>\n",
       "      <td>1</td>\n",
       "      <td>0</td>\n",
       "      <td>113803</td>\n",
       "      <td>53.1000</td>\n",
       "      <td>C123</td>\n",
       "      <td>S</td>\n",
       "    </tr>\n",
       "    <tr>\n",
       "      <th>4</th>\n",
       "      <td>5</td>\n",
       "      <td>0</td>\n",
       "      <td>3</td>\n",
       "      <td>Allen, Mr. William Henry</td>\n",
       "      <td>male</td>\n",
       "      <td>35.0</td>\n",
       "      <td>0</td>\n",
       "      <td>0</td>\n",
       "      <td>373450</td>\n",
       "      <td>8.0500</td>\n",
       "      <td>NaN</td>\n",
       "      <td>S</td>\n",
       "    </tr>\n",
       "  </tbody>\n",
       "</table>\n",
       "</div>"
      ]
     },
     "execution_count": 185,
     "metadata": {},
     "output_type": "execute_result"
    }
   ],
   "execution_count": 185
  },
  {
   "cell_type": "code",
   "metadata": {
    "ExecuteTime": {
     "end_time": "2024-07-26T14:30:58.912950Z",
     "start_time": "2024-07-26T14:30:58.908923Z"
    }
   },
   "source": [
    "df.columns"
   ],
   "outputs": [
    {
     "data": {
      "text/plain": [
       "Index(['PassengerId', 'Survived', 'Pclass', 'Name', 'Sex', 'Age', 'SibSp',\n",
       "       'Parch', 'Ticket', 'Fare', 'Cabin', 'Embarked'],\n",
       "      dtype='object')"
      ]
     },
     "execution_count": 186,
     "metadata": {},
     "output_type": "execute_result"
    }
   ],
   "execution_count": 186
  },
  {
   "cell_type": "code",
   "metadata": {
    "ExecuteTime": {
     "end_time": "2024-07-26T14:30:59.007028Z",
     "start_time": "2024-07-26T14:30:59.003683Z"
    }
   },
   "source": [
    "df.index"
   ],
   "outputs": [
    {
     "data": {
      "text/plain": [
       "RangeIndex(start=0, stop=891, step=1)"
      ]
     },
     "execution_count": 187,
     "metadata": {},
     "output_type": "execute_result"
    }
   ],
   "execution_count": 187
  },
  {
   "cell_type": "code",
   "metadata": {
    "ExecuteTime": {
     "end_time": "2024-07-26T14:30:59.073997Z",
     "start_time": "2024-07-26T14:30:59.069977Z"
    }
   },
   "source": [
    "Y = df[\"Survived\"]\n",
    "Y.head()"
   ],
   "outputs": [
    {
     "data": {
      "text/plain": [
       "0    0\n",
       "1    1\n",
       "2    1\n",
       "3    1\n",
       "4    0\n",
       "Name: Survived, dtype: int64"
      ]
     },
     "execution_count": 188,
     "metadata": {},
     "output_type": "execute_result"
    }
   ],
   "execution_count": 188
  },
  {
   "cell_type": "code",
   "metadata": {
    "ExecuteTime": {
     "end_time": "2024-07-26T14:30:59.207266Z",
     "start_time": "2024-07-26T14:30:59.199892Z"
    }
   },
   "source": [
    "df[[\"Survived\", \"Age\"]].head()"
   ],
   "outputs": [
    {
     "data": {
      "text/plain": [
       "   Survived   Age\n",
       "0         0  22.0\n",
       "1         1  38.0\n",
       "2         1  26.0\n",
       "3         1  35.0\n",
       "4         0  35.0"
      ],
      "text/html": [
       "<div>\n",
       "<style scoped>\n",
       "    .dataframe tbody tr th:only-of-type {\n",
       "        vertical-align: middle;\n",
       "    }\n",
       "\n",
       "    .dataframe tbody tr th {\n",
       "        vertical-align: top;\n",
       "    }\n",
       "\n",
       "    .dataframe thead th {\n",
       "        text-align: right;\n",
       "    }\n",
       "</style>\n",
       "<table border=\"1\" class=\"dataframe\">\n",
       "  <thead>\n",
       "    <tr style=\"text-align: right;\">\n",
       "      <th></th>\n",
       "      <th>Survived</th>\n",
       "      <th>Age</th>\n",
       "    </tr>\n",
       "  </thead>\n",
       "  <tbody>\n",
       "    <tr>\n",
       "      <th>0</th>\n",
       "      <td>0</td>\n",
       "      <td>22.0</td>\n",
       "    </tr>\n",
       "    <tr>\n",
       "      <th>1</th>\n",
       "      <td>1</td>\n",
       "      <td>38.0</td>\n",
       "    </tr>\n",
       "    <tr>\n",
       "      <th>2</th>\n",
       "      <td>1</td>\n",
       "      <td>26.0</td>\n",
       "    </tr>\n",
       "    <tr>\n",
       "      <th>3</th>\n",
       "      <td>1</td>\n",
       "      <td>35.0</td>\n",
       "    </tr>\n",
       "    <tr>\n",
       "      <th>4</th>\n",
       "      <td>0</td>\n",
       "      <td>35.0</td>\n",
       "    </tr>\n",
       "  </tbody>\n",
       "</table>\n",
       "</div>"
      ]
     },
     "execution_count": 189,
     "metadata": {},
     "output_type": "execute_result"
    }
   ],
   "execution_count": 189
  },
  {
   "cell_type": "code",
   "metadata": {
    "ExecuteTime": {
     "end_time": "2024-07-26T14:30:59.300683Z",
     "start_time": "2024-07-26T14:30:59.296955Z"
    }
   },
   "source": [
    "# удаление данных одного из столбцов\n",
    "X = df[df.columns.drop(\"Survived\")]"
   ],
   "outputs": [],
   "execution_count": 190
  },
  {
   "cell_type": "code",
   "metadata": {
    "ExecuteTime": {
     "end_time": "2024-07-26T14:30:59.338847Z",
     "start_time": "2024-07-26T14:30:59.335355Z"
    }
   },
   "source": [
    "X = df.drop(\"Survived\", axis=1)  # same thing as previous cell"
   ],
   "outputs": [],
   "execution_count": 191
  },
  {
   "cell_type": "code",
   "metadata": {
    "ExecuteTime": {
     "end_time": "2024-07-26T14:30:59.388015Z",
     "start_time": "2024-07-26T14:30:59.384530Z"
    }
   },
   "source": [
    "df.shape, X.shape, Y.shape"
   ],
   "outputs": [
    {
     "data": {
      "text/plain": [
       "((891, 12), (891, 11), (891,))"
      ]
     },
     "execution_count": 192,
     "metadata": {},
     "output_type": "execute_result"
    }
   ],
   "execution_count": 192
  },
  {
   "cell_type": "markdown",
   "metadata": {},
   "source": [
    "Обещанная индексация! Давайте сперва проиндексируем таблицу двумя способами через `iloc` и `loc`, а затем изменим индексирующий столбец и посмотри на разницу."
   ]
  },
  {
   "cell_type": "code",
   "metadata": {
    "ExecuteTime": {
     "end_time": "2024-07-26T14:30:59.436420Z",
     "start_time": "2024-07-26T14:30:59.427740Z"
    }
   },
   "source": [
    "X.iloc[[5, 8, 10]]"
   ],
   "outputs": [
    {
     "data": {
      "text/plain": [
       "    PassengerId  Pclass                                               Name  \\\n",
       "5             6       3                                   Moran, Mr. James   \n",
       "8             9       3  Johnson, Mrs. Oscar W (Elisabeth Vilhelmina Berg)   \n",
       "10           11       3                    Sandstrom, Miss. Marguerite Rut   \n",
       "\n",
       "       Sex   Age  SibSp  Parch   Ticket     Fare Cabin Embarked  \n",
       "5     male   NaN      0      0   330877   8.4583   NaN        Q  \n",
       "8   female  27.0      0      2   347742  11.1333   NaN        S  \n",
       "10  female   4.0      1      1  PP 9549  16.7000    G6        S  "
      ],
      "text/html": [
       "<div>\n",
       "<style scoped>\n",
       "    .dataframe tbody tr th:only-of-type {\n",
       "        vertical-align: middle;\n",
       "    }\n",
       "\n",
       "    .dataframe tbody tr th {\n",
       "        vertical-align: top;\n",
       "    }\n",
       "\n",
       "    .dataframe thead th {\n",
       "        text-align: right;\n",
       "    }\n",
       "</style>\n",
       "<table border=\"1\" class=\"dataframe\">\n",
       "  <thead>\n",
       "    <tr style=\"text-align: right;\">\n",
       "      <th></th>\n",
       "      <th>PassengerId</th>\n",
       "      <th>Pclass</th>\n",
       "      <th>Name</th>\n",
       "      <th>Sex</th>\n",
       "      <th>Age</th>\n",
       "      <th>SibSp</th>\n",
       "      <th>Parch</th>\n",
       "      <th>Ticket</th>\n",
       "      <th>Fare</th>\n",
       "      <th>Cabin</th>\n",
       "      <th>Embarked</th>\n",
       "    </tr>\n",
       "  </thead>\n",
       "  <tbody>\n",
       "    <tr>\n",
       "      <th>5</th>\n",
       "      <td>6</td>\n",
       "      <td>3</td>\n",
       "      <td>Moran, Mr. James</td>\n",
       "      <td>male</td>\n",
       "      <td>NaN</td>\n",
       "      <td>0</td>\n",
       "      <td>0</td>\n",
       "      <td>330877</td>\n",
       "      <td>8.4583</td>\n",
       "      <td>NaN</td>\n",
       "      <td>Q</td>\n",
       "    </tr>\n",
       "    <tr>\n",
       "      <th>8</th>\n",
       "      <td>9</td>\n",
       "      <td>3</td>\n",
       "      <td>Johnson, Mrs. Oscar W (Elisabeth Vilhelmina Berg)</td>\n",
       "      <td>female</td>\n",
       "      <td>27.0</td>\n",
       "      <td>0</td>\n",
       "      <td>2</td>\n",
       "      <td>347742</td>\n",
       "      <td>11.1333</td>\n",
       "      <td>NaN</td>\n",
       "      <td>S</td>\n",
       "    </tr>\n",
       "    <tr>\n",
       "      <th>10</th>\n",
       "      <td>11</td>\n",
       "      <td>3</td>\n",
       "      <td>Sandstrom, Miss. Marguerite Rut</td>\n",
       "      <td>female</td>\n",
       "      <td>4.0</td>\n",
       "      <td>1</td>\n",
       "      <td>1</td>\n",
       "      <td>PP 9549</td>\n",
       "      <td>16.7000</td>\n",
       "      <td>G6</td>\n",
       "      <td>S</td>\n",
       "    </tr>\n",
       "  </tbody>\n",
       "</table>\n",
       "</div>"
      ]
     },
     "execution_count": 193,
     "metadata": {},
     "output_type": "execute_result"
    }
   ],
   "execution_count": 193
  },
  {
   "cell_type": "code",
   "metadata": {
    "ExecuteTime": {
     "end_time": "2024-07-26T14:30:59.550522Z",
     "start_time": "2024-07-26T14:30:59.541463Z"
    }
   },
   "source": [
    "X.loc[[5, 8, 10]]"
   ],
   "outputs": [
    {
     "data": {
      "text/plain": [
       "    PassengerId  Pclass                                               Name  \\\n",
       "5             6       3                                   Moran, Mr. James   \n",
       "8             9       3  Johnson, Mrs. Oscar W (Elisabeth Vilhelmina Berg)   \n",
       "10           11       3                    Sandstrom, Miss. Marguerite Rut   \n",
       "\n",
       "       Sex   Age  SibSp  Parch   Ticket     Fare Cabin Embarked  \n",
       "5     male   NaN      0      0   330877   8.4583   NaN        Q  \n",
       "8   female  27.0      0      2   347742  11.1333   NaN        S  \n",
       "10  female   4.0      1      1  PP 9549  16.7000    G6        S  "
      ],
      "text/html": [
       "<div>\n",
       "<style scoped>\n",
       "    .dataframe tbody tr th:only-of-type {\n",
       "        vertical-align: middle;\n",
       "    }\n",
       "\n",
       "    .dataframe tbody tr th {\n",
       "        vertical-align: top;\n",
       "    }\n",
       "\n",
       "    .dataframe thead th {\n",
       "        text-align: right;\n",
       "    }\n",
       "</style>\n",
       "<table border=\"1\" class=\"dataframe\">\n",
       "  <thead>\n",
       "    <tr style=\"text-align: right;\">\n",
       "      <th></th>\n",
       "      <th>PassengerId</th>\n",
       "      <th>Pclass</th>\n",
       "      <th>Name</th>\n",
       "      <th>Sex</th>\n",
       "      <th>Age</th>\n",
       "      <th>SibSp</th>\n",
       "      <th>Parch</th>\n",
       "      <th>Ticket</th>\n",
       "      <th>Fare</th>\n",
       "      <th>Cabin</th>\n",
       "      <th>Embarked</th>\n",
       "    </tr>\n",
       "  </thead>\n",
       "  <tbody>\n",
       "    <tr>\n",
       "      <th>5</th>\n",
       "      <td>6</td>\n",
       "      <td>3</td>\n",
       "      <td>Moran, Mr. James</td>\n",
       "      <td>male</td>\n",
       "      <td>NaN</td>\n",
       "      <td>0</td>\n",
       "      <td>0</td>\n",
       "      <td>330877</td>\n",
       "      <td>8.4583</td>\n",
       "      <td>NaN</td>\n",
       "      <td>Q</td>\n",
       "    </tr>\n",
       "    <tr>\n",
       "      <th>8</th>\n",
       "      <td>9</td>\n",
       "      <td>3</td>\n",
       "      <td>Johnson, Mrs. Oscar W (Elisabeth Vilhelmina Berg)</td>\n",
       "      <td>female</td>\n",
       "      <td>27.0</td>\n",
       "      <td>0</td>\n",
       "      <td>2</td>\n",
       "      <td>347742</td>\n",
       "      <td>11.1333</td>\n",
       "      <td>NaN</td>\n",
       "      <td>S</td>\n",
       "    </tr>\n",
       "    <tr>\n",
       "      <th>10</th>\n",
       "      <td>11</td>\n",
       "      <td>3</td>\n",
       "      <td>Sandstrom, Miss. Marguerite Rut</td>\n",
       "      <td>female</td>\n",
       "      <td>4.0</td>\n",
       "      <td>1</td>\n",
       "      <td>1</td>\n",
       "      <td>PP 9549</td>\n",
       "      <td>16.7000</td>\n",
       "      <td>G6</td>\n",
       "      <td>S</td>\n",
       "    </tr>\n",
       "  </tbody>\n",
       "</table>\n",
       "</div>"
      ]
     },
     "execution_count": 194,
     "metadata": {},
     "output_type": "execute_result"
    }
   ],
   "execution_count": 194
  },
  {
   "cell_type": "code",
   "metadata": {
    "ExecuteTime": {
     "end_time": "2024-07-26T14:30:59.588141Z",
     "start_time": "2024-07-26T14:30:59.576914Z"
    }
   },
   "source": [
    "# Меняем индексацию!\n",
    "df_new = df.set_index(\"Name\")\n",
    "df_new.head()"
   ],
   "outputs": [
    {
     "data": {
      "text/plain": [
       "                                                     PassengerId  Survived  \\\n",
       "Name                                                                         \n",
       "Braund, Mr. Owen Harris                                        1         0   \n",
       "Cumings, Mrs. John Bradley (Florence Briggs Thayer)            2         1   \n",
       "Heikkinen, Miss. Laina                                         3         1   \n",
       "Futrelle, Mrs. Jacques Heath (Lily May Peel)                   4         1   \n",
       "Allen, Mr. William Henry                                       5         0   \n",
       "\n",
       "                                                     Pclass     Sex   Age  \\\n",
       "Name                                                                        \n",
       "Braund, Mr. Owen Harris                                   3    male  22.0   \n",
       "Cumings, Mrs. John Bradley (Florence Briggs Thayer)       1  female  38.0   \n",
       "Heikkinen, Miss. Laina                                    3  female  26.0   \n",
       "Futrelle, Mrs. Jacques Heath (Lily May Peel)              1  female  35.0   \n",
       "Allen, Mr. William Henry                                  3    male  35.0   \n",
       "\n",
       "                                                     SibSp  Parch  \\\n",
       "Name                                                                \n",
       "Braund, Mr. Owen Harris                                  1      0   \n",
       "Cumings, Mrs. John Bradley (Florence Briggs Thayer)      1      0   \n",
       "Heikkinen, Miss. Laina                                   0      0   \n",
       "Futrelle, Mrs. Jacques Heath (Lily May Peel)             1      0   \n",
       "Allen, Mr. William Henry                                 0      0   \n",
       "\n",
       "                                                               Ticket  \\\n",
       "Name                                                                    \n",
       "Braund, Mr. Owen Harris                                     A/5 21171   \n",
       "Cumings, Mrs. John Bradley (Florence Briggs Thayer)          PC 17599   \n",
       "Heikkinen, Miss. Laina                               STON/O2. 3101282   \n",
       "Futrelle, Mrs. Jacques Heath (Lily May Peel)                   113803   \n",
       "Allen, Mr. William Henry                                       373450   \n",
       "\n",
       "                                                        Fare Cabin Embarked  \n",
       "Name                                                                         \n",
       "Braund, Mr. Owen Harris                               7.2500   NaN        S  \n",
       "Cumings, Mrs. John Bradley (Florence Briggs Thayer)  71.2833   C85        C  \n",
       "Heikkinen, Miss. Laina                                7.9250   NaN        S  \n",
       "Futrelle, Mrs. Jacques Heath (Lily May Peel)         53.1000  C123        S  \n",
       "Allen, Mr. William Henry                              8.0500   NaN        S  "
      ],
      "text/html": [
       "<div>\n",
       "<style scoped>\n",
       "    .dataframe tbody tr th:only-of-type {\n",
       "        vertical-align: middle;\n",
       "    }\n",
       "\n",
       "    .dataframe tbody tr th {\n",
       "        vertical-align: top;\n",
       "    }\n",
       "\n",
       "    .dataframe thead th {\n",
       "        text-align: right;\n",
       "    }\n",
       "</style>\n",
       "<table border=\"1\" class=\"dataframe\">\n",
       "  <thead>\n",
       "    <tr style=\"text-align: right;\">\n",
       "      <th></th>\n",
       "      <th>PassengerId</th>\n",
       "      <th>Survived</th>\n",
       "      <th>Pclass</th>\n",
       "      <th>Sex</th>\n",
       "      <th>Age</th>\n",
       "      <th>SibSp</th>\n",
       "      <th>Parch</th>\n",
       "      <th>Ticket</th>\n",
       "      <th>Fare</th>\n",
       "      <th>Cabin</th>\n",
       "      <th>Embarked</th>\n",
       "    </tr>\n",
       "    <tr>\n",
       "      <th>Name</th>\n",
       "      <th></th>\n",
       "      <th></th>\n",
       "      <th></th>\n",
       "      <th></th>\n",
       "      <th></th>\n",
       "      <th></th>\n",
       "      <th></th>\n",
       "      <th></th>\n",
       "      <th></th>\n",
       "      <th></th>\n",
       "      <th></th>\n",
       "    </tr>\n",
       "  </thead>\n",
       "  <tbody>\n",
       "    <tr>\n",
       "      <th>Braund, Mr. Owen Harris</th>\n",
       "      <td>1</td>\n",
       "      <td>0</td>\n",
       "      <td>3</td>\n",
       "      <td>male</td>\n",
       "      <td>22.0</td>\n",
       "      <td>1</td>\n",
       "      <td>0</td>\n",
       "      <td>A/5 21171</td>\n",
       "      <td>7.2500</td>\n",
       "      <td>NaN</td>\n",
       "      <td>S</td>\n",
       "    </tr>\n",
       "    <tr>\n",
       "      <th>Cumings, Mrs. John Bradley (Florence Briggs Thayer)</th>\n",
       "      <td>2</td>\n",
       "      <td>1</td>\n",
       "      <td>1</td>\n",
       "      <td>female</td>\n",
       "      <td>38.0</td>\n",
       "      <td>1</td>\n",
       "      <td>0</td>\n",
       "      <td>PC 17599</td>\n",
       "      <td>71.2833</td>\n",
       "      <td>C85</td>\n",
       "      <td>C</td>\n",
       "    </tr>\n",
       "    <tr>\n",
       "      <th>Heikkinen, Miss. Laina</th>\n",
       "      <td>3</td>\n",
       "      <td>1</td>\n",
       "      <td>3</td>\n",
       "      <td>female</td>\n",
       "      <td>26.0</td>\n",
       "      <td>0</td>\n",
       "      <td>0</td>\n",
       "      <td>STON/O2. 3101282</td>\n",
       "      <td>7.9250</td>\n",
       "      <td>NaN</td>\n",
       "      <td>S</td>\n",
       "    </tr>\n",
       "    <tr>\n",
       "      <th>Futrelle, Mrs. Jacques Heath (Lily May Peel)</th>\n",
       "      <td>4</td>\n",
       "      <td>1</td>\n",
       "      <td>1</td>\n",
       "      <td>female</td>\n",
       "      <td>35.0</td>\n",
       "      <td>1</td>\n",
       "      <td>0</td>\n",
       "      <td>113803</td>\n",
       "      <td>53.1000</td>\n",
       "      <td>C123</td>\n",
       "      <td>S</td>\n",
       "    </tr>\n",
       "    <tr>\n",
       "      <th>Allen, Mr. William Henry</th>\n",
       "      <td>5</td>\n",
       "      <td>0</td>\n",
       "      <td>3</td>\n",
       "      <td>male</td>\n",
       "      <td>35.0</td>\n",
       "      <td>0</td>\n",
       "      <td>0</td>\n",
       "      <td>373450</td>\n",
       "      <td>8.0500</td>\n",
       "      <td>NaN</td>\n",
       "      <td>S</td>\n",
       "    </tr>\n",
       "  </tbody>\n",
       "</table>\n",
       "</div>"
      ]
     },
     "execution_count": 195,
     "metadata": {},
     "output_type": "execute_result"
    }
   ],
   "execution_count": 195
  },
  {
   "cell_type": "code",
   "metadata": {
    "ExecuteTime": {
     "end_time": "2024-07-26T14:30:59.654456Z",
     "start_time": "2024-07-26T14:30:59.649945Z"
    }
   },
   "source": [
    "df_new.loc[\"Braund, Mr. Owen Harris\"]"
   ],
   "outputs": [
    {
     "data": {
      "text/plain": [
       "PassengerId            1\n",
       "Survived               0\n",
       "Pclass                 3\n",
       "Sex                 male\n",
       "Age                 22.0\n",
       "SibSp                  1\n",
       "Parch                  0\n",
       "Ticket         A/5 21171\n",
       "Fare                7.25\n",
       "Cabin                NaN\n",
       "Embarked               S\n",
       "Name: Braund, Mr. Owen Harris, dtype: object"
      ]
     },
     "execution_count": 196,
     "metadata": {},
     "output_type": "execute_result"
    }
   ],
   "execution_count": 196
  },
  {
   "cell_type": "markdown",
   "metadata": {},
   "source": [
    "### Анализ данных"
   ]
  },
  {
   "cell_type": "code",
   "metadata": {
    "ExecuteTime": {
     "end_time": "2024-07-26T14:30:59.738506Z",
     "start_time": "2024-07-26T14:30:59.729284Z"
    }
   },
   "source": [
    "df.head()"
   ],
   "outputs": [
    {
     "data": {
      "text/plain": [
       "   PassengerId  Survived  Pclass  \\\n",
       "0            1         0       3   \n",
       "1            2         1       1   \n",
       "2            3         1       3   \n",
       "3            4         1       1   \n",
       "4            5         0       3   \n",
       "\n",
       "                                                  Name     Sex   Age  SibSp  \\\n",
       "0                              Braund, Mr. Owen Harris    male  22.0      1   \n",
       "1  Cumings, Mrs. John Bradley (Florence Briggs Thayer)  female  38.0      1   \n",
       "2                               Heikkinen, Miss. Laina  female  26.0      0   \n",
       "3         Futrelle, Mrs. Jacques Heath (Lily May Peel)  female  35.0      1   \n",
       "4                             Allen, Mr. William Henry    male  35.0      0   \n",
       "\n",
       "   Parch            Ticket     Fare Cabin Embarked  \n",
       "0      0         A/5 21171   7.2500   NaN        S  \n",
       "1      0          PC 17599  71.2833   C85        C  \n",
       "2      0  STON/O2. 3101282   7.9250   NaN        S  \n",
       "3      0            113803  53.1000  C123        S  \n",
       "4      0            373450   8.0500   NaN        S  "
      ],
      "text/html": [
       "<div>\n",
       "<style scoped>\n",
       "    .dataframe tbody tr th:only-of-type {\n",
       "        vertical-align: middle;\n",
       "    }\n",
       "\n",
       "    .dataframe tbody tr th {\n",
       "        vertical-align: top;\n",
       "    }\n",
       "\n",
       "    .dataframe thead th {\n",
       "        text-align: right;\n",
       "    }\n",
       "</style>\n",
       "<table border=\"1\" class=\"dataframe\">\n",
       "  <thead>\n",
       "    <tr style=\"text-align: right;\">\n",
       "      <th></th>\n",
       "      <th>PassengerId</th>\n",
       "      <th>Survived</th>\n",
       "      <th>Pclass</th>\n",
       "      <th>Name</th>\n",
       "      <th>Sex</th>\n",
       "      <th>Age</th>\n",
       "      <th>SibSp</th>\n",
       "      <th>Parch</th>\n",
       "      <th>Ticket</th>\n",
       "      <th>Fare</th>\n",
       "      <th>Cabin</th>\n",
       "      <th>Embarked</th>\n",
       "    </tr>\n",
       "  </thead>\n",
       "  <tbody>\n",
       "    <tr>\n",
       "      <th>0</th>\n",
       "      <td>1</td>\n",
       "      <td>0</td>\n",
       "      <td>3</td>\n",
       "      <td>Braund, Mr. Owen Harris</td>\n",
       "      <td>male</td>\n",
       "      <td>22.0</td>\n",
       "      <td>1</td>\n",
       "      <td>0</td>\n",
       "      <td>A/5 21171</td>\n",
       "      <td>7.2500</td>\n",
       "      <td>NaN</td>\n",
       "      <td>S</td>\n",
       "    </tr>\n",
       "    <tr>\n",
       "      <th>1</th>\n",
       "      <td>2</td>\n",
       "      <td>1</td>\n",
       "      <td>1</td>\n",
       "      <td>Cumings, Mrs. John Bradley (Florence Briggs Thayer)</td>\n",
       "      <td>female</td>\n",
       "      <td>38.0</td>\n",
       "      <td>1</td>\n",
       "      <td>0</td>\n",
       "      <td>PC 17599</td>\n",
       "      <td>71.2833</td>\n",
       "      <td>C85</td>\n",
       "      <td>C</td>\n",
       "    </tr>\n",
       "    <tr>\n",
       "      <th>2</th>\n",
       "      <td>3</td>\n",
       "      <td>1</td>\n",
       "      <td>3</td>\n",
       "      <td>Heikkinen, Miss. Laina</td>\n",
       "      <td>female</td>\n",
       "      <td>26.0</td>\n",
       "      <td>0</td>\n",
       "      <td>0</td>\n",
       "      <td>STON/O2. 3101282</td>\n",
       "      <td>7.9250</td>\n",
       "      <td>NaN</td>\n",
       "      <td>S</td>\n",
       "    </tr>\n",
       "    <tr>\n",
       "      <th>3</th>\n",
       "      <td>4</td>\n",
       "      <td>1</td>\n",
       "      <td>1</td>\n",
       "      <td>Futrelle, Mrs. Jacques Heath (Lily May Peel)</td>\n",
       "      <td>female</td>\n",
       "      <td>35.0</td>\n",
       "      <td>1</td>\n",
       "      <td>0</td>\n",
       "      <td>113803</td>\n",
       "      <td>53.1000</td>\n",
       "      <td>C123</td>\n",
       "      <td>S</td>\n",
       "    </tr>\n",
       "    <tr>\n",
       "      <th>4</th>\n",
       "      <td>5</td>\n",
       "      <td>0</td>\n",
       "      <td>3</td>\n",
       "      <td>Allen, Mr. William Henry</td>\n",
       "      <td>male</td>\n",
       "      <td>35.0</td>\n",
       "      <td>0</td>\n",
       "      <td>0</td>\n",
       "      <td>373450</td>\n",
       "      <td>8.0500</td>\n",
       "      <td>NaN</td>\n",
       "      <td>S</td>\n",
       "    </tr>\n",
       "  </tbody>\n",
       "</table>\n",
       "</div>"
      ]
     },
     "execution_count": 197,
     "metadata": {},
     "output_type": "execute_result"
    }
   ],
   "execution_count": 197
  },
  {
   "cell_type": "code",
   "metadata": {
    "ExecuteTime": {
     "end_time": "2024-07-26T14:30:59.875338Z",
     "start_time": "2024-07-26T14:30:59.871748Z"
    }
   },
   "source": [
    "set(df[\"Sex\"])"
   ],
   "outputs": [
    {
     "data": {
      "text/plain": [
       "{'female', 'male'}"
      ]
     },
     "execution_count": 198,
     "metadata": {},
     "output_type": "execute_result"
    }
   ],
   "execution_count": 198
  },
  {
   "cell_type": "code",
   "metadata": {
    "ExecuteTime": {
     "end_time": "2024-07-26T14:30:59.955507Z",
     "start_time": "2024-07-26T14:30:59.951552Z"
    }
   },
   "source": [
    "len(set(df[\"Name\"]))"
   ],
   "outputs": [
    {
     "data": {
      "text/plain": [
       "891"
      ]
     },
     "execution_count": 199,
     "metadata": {},
     "output_type": "execute_result"
    }
   ],
   "execution_count": 199
  },
  {
   "cell_type": "code",
   "metadata": {
    "ExecuteTime": {
     "end_time": "2024-07-26T14:31:00.054064Z",
     "start_time": "2024-07-26T14:31:00.049725Z"
    }
   },
   "source": [
    "df[\"Sex\"].value_counts()"
   ],
   "outputs": [
    {
     "data": {
      "text/plain": [
       "Sex\n",
       "male      577\n",
       "female    314\n",
       "Name: count, dtype: int64"
      ]
     },
     "execution_count": 200,
     "metadata": {},
     "output_type": "execute_result"
    }
   ],
   "execution_count": 200
  },
  {
   "cell_type": "code",
   "metadata": {
    "ExecuteTime": {
     "end_time": "2024-07-26T14:31:00.288474Z",
     "start_time": "2024-07-26T14:31:00.152083Z"
    }
   },
   "source": [
    "df.pivot_table(\"PassengerId\", \"Sex\", \"Survived\", \"count\").plot(kind=\"bar\", stacked=True);\n",
    "# Какой вывод из полученных гистограмм?"
   ],
   "outputs": [
    {
     "data": {
      "text/plain": [
       "<Figure size 640x480 with 1 Axes>"
      ],
      "image/png": "[encoded data removed]"
     },
     "metadata": {},
     "output_type": "display_data"
    }
   ],
   "execution_count": 201
  },
  {
   "cell_type": "code",
   "metadata": {
    "ExecuteTime": {
     "end_time": "2024-07-26T14:31:00.405819Z",
     "start_time": "2024-07-26T14:31:00.289614Z"
    }
   },
   "source": [
    "df.pivot_table(\"PassengerId\", \"Pclass\", \"Survived\", \"count\").plot(\n",
    "    kind=\"bar\", stacked=True\n",
    ");\n",
    "# Какой вывод из полученных гистограмм?"
   ],
   "outputs": [
    {
     "data": {
      "text/plain": [
       "<Figure size 640x480 with 1 Axes>"
      ],
      "image/png": "[encoded data removed]"
     },
     "metadata": {},
     "output_type": "display_data"
    }
   ],
   "execution_count": 202
  },
  {
   "cell_type": "code",
   "metadata": {
    "ExecuteTime": {
     "end_time": "2024-07-26T14:31:00.696446Z",
     "start_time": "2024-07-26T14:31:00.407406Z"
    }
   },
   "source": [
    "fig, axes = plt.subplots(ncols=2)\n",
    "df.pivot_table(\"PassengerId\", [\"SibSp\"], \"Survived\", \"count\").plot(\n",
    "    ax=axes[0], title=\"SibSp\"\n",
    ")\n",
    "df.pivot_table(\"PassengerId\", [\"Parch\"], \"Survived\", \"count\").plot(\n",
    "    ax=axes[1], title=\"Parch\"\n",
    ");\n",
    "\n",
    "# Какой вывод из полученных графиков?"
   ],
   "outputs": [
    {
     "data": {
      "text/plain": [
       "<Figure size 640x480 with 2 Axes>"
      ],
      "image/png": "[encoded data removed]"
     },
     "metadata": {},
     "output_type": "display_data"
    }
   ],
   "execution_count": 203
  },
  {
   "cell_type": "code",
   "metadata": {
    "ExecuteTime": {
     "end_time": "2024-07-26T14:31:04.884720Z",
     "start_time": "2024-07-26T14:31:00.697932Z"
    }
   },
   "source": [
    "df.plot(x=\"PassengerId\", y=\"Fare\", kind=\"bar\")"
   ],
   "outputs": [
    {
     "data": {
      "text/plain": [
       "<Axes: xlabel='PassengerId'>"
      ]
     },
     "execution_count": 204,
     "metadata": {},
     "output_type": "execute_result"
    },
    {
     "data": {
      "text/plain": [
       "<Figure size 640x480 with 1 Axes>"
      ],
      "image/png": "[encoded data removed]"
     },
     "metadata": {},
     "output_type": "display_data"
    }
   ],
   "execution_count": 204
  },
  {
   "cell_type": "markdown",
   "metadata": {},
   "source": [
    "### Обработка и преобразование данных"
   ]
  },
  {
   "cell_type": "code",
   "metadata": {
    "ExecuteTime": {
     "end_time": "2024-07-26T14:31:04.893527Z",
     "start_time": "2024-07-26T14:31:04.885811Z"
    }
   },
   "source": [
    "df.head(7)"
   ],
   "outputs": [
    {
     "data": {
      "text/plain": [
       "   PassengerId  Survived  Pclass  \\\n",
       "0            1         0       3   \n",
       "1            2         1       1   \n",
       "2            3         1       3   \n",
       "3            4         1       1   \n",
       "4            5         0       3   \n",
       "5            6         0       3   \n",
       "6            7         0       1   \n",
       "\n",
       "                                                  Name     Sex   Age  SibSp  \\\n",
       "0                              Braund, Mr. Owen Harris    male  22.0      1   \n",
       "1  Cumings, Mrs. John Bradley (Florence Briggs Thayer)  female  38.0      1   \n",
       "2                               Heikkinen, Miss. Laina  female  26.0      0   \n",
       "3         Futrelle, Mrs. Jacques Heath (Lily May Peel)  female  35.0      1   \n",
       "4                             Allen, Mr. William Henry    male  35.0      0   \n",
       "5                                     Moran, Mr. James    male   NaN      0   \n",
       "6                              McCarthy, Mr. Timothy J    male  54.0      0   \n",
       "\n",
       "   Parch            Ticket     Fare Cabin Embarked  \n",
       "0      0         A/5 21171   7.2500   NaN        S  \n",
       "1      0          PC 17599  71.2833   C85        C  \n",
       "2      0  STON/O2. 3101282   7.9250   NaN        S  \n",
       "3      0            113803  53.1000  C123        S  \n",
       "4      0            373450   8.0500   NaN        S  \n",
       "5      0            330877   8.4583   NaN        Q  \n",
       "6      0             17463  51.8625   E46        S  "
      ],
      "text/html": [
       "<div>\n",
       "<style scoped>\n",
       "    .dataframe tbody tr th:only-of-type {\n",
       "        vertical-align: middle;\n",
       "    }\n",
       "\n",
       "    .dataframe tbody tr th {\n",
       "        vertical-align: top;\n",
       "    }\n",
       "\n",
       "    .dataframe thead th {\n",
       "        text-align: right;\n",
       "    }\n",
       "</style>\n",
       "<table border=\"1\" class=\"dataframe\">\n",
       "  <thead>\n",
       "    <tr style=\"text-align: right;\">\n",
       "      <th></th>\n",
       "      <th>PassengerId</th>\n",
       "      <th>Survived</th>\n",
       "      <th>Pclass</th>\n",
       "      <th>Name</th>\n",
       "      <th>Sex</th>\n",
       "      <th>Age</th>\n",
       "      <th>SibSp</th>\n",
       "      <th>Parch</th>\n",
       "      <th>Ticket</th>\n",
       "      <th>Fare</th>\n",
       "      <th>Cabin</th>\n",
       "      <th>Embarked</th>\n",
       "    </tr>\n",
       "  </thead>\n",
       "  <tbody>\n",
       "    <tr>\n",
       "      <th>0</th>\n",
       "      <td>1</td>\n",
       "      <td>0</td>\n",
       "      <td>3</td>\n",
       "      <td>Braund, Mr. Owen Harris</td>\n",
       "      <td>male</td>\n",
       "      <td>22.0</td>\n",
       "      <td>1</td>\n",
       "      <td>0</td>\n",
       "      <td>A/5 21171</td>\n",
       "      <td>7.2500</td>\n",
       "      <td>NaN</td>\n",
       "      <td>S</td>\n",
       "    </tr>\n",
       "    <tr>\n",
       "      <th>1</th>\n",
       "      <td>2</td>\n",
       "      <td>1</td>\n",
       "      <td>1</td>\n",
       "      <td>Cumings, Mrs. John Bradley (Florence Briggs Thayer)</td>\n",
       "      <td>female</td>\n",
       "      <td>38.0</td>\n",
       "      <td>1</td>\n",
       "      <td>0</td>\n",
       "      <td>PC 17599</td>\n",
       "      <td>71.2833</td>\n",
       "      <td>C85</td>\n",
       "      <td>C</td>\n",
       "    </tr>\n",
       "    <tr>\n",
       "      <th>2</th>\n",
       "      <td>3</td>\n",
       "      <td>1</td>\n",
       "      <td>3</td>\n",
       "      <td>Heikkinen, Miss. Laina</td>\n",
       "      <td>female</td>\n",
       "      <td>26.0</td>\n",
       "      <td>0</td>\n",
       "      <td>0</td>\n",
       "      <td>STON/O2. 3101282</td>\n",
       "      <td>7.9250</td>\n",
       "      <td>NaN</td>\n",
       "      <td>S</td>\n",
       "    </tr>\n",
       "    <tr>\n",
       "      <th>3</th>\n",
       "      <td>4</td>\n",
       "      <td>1</td>\n",
       "      <td>1</td>\n",
       "      <td>Futrelle, Mrs. Jacques Heath (Lily May Peel)</td>\n",
       "      <td>female</td>\n",
       "      <td>35.0</td>\n",
       "      <td>1</td>\n",
       "      <td>0</td>\n",
       "      <td>113803</td>\n",
       "      <td>53.1000</td>\n",
       "      <td>C123</td>\n",
       "      <td>S</td>\n",
       "    </tr>\n",
       "    <tr>\n",
       "      <th>4</th>\n",
       "      <td>5</td>\n",
       "      <td>0</td>\n",
       "      <td>3</td>\n",
       "      <td>Allen, Mr. William Henry</td>\n",
       "      <td>male</td>\n",
       "      <td>35.0</td>\n",
       "      <td>0</td>\n",
       "      <td>0</td>\n",
       "      <td>373450</td>\n",
       "      <td>8.0500</td>\n",
       "      <td>NaN</td>\n",
       "      <td>S</td>\n",
       "    </tr>\n",
       "    <tr>\n",
       "      <th>5</th>\n",
       "      <td>6</td>\n",
       "      <td>0</td>\n",
       "      <td>3</td>\n",
       "      <td>Moran, Mr. James</td>\n",
       "      <td>male</td>\n",
       "      <td>NaN</td>\n",
       "      <td>0</td>\n",
       "      <td>0</td>\n",
       "      <td>330877</td>\n",
       "      <td>8.4583</td>\n",
       "      <td>NaN</td>\n",
       "      <td>Q</td>\n",
       "    </tr>\n",
       "    <tr>\n",
       "      <th>6</th>\n",
       "      <td>7</td>\n",
       "      <td>0</td>\n",
       "      <td>1</td>\n",
       "      <td>McCarthy, Mr. Timothy J</td>\n",
       "      <td>male</td>\n",
       "      <td>54.0</td>\n",
       "      <td>0</td>\n",
       "      <td>0</td>\n",
       "      <td>17463</td>\n",
       "      <td>51.8625</td>\n",
       "      <td>E46</td>\n",
       "      <td>S</td>\n",
       "    </tr>\n",
       "  </tbody>\n",
       "</table>\n",
       "</div>"
      ]
     },
     "execution_count": 205,
     "metadata": {},
     "output_type": "execute_result"
    }
   ],
   "execution_count": 205
  },
  {
   "cell_type": "code",
   "metadata": {
    "ExecuteTime": {
     "end_time": "2024-07-26T14:31:04.915269Z",
     "start_time": "2024-07-26T14:31:04.895181Z"
    }
   },
   "source": [
    "# преобразуем текстовый признак \"Пол\" в числовые значения\n",
    "df[\"DecodedSex\"] = df[\"Sex\"].map({\"male\": 1, \"female\": -1, \"unknown\": 0})\n",
    "df.head(2)"
   ],
   "outputs": [
    {
     "data": {
      "text/plain": [
       "   PassengerId  Survived  Pclass  \\\n",
       "0            1         0       3   \n",
       "1            2         1       1   \n",
       "\n",
       "                                                  Name     Sex   Age  SibSp  \\\n",
       "0                              Braund, Mr. Owen Harris    male  22.0      1   \n",
       "1  Cumings, Mrs. John Bradley (Florence Briggs Thayer)  female  38.0      1   \n",
       "\n",
       "   Parch     Ticket     Fare Cabin Embarked  DecodedSex  \n",
       "0      0  A/5 21171   7.2500   NaN        S           1  \n",
       "1      0   PC 17599  71.2833   C85        C          -1  "
      ],
      "text/html": [
       "<div>\n",
       "<style scoped>\n",
       "    .dataframe tbody tr th:only-of-type {\n",
       "        vertical-align: middle;\n",
       "    }\n",
       "\n",
       "    .dataframe tbody tr th {\n",
       "        vertical-align: top;\n",
       "    }\n",
       "\n",
       "    .dataframe thead th {\n",
       "        text-align: right;\n",
       "    }\n",
       "</style>\n",
       "<table border=\"1\" class=\"dataframe\">\n",
       "  <thead>\n",
       "    <tr style=\"text-align: right;\">\n",
       "      <th></th>\n",
       "      <th>PassengerId</th>\n",
       "      <th>Survived</th>\n",
       "      <th>Pclass</th>\n",
       "      <th>Name</th>\n",
       "      <th>Sex</th>\n",
       "      <th>Age</th>\n",
       "      <th>SibSp</th>\n",
       "      <th>Parch</th>\n",
       "      <th>Ticket</th>\n",
       "      <th>Fare</th>\n",
       "      <th>Cabin</th>\n",
       "      <th>Embarked</th>\n",
       "      <th>DecodedSex</th>\n",
       "    </tr>\n",
       "  </thead>\n",
       "  <tbody>\n",
       "    <tr>\n",
       "      <th>0</th>\n",
       "      <td>1</td>\n",
       "      <td>0</td>\n",
       "      <td>3</td>\n",
       "      <td>Braund, Mr. Owen Harris</td>\n",
       "      <td>male</td>\n",
       "      <td>22.0</td>\n",
       "      <td>1</td>\n",
       "      <td>0</td>\n",
       "      <td>A/5 21171</td>\n",
       "      <td>7.2500</td>\n",
       "      <td>NaN</td>\n",
       "      <td>S</td>\n",
       "      <td>1</td>\n",
       "    </tr>\n",
       "    <tr>\n",
       "      <th>1</th>\n",
       "      <td>2</td>\n",
       "      <td>1</td>\n",
       "      <td>1</td>\n",
       "      <td>Cumings, Mrs. John Bradley (Florence Briggs Thayer)</td>\n",
       "      <td>female</td>\n",
       "      <td>38.0</td>\n",
       "      <td>1</td>\n",
       "      <td>0</td>\n",
       "      <td>PC 17599</td>\n",
       "      <td>71.2833</td>\n",
       "      <td>C85</td>\n",
       "      <td>C</td>\n",
       "      <td>-1</td>\n",
       "    </tr>\n",
       "  </tbody>\n",
       "</table>\n",
       "</div>"
      ]
     },
     "execution_count": 206,
     "metadata": {},
     "output_type": "execute_result"
    }
   ],
   "execution_count": 206
  },
  {
   "cell_type": "code",
   "metadata": {
    "scrolled": true,
    "ExecuteTime": {
     "end_time": "2024-07-26T14:31:04.926467Z",
     "start_time": "2024-07-26T14:31:04.916214Z"
    }
   },
   "source": [
    "# добавим еще одну характеристику для каждого объекта датасета\n",
    "def fun(age):\n",
    "    return age / 100\n",
    "\n",
    "\n",
    "df[\"NewAge\"] = df[\"Age\"].apply(fun)\n",
    "df.head(2)"
   ],
   "outputs": [
    {
     "data": {
      "text/plain": [
       "   PassengerId  Survived  Pclass  \\\n",
       "0            1         0       3   \n",
       "1            2         1       1   \n",
       "\n",
       "                                                  Name     Sex   Age  SibSp  \\\n",
       "0                              Braund, Mr. Owen Harris    male  22.0      1   \n",
       "1  Cumings, Mrs. John Bradley (Florence Briggs Thayer)  female  38.0      1   \n",
       "\n",
       "   Parch     Ticket     Fare Cabin Embarked  DecodedSex  NewAge  \n",
       "0      0  A/5 21171   7.2500   NaN        S           1    0.22  \n",
       "1      0   PC 17599  71.2833   C85        C          -1    0.38  "
      ],
      "text/html": [
       "<div>\n",
       "<style scoped>\n",
       "    .dataframe tbody tr th:only-of-type {\n",
       "        vertical-align: middle;\n",
       "    }\n",
       "\n",
       "    .dataframe tbody tr th {\n",
       "        vertical-align: top;\n",
       "    }\n",
       "\n",
       "    .dataframe thead th {\n",
       "        text-align: right;\n",
       "    }\n",
       "</style>\n",
       "<table border=\"1\" class=\"dataframe\">\n",
       "  <thead>\n",
       "    <tr style=\"text-align: right;\">\n",
       "      <th></th>\n",
       "      <th>PassengerId</th>\n",
       "      <th>Survived</th>\n",
       "      <th>Pclass</th>\n",
       "      <th>Name</th>\n",
       "      <th>Sex</th>\n",
       "      <th>Age</th>\n",
       "      <th>SibSp</th>\n",
       "      <th>Parch</th>\n",
       "      <th>Ticket</th>\n",
       "      <th>Fare</th>\n",
       "      <th>Cabin</th>\n",
       "      <th>Embarked</th>\n",
       "      <th>DecodedSex</th>\n",
       "      <th>NewAge</th>\n",
       "    </tr>\n",
       "  </thead>\n",
       "  <tbody>\n",
       "    <tr>\n",
       "      <th>0</th>\n",
       "      <td>1</td>\n",
       "      <td>0</td>\n",
       "      <td>3</td>\n",
       "      <td>Braund, Mr. Owen Harris</td>\n",
       "      <td>male</td>\n",
       "      <td>22.0</td>\n",
       "      <td>1</td>\n",
       "      <td>0</td>\n",
       "      <td>A/5 21171</td>\n",
       "      <td>7.2500</td>\n",
       "      <td>NaN</td>\n",
       "      <td>S</td>\n",
       "      <td>1</td>\n",
       "      <td>0.22</td>\n",
       "    </tr>\n",
       "    <tr>\n",
       "      <th>1</th>\n",
       "      <td>2</td>\n",
       "      <td>1</td>\n",
       "      <td>1</td>\n",
       "      <td>Cumings, Mrs. John Bradley (Florence Briggs Thayer)</td>\n",
       "      <td>female</td>\n",
       "      <td>38.0</td>\n",
       "      <td>1</td>\n",
       "      <td>0</td>\n",
       "      <td>PC 17599</td>\n",
       "      <td>71.2833</td>\n",
       "      <td>C85</td>\n",
       "      <td>C</td>\n",
       "      <td>-1</td>\n",
       "      <td>0.38</td>\n",
       "    </tr>\n",
       "  </tbody>\n",
       "</table>\n",
       "</div>"
      ]
     },
     "execution_count": 207,
     "metadata": {},
     "output_type": "execute_result"
    }
   ],
   "execution_count": 207
  },
  {
   "cell_type": "code",
   "metadata": {
    "ExecuteTime": {
     "end_time": "2024-07-26T14:31:04.936754Z",
     "start_time": "2024-07-26T14:31:04.927442Z"
    }
   },
   "source": [
    "# то же самое можно сделать с помощью лямбда функции\n",
    "df[\"NewAge\"] = df[\"Age\"].apply(lambda age: age / 100)\n",
    "df.head(2)"
   ],
   "outputs": [
    {
     "data": {
      "text/plain": [
       "   PassengerId  Survived  Pclass  \\\n",
       "0            1         0       3   \n",
       "1            2         1       1   \n",
       "\n",
       "                                                  Name     Sex   Age  SibSp  \\\n",
       "0                              Braund, Mr. Owen Harris    male  22.0      1   \n",
       "1  Cumings, Mrs. John Bradley (Florence Briggs Thayer)  female  38.0      1   \n",
       "\n",
       "   Parch     Ticket     Fare Cabin Embarked  DecodedSex  NewAge  \n",
       "0      0  A/5 21171   7.2500   NaN        S           1    0.22  \n",
       "1      0   PC 17599  71.2833   C85        C          -1    0.38  "
      ],
      "text/html": [
       "<div>\n",
       "<style scoped>\n",
       "    .dataframe tbody tr th:only-of-type {\n",
       "        vertical-align: middle;\n",
       "    }\n",
       "\n",
       "    .dataframe tbody tr th {\n",
       "        vertical-align: top;\n",
       "    }\n",
       "\n",
       "    .dataframe thead th {\n",
       "        text-align: right;\n",
       "    }\n",
       "</style>\n",
       "<table border=\"1\" class=\"dataframe\">\n",
       "  <thead>\n",
       "    <tr style=\"text-align: right;\">\n",
       "      <th></th>\n",
       "      <th>PassengerId</th>\n",
       "      <th>Survived</th>\n",
       "      <th>Pclass</th>\n",
       "      <th>Name</th>\n",
       "      <th>Sex</th>\n",
       "      <th>Age</th>\n",
       "      <th>SibSp</th>\n",
       "      <th>Parch</th>\n",
       "      <th>Ticket</th>\n",
       "      <th>Fare</th>\n",
       "      <th>Cabin</th>\n",
       "      <th>Embarked</th>\n",
       "      <th>DecodedSex</th>\n",
       "      <th>NewAge</th>\n",
       "    </tr>\n",
       "  </thead>\n",
       "  <tbody>\n",
       "    <tr>\n",
       "      <th>0</th>\n",
       "      <td>1</td>\n",
       "      <td>0</td>\n",
       "      <td>3</td>\n",
       "      <td>Braund, Mr. Owen Harris</td>\n",
       "      <td>male</td>\n",
       "      <td>22.0</td>\n",
       "      <td>1</td>\n",
       "      <td>0</td>\n",
       "      <td>A/5 21171</td>\n",
       "      <td>7.2500</td>\n",
       "      <td>NaN</td>\n",
       "      <td>S</td>\n",
       "      <td>1</td>\n",
       "      <td>0.22</td>\n",
       "    </tr>\n",
       "    <tr>\n",
       "      <th>1</th>\n",
       "      <td>2</td>\n",
       "      <td>1</td>\n",
       "      <td>1</td>\n",
       "      <td>Cumings, Mrs. John Bradley (Florence Briggs Thayer)</td>\n",
       "      <td>female</td>\n",
       "      <td>38.0</td>\n",
       "      <td>1</td>\n",
       "      <td>0</td>\n",
       "      <td>PC 17599</td>\n",
       "      <td>71.2833</td>\n",
       "      <td>C85</td>\n",
       "      <td>C</td>\n",
       "      <td>-1</td>\n",
       "      <td>0.38</td>\n",
       "    </tr>\n",
       "  </tbody>\n",
       "</table>\n",
       "</div>"
      ]
     },
     "execution_count": 208,
     "metadata": {},
     "output_type": "execute_result"
    }
   ],
   "execution_count": 208
  },
  {
   "cell_type": "code",
   "metadata": {
    "ExecuteTime": {
     "end_time": "2024-07-26T14:31:04.947259Z",
     "start_time": "2024-07-26T14:31:04.937822Z"
    }
   },
   "source": [
    "df[\"NewAge\"] = df[\"Age\"] / 100\n",
    "df.head(2)"
   ],
   "outputs": [
    {
     "data": {
      "text/plain": [
       "   PassengerId  Survived  Pclass  \\\n",
       "0            1         0       3   \n",
       "1            2         1       1   \n",
       "\n",
       "                                                  Name     Sex   Age  SibSp  \\\n",
       "0                              Braund, Mr. Owen Harris    male  22.0      1   \n",
       "1  Cumings, Mrs. John Bradley (Florence Briggs Thayer)  female  38.0      1   \n",
       "\n",
       "   Parch     Ticket     Fare Cabin Embarked  DecodedSex  NewAge  \n",
       "0      0  A/5 21171   7.2500   NaN        S           1    0.22  \n",
       "1      0   PC 17599  71.2833   C85        C          -1    0.38  "
      ],
      "text/html": [
       "<div>\n",
       "<style scoped>\n",
       "    .dataframe tbody tr th:only-of-type {\n",
       "        vertical-align: middle;\n",
       "    }\n",
       "\n",
       "    .dataframe tbody tr th {\n",
       "        vertical-align: top;\n",
       "    }\n",
       "\n",
       "    .dataframe thead th {\n",
       "        text-align: right;\n",
       "    }\n",
       "</style>\n",
       "<table border=\"1\" class=\"dataframe\">\n",
       "  <thead>\n",
       "    <tr style=\"text-align: right;\">\n",
       "      <th></th>\n",
       "      <th>PassengerId</th>\n",
       "      <th>Survived</th>\n",
       "      <th>Pclass</th>\n",
       "      <th>Name</th>\n",
       "      <th>Sex</th>\n",
       "      <th>Age</th>\n",
       "      <th>SibSp</th>\n",
       "      <th>Parch</th>\n",
       "      <th>Ticket</th>\n",
       "      <th>Fare</th>\n",
       "      <th>Cabin</th>\n",
       "      <th>Embarked</th>\n",
       "      <th>DecodedSex</th>\n",
       "      <th>NewAge</th>\n",
       "    </tr>\n",
       "  </thead>\n",
       "  <tbody>\n",
       "    <tr>\n",
       "      <th>0</th>\n",
       "      <td>1</td>\n",
       "      <td>0</td>\n",
       "      <td>3</td>\n",
       "      <td>Braund, Mr. Owen Harris</td>\n",
       "      <td>male</td>\n",
       "      <td>22.0</td>\n",
       "      <td>1</td>\n",
       "      <td>0</td>\n",
       "      <td>A/5 21171</td>\n",
       "      <td>7.2500</td>\n",
       "      <td>NaN</td>\n",
       "      <td>S</td>\n",
       "      <td>1</td>\n",
       "      <td>0.22</td>\n",
       "    </tr>\n",
       "    <tr>\n",
       "      <th>1</th>\n",
       "      <td>2</td>\n",
       "      <td>1</td>\n",
       "      <td>1</td>\n",
       "      <td>Cumings, Mrs. John Bradley (Florence Briggs Thayer)</td>\n",
       "      <td>female</td>\n",
       "      <td>38.0</td>\n",
       "      <td>1</td>\n",
       "      <td>0</td>\n",
       "      <td>PC 17599</td>\n",
       "      <td>71.2833</td>\n",
       "      <td>C85</td>\n",
       "      <td>C</td>\n",
       "      <td>-1</td>\n",
       "      <td>0.38</td>\n",
       "    </tr>\n",
       "  </tbody>\n",
       "</table>\n",
       "</div>"
      ]
     },
     "execution_count": 209,
     "metadata": {},
     "output_type": "execute_result"
    }
   ],
   "execution_count": 209
  },
  {
   "cell_type": "markdown",
   "metadata": {},
   "source": [
    "**Важно!** Pandas, как и NumPy, является лишь обёрткой на питоне для вычислительно эффективных операций над большими данными. Любое использование циклов в pandas приводит к неэффективности кода. Методы `.apply` и `.map` **медленные**, потому что внутри в цикле применяют питоновскую функцию к элементам таблицы. Старайтесь всегда использовать более эффективные реализации (например, арифметические операторы над столбцами) и прибегать к `.apply` и `.map` только в крайнем случае!"
   ]
  },
  {
   "cell_type": "code",
   "metadata": {
    "ExecuteTime": {
     "end_time": "2024-07-26T14:31:07.418036Z",
     "start_time": "2024-07-26T14:31:04.950159Z"
    }
   },
   "source": [
    "%%timeit\n",
    "df[\"NewAge\"] = df[\"Age\"].apply(lambda age: age / 100)"
   ],
   "outputs": [
    {
     "name": "stdout",
     "output_type": "stream",
     "text": [
      "310 μs ± 65.3 μs per loop (mean ± std. dev. of 7 runs, 1,000 loops each)\n"
     ]
    }
   ],
   "execution_count": 210
  },
  {
   "cell_type": "code",
   "metadata": {
    "ExecuteTime": {
     "end_time": "2024-07-26T14:31:14.595661Z",
     "start_time": "2024-07-26T14:31:07.419122Z"
    }
   },
   "source": [
    "%%timeit\n",
    "df[\"NewAge\"] = df[\"Age\"] / 100"
   ],
   "outputs": [
    {
     "name": "stdout",
     "output_type": "stream",
     "text": [
      "87 μs ± 9.33 μs per loop (mean ± std. dev. of 7 runs, 10,000 loops each)\n"
     ]
    }
   ],
   "execution_count": 211
  },
  {
   "cell_type": "code",
   "metadata": {
    "ExecuteTime": {
     "end_time": "2024-07-26T14:31:14.605538Z",
     "start_time": "2024-07-26T14:31:14.596378Z"
    }
   },
   "source": [
    "# выделим фамилию из данных\n",
    "df[\"Surname\"] = df[\"Name\"].apply(lambda name: name.split(\",\")[0])  # option1\n",
    "df.head()"
   ],
   "outputs": [
    {
     "data": {
      "text/plain": [
       "   PassengerId  Survived  Pclass  \\\n",
       "0            1         0       3   \n",
       "1            2         1       1   \n",
       "2            3         1       3   \n",
       "3            4         1       1   \n",
       "4            5         0       3   \n",
       "\n",
       "                                                  Name     Sex   Age  SibSp  \\\n",
       "0                              Braund, Mr. Owen Harris    male  22.0      1   \n",
       "1  Cumings, Mrs. John Bradley (Florence Briggs Thayer)  female  38.0      1   \n",
       "2                               Heikkinen, Miss. Laina  female  26.0      0   \n",
       "3         Futrelle, Mrs. Jacques Heath (Lily May Peel)  female  35.0      1   \n",
       "4                             Allen, Mr. William Henry    male  35.0      0   \n",
       "\n",
       "   Parch            Ticket     Fare Cabin Embarked  DecodedSex  NewAge  \\\n",
       "0      0         A/5 21171   7.2500   NaN        S           1    0.22   \n",
       "1      0          PC 17599  71.2833   C85        C          -1    0.38   \n",
       "2      0  STON/O2. 3101282   7.9250   NaN        S          -1    0.26   \n",
       "3      0            113803  53.1000  C123        S          -1    0.35   \n",
       "4      0            373450   8.0500   NaN        S           1    0.35   \n",
       "\n",
       "     Surname  \n",
       "0     Braund  \n",
       "1    Cumings  \n",
       "2  Heikkinen  \n",
       "3   Futrelle  \n",
       "4      Allen  "
      ],
      "text/html": [
       "<div>\n",
       "<style scoped>\n",
       "    .dataframe tbody tr th:only-of-type {\n",
       "        vertical-align: middle;\n",
       "    }\n",
       "\n",
       "    .dataframe tbody tr th {\n",
       "        vertical-align: top;\n",
       "    }\n",
       "\n",
       "    .dataframe thead th {\n",
       "        text-align: right;\n",
       "    }\n",
       "</style>\n",
       "<table border=\"1\" class=\"dataframe\">\n",
       "  <thead>\n",
       "    <tr style=\"text-align: right;\">\n",
       "      <th></th>\n",
       "      <th>PassengerId</th>\n",
       "      <th>Survived</th>\n",
       "      <th>Pclass</th>\n",
       "      <th>Name</th>\n",
       "      <th>Sex</th>\n",
       "      <th>Age</th>\n",
       "      <th>SibSp</th>\n",
       "      <th>Parch</th>\n",
       "      <th>Ticket</th>\n",
       "      <th>Fare</th>\n",
       "      <th>Cabin</th>\n",
       "      <th>Embarked</th>\n",
       "      <th>DecodedSex</th>\n",
       "      <th>NewAge</th>\n",
       "      <th>Surname</th>\n",
       "    </tr>\n",
       "  </thead>\n",
       "  <tbody>\n",
       "    <tr>\n",
       "      <th>0</th>\n",
       "      <td>1</td>\n",
       "      <td>0</td>\n",
       "      <td>3</td>\n",
       "      <td>Braund, Mr. Owen Harris</td>\n",
       "      <td>male</td>\n",
       "      <td>22.0</td>\n",
       "      <td>1</td>\n",
       "      <td>0</td>\n",
       "      <td>A/5 21171</td>\n",
       "      <td>7.2500</td>\n",
       "      <td>NaN</td>\n",
       "      <td>S</td>\n",
       "      <td>1</td>\n",
       "      <td>0.22</td>\n",
       "      <td>Braund</td>\n",
       "    </tr>\n",
       "    <tr>\n",
       "      <th>1</th>\n",
       "      <td>2</td>\n",
       "      <td>1</td>\n",
       "      <td>1</td>\n",
       "      <td>Cumings, Mrs. John Bradley (Florence Briggs Thayer)</td>\n",
       "      <td>female</td>\n",
       "      <td>38.0</td>\n",
       "      <td>1</td>\n",
       "      <td>0</td>\n",
       "      <td>PC 17599</td>\n",
       "      <td>71.2833</td>\n",
       "      <td>C85</td>\n",
       "      <td>C</td>\n",
       "      <td>-1</td>\n",
       "      <td>0.38</td>\n",
       "      <td>Cumings</td>\n",
       "    </tr>\n",
       "    <tr>\n",
       "      <th>2</th>\n",
       "      <td>3</td>\n",
       "      <td>1</td>\n",
       "      <td>3</td>\n",
       "      <td>Heikkinen, Miss. Laina</td>\n",
       "      <td>female</td>\n",
       "      <td>26.0</td>\n",
       "      <td>0</td>\n",
       "      <td>0</td>\n",
       "      <td>STON/O2. 3101282</td>\n",
       "      <td>7.9250</td>\n",
       "      <td>NaN</td>\n",
       "      <td>S</td>\n",
       "      <td>-1</td>\n",
       "      <td>0.26</td>\n",
       "      <td>Heikkinen</td>\n",
       "    </tr>\n",
       "    <tr>\n",
       "      <th>3</th>\n",
       "      <td>4</td>\n",
       "      <td>1</td>\n",
       "      <td>1</td>\n",
       "      <td>Futrelle, Mrs. Jacques Heath (Lily May Peel)</td>\n",
       "      <td>female</td>\n",
       "      <td>35.0</td>\n",
       "      <td>1</td>\n",
       "      <td>0</td>\n",
       "      <td>113803</td>\n",
       "      <td>53.1000</td>\n",
       "      <td>C123</td>\n",
       "      <td>S</td>\n",
       "      <td>-1</td>\n",
       "      <td>0.35</td>\n",
       "      <td>Futrelle</td>\n",
       "    </tr>\n",
       "    <tr>\n",
       "      <th>4</th>\n",
       "      <td>5</td>\n",
       "      <td>0</td>\n",
       "      <td>3</td>\n",
       "      <td>Allen, Mr. William Henry</td>\n",
       "      <td>male</td>\n",
       "      <td>35.0</td>\n",
       "      <td>0</td>\n",
       "      <td>0</td>\n",
       "      <td>373450</td>\n",
       "      <td>8.0500</td>\n",
       "      <td>NaN</td>\n",
       "      <td>S</td>\n",
       "      <td>1</td>\n",
       "      <td>0.35</td>\n",
       "      <td>Allen</td>\n",
       "    </tr>\n",
       "  </tbody>\n",
       "</table>\n",
       "</div>"
      ]
     },
     "execution_count": 212,
     "metadata": {},
     "output_type": "execute_result"
    }
   ],
   "execution_count": 212
  },
  {
   "cell_type": "code",
   "metadata": {
    "ExecuteTime": {
     "end_time": "2024-07-26T14:31:14.621378Z",
     "start_time": "2024-07-26T14:31:14.606328Z"
    }
   },
   "source": [
    "df.shape"
   ],
   "outputs": [
    {
     "data": {
      "text/plain": [
       "(891, 15)"
      ]
     },
     "execution_count": 213,
     "metadata": {},
     "output_type": "execute_result"
    }
   ],
   "execution_count": 213
  },
  {
   "cell_type": "code",
   "metadata": {
    "ExecuteTime": {
     "end_time": "2024-07-26T14:31:14.625705Z",
     "start_time": "2024-07-26T14:31:14.622208Z"
    }
   },
   "source": [
    "df.Surname.nunique()"
   ],
   "outputs": [
    {
     "data": {
      "text/plain": [
       "667"
      ]
     },
     "execution_count": 214,
     "metadata": {},
     "output_type": "execute_result"
    }
   ],
   "execution_count": 214
  },
  {
   "cell_type": "code",
   "metadata": {
    "ExecuteTime": {
     "end_time": "2024-07-26T14:31:14.629745Z",
     "start_time": "2024-07-26T14:31:14.626636Z"
    }
   },
   "source": [
    "df[\"Surname\"] = df[\"Name\"].apply(lambda name: name[: name.find(\",\")])  # option 2"
   ],
   "outputs": [],
   "execution_count": 215
  },
  {
   "cell_type": "code",
   "metadata": {
    "ExecuteTime": {
     "end_time": "2024-07-26T14:31:14.635225Z",
     "start_time": "2024-07-26T14:31:14.630909Z"
    }
   },
   "source": [
    "df[\"Surname\"].value_counts().head()"
   ],
   "outputs": [
    {
     "data": {
      "text/plain": [
       "Surname\n",
       "Andersson    9\n",
       "Sage         7\n",
       "Skoog        6\n",
       "Panula       6\n",
       "Carter       6\n",
       "Name: count, dtype: int64"
      ]
     },
     "execution_count": 216,
     "metadata": {},
     "output_type": "execute_result"
    }
   ],
   "execution_count": 216
  },
  {
   "cell_type": "code",
   "metadata": {
    "ExecuteTime": {
     "end_time": "2024-07-26T14:31:14.639673Z",
     "start_time": "2024-07-26T14:31:14.636078Z"
    }
   },
   "source": [
    "df.values  # df -> numpy.array"
   ],
   "outputs": [
    {
     "data": {
      "text/plain": [
       "array([[1, 0, 3, ..., 1, 0.22, 'Braund'],\n",
       "       [2, 1, 1, ..., -1, 0.38, 'Cumings'],\n",
       "       [3, 1, 3, ..., -1, 0.26, 'Heikkinen'],\n",
       "       ...,\n",
       "       [889, 0, 3, ..., -1, nan, 'Johnston'],\n",
       "       [890, 1, 1, ..., 1, 0.26, 'Behr'],\n",
       "       [891, 0, 3, ..., 1, 0.32, 'Dooley']], dtype=object)"
      ]
     },
     "execution_count": 217,
     "metadata": {},
     "output_type": "execute_result"
    }
   ],
   "execution_count": 217
  },
  {
   "cell_type": "code",
   "metadata": {
    "ExecuteTime": {
     "end_time": "2024-07-26T14:31:14.646640Z",
     "start_time": "2024-07-26T14:31:14.640864Z"
    }
   },
   "source": [
    "# Исследуем возраст пассажиров Титаника\n",
    "df.groupby(\"Sex\")[\"Age\"].mean()"
   ],
   "outputs": [
    {
     "data": {
      "text/plain": [
       "Sex\n",
       "female    27.915709\n",
       "male      30.726645\n",
       "Name: Age, dtype: float64"
      ]
     },
     "execution_count": 218,
     "metadata": {},
     "output_type": "execute_result"
    }
   ],
   "execution_count": 218
  },
  {
   "cell_type": "code",
   "metadata": {
    "ExecuteTime": {
     "end_time": "2024-07-26T14:31:16.920282Z",
     "start_time": "2024-07-26T14:31:14.647624Z"
    }
   },
   "source": [
    "# опять же, обращаем внимание на эффективное использование pandas\n",
    "%timeit df.groupby(\"Sex\")[\"Age\"].mean()"
   ],
   "outputs": [
    {
     "name": "stdout",
     "output_type": "stream",
     "text": [
      "284 μs ± 67.8 μs per loop (mean ± std. dev. of 7 runs, 1,000 loops each)\n"
     ]
    }
   ],
   "execution_count": 219
  },
  {
   "cell_type": "code",
   "metadata": {
    "ExecuteTime": {
     "end_time": "2024-07-26T14:31:20.703145Z",
     "start_time": "2024-07-26T14:31:16.921677Z"
    }
   },
   "source": [
    "%timeit df.groupby(\"Sex\")[\"Age\"].apply(np.mean)"
   ],
   "outputs": [
    {
     "name": "stdout",
     "output_type": "stream",
     "text": [
      "458 μs ± 52.4 μs per loop (mean ± std. dev. of 7 runs, 1,000 loops each)\n"
     ]
    }
   ],
   "execution_count": 220
  },
  {
   "cell_type": "code",
   "metadata": {
    "ExecuteTime": {
     "end_time": "2024-07-26T14:31:20.708359Z",
     "start_time": "2024-07-26T14:31:20.704035Z"
    }
   },
   "source": [
    "df.groupby(\"Sex\")[\"Age\"].apply(lambda ages: np.mean(ages) ** 2)"
   ],
   "outputs": [
    {
     "data": {
      "text/plain": [
       "Sex\n",
       "female    779.286798\n",
       "male      944.126688\n",
       "Name: Age, dtype: float64"
      ]
     },
     "execution_count": 221,
     "metadata": {},
     "output_type": "execute_result"
    }
   ],
   "execution_count": 221
  },
  {
   "cell_type": "code",
   "metadata": {
    "ExecuteTime": {
     "end_time": "2024-07-26T14:31:20.722296Z",
     "start_time": "2024-07-26T14:31:20.709134Z"
    }
   },
   "source": [
    "df.groupby(\"Survived\")[\"Age\"].apply(np.mean)"
   ],
   "outputs": [
    {
     "data": {
      "text/plain": [
       "Survived\n",
       "0    30.626179\n",
       "1    28.343690\n",
       "Name: Age, dtype: float64"
      ]
     },
     "execution_count": 222,
     "metadata": {},
     "output_type": "execute_result"
    }
   ],
   "execution_count": 222
  },
  {
   "cell_type": "code",
   "metadata": {
    "ExecuteTime": {
     "end_time": "2024-07-26T14:31:20.733751Z",
     "start_time": "2024-07-26T14:31:20.723226Z"
    }
   },
   "source": [
    "# группировка по нескольким столбцам и агрегация нескольких полей сразу\n",
    "df.groupby([\"Sex\", \"Pclass\"]).agg(avg=(\"Age\", \"mean\"), avg_surv=(\"Survived\", \"mean\"))"
   ],
   "outputs": [
    {
     "data": {
      "text/plain": [
       "                     avg  avg_surv\n",
       "Sex    Pclass                     \n",
       "female 1       34.611765  0.968085\n",
       "       2       28.722973  0.921053\n",
       "       3       21.750000  0.500000\n",
       "male   1       41.281386  0.368852\n",
       "       2       30.740707  0.157407\n",
       "       3       26.507589  0.135447"
      ],
      "text/html": [
       "<div>\n",
       "<style scoped>\n",
       "    .dataframe tbody tr th:only-of-type {\n",
       "        vertical-align: middle;\n",
       "    }\n",
       "\n",
       "    .dataframe tbody tr th {\n",
       "        vertical-align: top;\n",
       "    }\n",
       "\n",
       "    .dataframe thead th {\n",
       "        text-align: right;\n",
       "    }\n",
       "</style>\n",
       "<table border=\"1\" class=\"dataframe\">\n",
       "  <thead>\n",
       "    <tr style=\"text-align: right;\">\n",
       "      <th></th>\n",
       "      <th></th>\n",
       "      <th>avg</th>\n",
       "      <th>avg_surv</th>\n",
       "    </tr>\n",
       "    <tr>\n",
       "      <th>Sex</th>\n",
       "      <th>Pclass</th>\n",
       "      <th></th>\n",
       "      <th></th>\n",
       "    </tr>\n",
       "  </thead>\n",
       "  <tbody>\n",
       "    <tr>\n",
       "      <th rowspan=\"3\" valign=\"top\">female</th>\n",
       "      <th>1</th>\n",
       "      <td>34.611765</td>\n",
       "      <td>0.968085</td>\n",
       "    </tr>\n",
       "    <tr>\n",
       "      <th>2</th>\n",
       "      <td>28.722973</td>\n",
       "      <td>0.921053</td>\n",
       "    </tr>\n",
       "    <tr>\n",
       "      <th>3</th>\n",
       "      <td>21.750000</td>\n",
       "      <td>0.500000</td>\n",
       "    </tr>\n",
       "    <tr>\n",
       "      <th rowspan=\"3\" valign=\"top\">male</th>\n",
       "      <th>1</th>\n",
       "      <td>41.281386</td>\n",
       "      <td>0.368852</td>\n",
       "    </tr>\n",
       "    <tr>\n",
       "      <th>2</th>\n",
       "      <td>30.740707</td>\n",
       "      <td>0.157407</td>\n",
       "    </tr>\n",
       "    <tr>\n",
       "      <th>3</th>\n",
       "      <td>26.507589</td>\n",
       "      <td>0.135447</td>\n",
       "    </tr>\n",
       "  </tbody>\n",
       "</table>\n",
       "</div>"
      ]
     },
     "execution_count": 223,
     "metadata": {},
     "output_type": "execute_result"
    }
   ],
   "execution_count": 223
  },
  {
   "cell_type": "code",
   "metadata": {
    "ExecuteTime": {
     "end_time": "2024-07-26T14:31:20.739274Z",
     "start_time": "2024-07-26T14:31:20.734855Z"
    }
   },
   "source": [
    "# .mean -> .count\n",
    "# В скольких семьях было больше трёх человек?\n",
    "np.sum(df.groupby(\"Surname\")[\"Name\"].count() > 3)"
   ],
   "outputs": [
    {
     "data": {
      "text/plain": [
       "np.int64(22)"
      ]
     },
     "execution_count": 224,
     "metadata": {},
     "output_type": "execute_result"
    }
   ],
   "execution_count": 224
  },
  {
   "cell_type": "code",
   "metadata": {
    "ExecuteTime": {
     "end_time": "2024-07-26T14:33:23.274538Z",
     "start_time": "2024-07-26T14:33:23.241428Z"
    }
   },
   "source": [
    "# Сколько семей, в которых минимальный возраст меньше 10 лет?\n",
    "np.sum(df.groupby(\"Surname\")[\"Age\"].apply(min) < 10)"
   ],
   "outputs": [
    {
     "name": "stderr",
     "output_type": "stream",
     "text": [
      "/tmp/ipykernel_17626/244907101.py:2: FutureWarning: The provided callable <built-in function min> is currently using np.minimum.reduce. In a future version of pandas, the provided callable will be used directly. To keep current behavior pass the string np.minimum.reduce instead.\n",
      "  np.sum(df.groupby(\"Surname\")[\"Age\"].apply(min) < 10)\n"
     ]
    },
    {
     "data": {
      "text/plain": [
       "np.int64(37)"
      ]
     },
     "execution_count": 228,
     "metadata": {},
     "output_type": "execute_result"
    }
   ],
   "execution_count": 228
  },
  {
   "cell_type": "markdown",
   "metadata": {},
   "source": [
    "Снова про индексацию! Как и в numpy, можно индексировать значения булевыми масками."
   ]
  },
  {
   "cell_type": "code",
   "metadata": {
    "ExecuteTime": {
     "end_time": "2024-07-26T14:31:20.782371Z",
     "start_time": "2024-07-26T14:31:20.778311Z"
    }
   },
   "source": [
    "((df[\"Age\"] > 10) & (df[\"Age\"] < 20)).value_counts()"
   ],
   "outputs": [
    {
     "data": {
      "text/plain": [
       "Age\n",
       "False    791\n",
       "True     100\n",
       "Name: count, dtype: int64"
      ]
     },
     "execution_count": 226,
     "metadata": {},
     "output_type": "execute_result"
    }
   ],
   "execution_count": 226
  },
  {
   "cell_type": "code",
   "metadata": {
    "ExecuteTime": {
     "end_time": "2024-07-26T14:31:20.795401Z",
     "start_time": "2024-07-26T14:31:20.783227Z"
    }
   },
   "source": [
    "# пассажиры, удовлетворяющие условию\n",
    "df.loc[(df[\"Age\"] > 10) & (df[\"Age\"] < 20)]"
   ],
   "outputs": [
    {
     "data": {
      "text/plain": [
       "     PassengerId  Survived  Pclass                                  Name  \\\n",
       "9             10         1       2   Nasser, Mrs. Nicholas (Adele Achem)   \n",
       "14            15         0       3  Vestrom, Miss. Hulda Amanda Adolfina   \n",
       "22            23         1       3           McGowan, Miss. Anna \"Annie\"   \n",
       "27            28         0       1        Fortune, Mr. Charles Alexander   \n",
       "38            39         0       3    Vander Planke, Miss. Augusta Maria   \n",
       "..           ...       ...     ...                                   ...   \n",
       "853          854         1       1             Lines, Miss. Mary Conover   \n",
       "855          856         1       3            Aks, Mrs. Sam (Leah Rosen)   \n",
       "875          876         1       3      Najib, Miss. Adele Kiamie \"Jane\"   \n",
       "877          878         0       3                  Petroff, Mr. Nedelio   \n",
       "887          888         1       1          Graham, Miss. Margaret Edith   \n",
       "\n",
       "        Sex   Age  SibSp  Parch    Ticket      Fare        Cabin Embarked  \\\n",
       "9    female  14.0      1      0    237736   30.0708          NaN        C   \n",
       "14   female  14.0      0      0    350406    7.8542          NaN        S   \n",
       "22   female  15.0      0      0    330923    8.0292          NaN        Q   \n",
       "27     male  19.0      3      2     19950  263.0000  C23 C25 C27        S   \n",
       "38   female  18.0      2      0    345764   18.0000          NaN        S   \n",
       "..      ...   ...    ...    ...       ...       ...          ...      ...   \n",
       "853  female  16.0      0      1  PC 17592   39.4000          D28        S   \n",
       "855  female  18.0      0      1    392091    9.3500          NaN        S   \n",
       "875  female  15.0      0      0      2667    7.2250          NaN        C   \n",
       "877    male  19.0      0      0    349212    7.8958          NaN        S   \n",
       "887  female  19.0      0      0    112053   30.0000          B42        S   \n",
       "\n",
       "     DecodedSex  NewAge        Surname  \n",
       "9            -1    0.14         Nasser  \n",
       "14           -1    0.14        Vestrom  \n",
       "22           -1    0.15        McGowan  \n",
       "27            1    0.19        Fortune  \n",
       "38           -1    0.18  Vander Planke  \n",
       "..          ...     ...            ...  \n",
       "853          -1    0.16          Lines  \n",
       "855          -1    0.18            Aks  \n",
       "875          -1    0.15          Najib  \n",
       "877           1    0.19        Petroff  \n",
       "887          -1    0.19         Graham  \n",
       "\n",
       "[100 rows x 15 columns]"
      ],
      "text/html": [
       "<div>\n",
       "<style scoped>\n",
       "    .dataframe tbody tr th:only-of-type {\n",
       "        vertical-align: middle;\n",
       "    }\n",
       "\n",
       "    .dataframe tbody tr th {\n",
       "        vertical-align: top;\n",
       "    }\n",
       "\n",
       "    .dataframe thead th {\n",
       "        text-align: right;\n",
       "    }\n",
       "</style>\n",
       "<table border=\"1\" class=\"dataframe\">\n",
       "  <thead>\n",
       "    <tr style=\"text-align: right;\">\n",
       "      <th></th>\n",
       "      <th>PassengerId</th>\n",
       "      <th>Survived</th>\n",
       "      <th>Pclass</th>\n",
       "      <th>Name</th>\n",
       "      <th>Sex</th>\n",
       "      <th>Age</th>\n",
       "      <th>SibSp</th>\n",
       "      <th>Parch</th>\n",
       "      <th>Ticket</th>\n",
       "      <th>Fare</th>\n",
       "      <th>Cabin</th>\n",
       "      <th>Embarked</th>\n",
       "      <th>DecodedSex</th>\n",
       "      <th>NewAge</th>\n",
       "      <th>Surname</th>\n",
       "    </tr>\n",
       "  </thead>\n",
       "  <tbody>\n",
       "    <tr>\n",
       "      <th>9</th>\n",
       "      <td>10</td>\n",
       "      <td>1</td>\n",
       "      <td>2</td>\n",
       "      <td>Nasser, Mrs. Nicholas (Adele Achem)</td>\n",
       "      <td>female</td>\n",
       "      <td>14.0</td>\n",
       "      <td>1</td>\n",
       "      <td>0</td>\n",
       "      <td>237736</td>\n",
       "      <td>30.0708</td>\n",
       "      <td>NaN</td>\n",
       "      <td>C</td>\n",
       "      <td>-1</td>\n",
       "      <td>0.14</td>\n",
       "      <td>Nasser</td>\n",
       "    </tr>\n",
       "    <tr>\n",
       "      <th>14</th>\n",
       "      <td>15</td>\n",
       "      <td>0</td>\n",
       "      <td>3</td>\n",
       "      <td>Vestrom, Miss. Hulda Amanda Adolfina</td>\n",
       "      <td>female</td>\n",
       "      <td>14.0</td>\n",
       "      <td>0</td>\n",
       "      <td>0</td>\n",
       "      <td>350406</td>\n",
       "      <td>7.8542</td>\n",
       "      <td>NaN</td>\n",
       "      <td>S</td>\n",
       "      <td>-1</td>\n",
       "      <td>0.14</td>\n",
       "      <td>Vestrom</td>\n",
       "    </tr>\n",
       "    <tr>\n",
       "      <th>22</th>\n",
       "      <td>23</td>\n",
       "      <td>1</td>\n",
       "      <td>3</td>\n",
       "      <td>McGowan, Miss. Anna \"Annie\"</td>\n",
       "      <td>female</td>\n",
       "      <td>15.0</td>\n",
       "      <td>0</td>\n",
       "      <td>0</td>\n",
       "      <td>330923</td>\n",
       "      <td>8.0292</td>\n",
       "      <td>NaN</td>\n",
       "      <td>Q</td>\n",
       "      <td>-1</td>\n",
       "      <td>0.15</td>\n",
       "      <td>McGowan</td>\n",
       "    </tr>\n",
       "    <tr>\n",
       "      <th>27</th>\n",
       "      <td>28</td>\n",
       "      <td>0</td>\n",
       "      <td>1</td>\n",
       "      <td>Fortune, Mr. Charles Alexander</td>\n",
       "      <td>male</td>\n",
       "      <td>19.0</td>\n",
       "      <td>3</td>\n",
       "      <td>2</td>\n",
       "      <td>19950</td>\n",
       "      <td>263.0000</td>\n",
       "      <td>C23 C25 C27</td>\n",
       "      <td>S</td>\n",
       "      <td>1</td>\n",
       "      <td>0.19</td>\n",
       "      <td>Fortune</td>\n",
       "    </tr>\n",
       "    <tr>\n",
       "      <th>38</th>\n",
       "      <td>39</td>\n",
       "      <td>0</td>\n",
       "      <td>3</td>\n",
       "      <td>Vander Planke, Miss. Augusta Maria</td>\n",
       "      <td>female</td>\n",
       "      <td>18.0</td>\n",
       "      <td>2</td>\n",
       "      <td>0</td>\n",
       "      <td>345764</td>\n",
       "      <td>18.0000</td>\n",
       "      <td>NaN</td>\n",
       "      <td>S</td>\n",
       "      <td>-1</td>\n",
       "      <td>0.18</td>\n",
       "      <td>Vander Planke</td>\n",
       "    </tr>\n",
       "    <tr>\n",
       "      <th>...</th>\n",
       "      <td>...</td>\n",
       "      <td>...</td>\n",
       "      <td>...</td>\n",
       "      <td>...</td>\n",
       "      <td>...</td>\n",
       "      <td>...</td>\n",
       "      <td>...</td>\n",
       "      <td>...</td>\n",
       "      <td>...</td>\n",
       "      <td>...</td>\n",
       "      <td>...</td>\n",
       "      <td>...</td>\n",
       "      <td>...</td>\n",
       "      <td>...</td>\n",
       "      <td>...</td>\n",
       "    </tr>\n",
       "    <tr>\n",
       "      <th>853</th>\n",
       "      <td>854</td>\n",
       "      <td>1</td>\n",
       "      <td>1</td>\n",
       "      <td>Lines, Miss. Mary Conover</td>\n",
       "      <td>female</td>\n",
       "      <td>16.0</td>\n",
       "      <td>0</td>\n",
       "      <td>1</td>\n",
       "      <td>PC 17592</td>\n",
       "      <td>39.4000</td>\n",
       "      <td>D28</td>\n",
       "      <td>S</td>\n",
       "      <td>-1</td>\n",
       "      <td>0.16</td>\n",
       "      <td>Lines</td>\n",
       "    </tr>\n",
       "    <tr>\n",
       "      <th>855</th>\n",
       "      <td>856</td>\n",
       "      <td>1</td>\n",
       "      <td>3</td>\n",
       "      <td>Aks, Mrs. Sam (Leah Rosen)</td>\n",
       "      <td>female</td>\n",
       "      <td>18.0</td>\n",
       "      <td>0</td>\n",
       "      <td>1</td>\n",
       "      <td>392091</td>\n",
       "      <td>9.3500</td>\n",
       "      <td>NaN</td>\n",
       "      <td>S</td>\n",
       "      <td>-1</td>\n",
       "      <td>0.18</td>\n",
       "      <td>Aks</td>\n",
       "    </tr>\n",
       "    <tr>\n",
       "      <th>875</th>\n",
       "      <td>876</td>\n",
       "      <td>1</td>\n",
       "      <td>3</td>\n",
       "      <td>Najib, Miss. Adele Kiamie \"Jane\"</td>\n",
       "      <td>female</td>\n",
       "      <td>15.0</td>\n",
       "      <td>0</td>\n",
       "      <td>0</td>\n",
       "      <td>2667</td>\n",
       "      <td>7.2250</td>\n",
       "      <td>NaN</td>\n",
       "      <td>C</td>\n",
       "      <td>-1</td>\n",
       "      <td>0.15</td>\n",
       "      <td>Najib</td>\n",
       "    </tr>\n",
       "    <tr>\n",
       "      <th>877</th>\n",
       "      <td>878</td>\n",
       "      <td>0</td>\n",
       "      <td>3</td>\n",
       "      <td>Petroff, Mr. Nedelio</td>\n",
       "      <td>male</td>\n",
       "      <td>19.0</td>\n",
       "      <td>0</td>\n",
       "      <td>0</td>\n",
       "      <td>349212</td>\n",
       "      <td>7.8958</td>\n",
       "      <td>NaN</td>\n",
       "      <td>S</td>\n",
       "      <td>1</td>\n",
       "      <td>0.19</td>\n",
       "      <td>Petroff</td>\n",
       "    </tr>\n",
       "    <tr>\n",
       "      <th>887</th>\n",
       "      <td>888</td>\n",
       "      <td>1</td>\n",
       "      <td>1</td>\n",
       "      <td>Graham, Miss. Margaret Edith</td>\n",
       "      <td>female</td>\n",
       "      <td>19.0</td>\n",
       "      <td>0</td>\n",
       "      <td>0</td>\n",
       "      <td>112053</td>\n",
       "      <td>30.0000</td>\n",
       "      <td>B42</td>\n",
       "      <td>S</td>\n",
       "      <td>-1</td>\n",
       "      <td>0.19</td>\n",
       "      <td>Graham</td>\n",
       "    </tr>\n",
       "  </tbody>\n",
       "</table>\n",
       "<p>100 rows × 15 columns</p>\n",
       "</div>"
      ]
     },
     "execution_count": 227,
     "metadata": {},
     "output_type": "execute_result"
    }
   ],
   "execution_count": 227
  }
 ],
 "metadata": {
  "kernelspec": {
   "display_name": "Python 3 (ipykernel)",
   "language": "python",
   "name": "python3"
  },
  "language_info": {
   "codemirror_mode": {
    "name": "ipython",
    "version": 3
   },
   "file_extension": ".py",
   "mimetype": "text/x-python",
   "name": "python",
   "nbconvert_exporter": "python",
   "pygments_lexer": "ipython3",
   "version": "3.9.10"
  }
 },
 "nbformat": 4,
 "nbformat_minor": 2
}
